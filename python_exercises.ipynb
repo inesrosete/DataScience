{
 "cells": [
  {
   "cell_type": "markdown",
   "metadata": {},
   "source": [
    "# Python Exercises\n",
    "\n",
    "[Inês Rosete](http://www.linkedin.com/in/inesrosete) | January, 2018\n",
    "\n",
    "When I started this work I felt the need to remember some python concepts. Thus, in this notebook I present some exercises of [Codility](https://app.codility.com/programmers/lessons/1-iterations/?target=_blank) and others that I did in the first weeks of work. In the first part I present some Codility exercises and in the second I present random exercises that I did with friends."
   ]
  },
  {
   "cell_type": "markdown",
   "metadata": {
    "collapsed": true
   },
   "source": [
    "___\n",
    "## Codility Exercises\n",
    "___"
   ]
  },
  {
   "cell_type": "markdown",
   "metadata": {},
   "source": [
    "<div class=\"alert alert-success\">\n",
    "<b> Exercise 1 </b><br>\n",
    "\n",
    "<a href=\"https://app.codility.com/programmers/lessons/4-counting_elements/perm_check/\" target=\"_blank\">PermCheck</a> Codility.\n",
    "</div>\n",
    "\n",
    "\n",
    "A non-empty array A consisting of N integers is given.\n",
    "\n",
    "A permutation is a sequence containing each element from 1 to N once, and only once.\n",
    "\n",
    "For example, array A such that:\n",
    "\n",
    "    A[0] = 4\n",
    "    A[1] = 1\n",
    "    A[2] = 3\n",
    "    A[3] = 2\n",
    "is a permutation, but array A such that:\n",
    "\n",
    "    A[0] = 4\n",
    "    A[1] = 1\n",
    "    A[2] = 3\n",
    "is not a permutation, because value 2 is missing.\n",
    "\n",
    "The goal is to check whether array A is a permutation.\n",
    "\n",
    "Write a function:\n",
    "\n",
    "def solution(A)\n",
    "\n",
    "that, given an array A, returns 1 if array A is a permutation and 0 if it is not.\n",
    "\n",
    "For example, given array A such that:\n",
    "\n",
    "    A[0] = 4\n",
    "    A[1] = 1\n",
    "    A[2] = 3\n",
    "    A[3] = 2\n",
    "the function should return 1.\n",
    "\n",
    "Given array A such that:\n",
    "\n",
    "    A[0] = 4\n",
    "    A[1] = 1\n",
    "    A[2] = 3\n",
    "the function should return 0."
   ]
  },
  {
   "cell_type": "code",
   "execution_count": 3,
   "metadata": {
    "collapsed": true
   },
   "outputs": [],
   "source": [
    "def solution(A):\n",
    "\n",
    "    N = len(A)\n",
    "    range1 = list(range(1,N+1))\n",
    "    \n",
    "    if set(A) == set(range1): return 1\n",
    "    else: return 0\n",
    "\n",
    "\n",
    "assert solution([1,2,6]) == 0\n",
    "assert solution([1,2,3]) == 1\n",
    "assert solution([2,2,3]) == 0\n",
    "assert solution([3,2,1]) == 1\n",
    "assert solution([1]) == 1\n",
    "assert solution([2]) == 0\n",
    "assert solution([]) == 1"
   ]
  },
  {
   "cell_type": "markdown",
   "metadata": {},
   "source": [
    "<div class=\"alert alert-success\">\n",
    "<b> Exercise 2 </b><br>\n",
    "\n",
    "<a href=\"https://app.codility.com/programmers/lessons/4-counting_elements/max_counters/\" target=\"_blank\">MaxCounters</a>  Codility.\n",
    "</div>\n",
    "\n",
    "\n",
    "\n",
    "You are given N counters, initially set to 0, and you have two possible operations on them:\n",
    "\n",
    "increase(X) − counter X is increased by 1,\n",
    "max counter − all counters are set to the maximum value of any counter.\n",
    "A non-empty array A of M integers is given. This array represents consecutive operations:\n",
    "\n",
    "if A[K] = X, such that 1 ≤ X ≤ N, then operation K is increase(X),\n",
    "if A[K] = N + 1 then operation K is max counter.\n",
    "For example, given integer N = 5 and array A such that:\n",
    "\n",
    "    A[0] = 3\n",
    "    A[1] = 4\n",
    "    A[2] = 4\n",
    "    A[3] = 6\n",
    "    A[4] = 1\n",
    "    A[5] = 4\n",
    "    A[6] = 4\n",
    "the values of the counters after each consecutive operation will be:\n",
    "\n",
    "    (0, 0, 1, 0, 0)\n",
    "    (0, 0, 1, 1, 0)\n",
    "    (0, 0, 1, 2, 0)\n",
    "    (2, 2, 2, 2, 2)\n",
    "    (3, 2, 2, 2, 2)\n",
    "    (3, 2, 2, 3, 2)\n",
    "    (3, 2, 2, 4, 2)\n",
    "The goal is to calculate the value of every counter after all operations.\n",
    "\n",
    "Write a function:\n",
    "\n",
    "def solution(N, A)\n",
    "\n",
    "that, given an integer N and a non-empty array A consisting of M integers, returns a sequence of integers representing the values of the counters.\n",
    "\n",
    "The sequence should be returned as:\n",
    "\n",
    "a structure Results (in C), or\n",
    "a vector of integers (in C++), or\n",
    "a record Results (in Pascal), or\n",
    "an array of integers (in any other programming language).\n",
    "For example, given:\n",
    "\n",
    "    A[0] = 3\n",
    "    A[1] = 4\n",
    "    A[2] = 4\n",
    "    A[3] = 6\n",
    "    A[4] = 1\n",
    "    A[5] = 4\n",
    "    A[6] = 4\n",
    "the function should return [3, 2, 2, 4, 2], as explained above."
   ]
  },
  {
   "cell_type": "code",
   "execution_count": 4,
   "metadata": {
    "collapsed": true
   },
   "outputs": [],
   "source": [
    "def solution(N,A):\n",
    "    \n",
    "    r = [0]*N\n",
    "    \n",
    "    for x in A:\n",
    "        if 1 <= x <= N:\n",
    "            r[x-1] += 1\n",
    "        else:\n",
    "            r = [max(r)]*N\n",
    "    return r\n",
    "\n",
    "assert solution(5,[3,4,4,6,1,4,4])== [3, 2, 2, 4, 2]"
   ]
  },
  {
   "cell_type": "markdown",
   "metadata": {},
   "source": [
    "<div class=\"alert alert-success\">\n",
    "<b> Exercise 3 </b><br>\n",
    "\n",
    "<a href=\"https://app.codility.com/programmers/lessons/2-arrays/odd_occurrences_in_array/\" target=\"_blank\">OddOccurrencesInArray</a> Codility.\n",
    "\n",
    "</div>"
   ]
  },
  {
   "cell_type": "markdown",
   "metadata": {},
   "source": [
    "A non-empty zero-indexed array A consisting of N integers is given. The array contains an odd number of elements, and each element of the array can be paired with another element that has the same value, except for one element that is left unpaired.\n",
    "\n",
    "For example, in array A such that:\n",
    "\n",
    "```python\n",
    "  A[0] = 9  A[1] = 3  A[2] = 9\n",
    "  A[3] = 3  A[4] = 9  A[5] = 7\n",
    "  A[6] = 9\n",
    "```\n",
    "\n",
    "\n",
    "* the elements at indexes 0 and 2 have value 9,\n",
    "* the elements at indexes 1 and 3 have value 3,\n",
    "* the elements at indexes 4 and 6 have value 9,\n",
    "* the element at index 5 has value 7 and is unpaired.\n",
    "\n",
    "\n",
    "Write a function:\n",
    "\n",
    "```python\n",
    "def solution(A)\n",
    "```\n",
    "\n",
    "that, given an array A consisting of N integers fulfilling the above conditions, returns the value of the unpaired element.\n",
    "\n",
    "For example, given array A such that:\n",
    "\n",
    "```python\n",
    "  A[0] = 9  A[1] = 3  A[2] = 9\n",
    "  A[3] = 3  A[4] = 9  A[5] = 7\n",
    "  A[6] = 9\n",
    "```\n",
    "\n",
    "the function should return 7, as explained in the example above.\n",
    "\n",
    "Assume that:\n",
    "\n",
    "* N is an odd integer within the range [1..1,000,000];\n",
    "* each element of array A is an integer within the range [1..1,000,000,000];\n",
    "* all but one of the values in A occur an even number of times.\n",
    "\n",
    "Complexity:\n",
    "\n",
    "* expected worst-case time complexity is O(N);\n",
    "* expected worst-case space complexity is O(1), beyond input storage (not counting the storage required for input arguments)."
   ]
  },
  {
   "cell_type": "code",
   "execution_count": 5,
   "metadata": {
    "collapsed": true
   },
   "outputs": [],
   "source": [
    "def solution(A):\n",
    "    r={}\n",
    "    for x in A:\n",
    "        if x in r:\n",
    "         r[x] += 1\n",
    "        else:\n",
    "         r[x] = 1\n",
    "    \n",
    "    for x in r:\n",
    "        if r[x] % 2 != 0: return x\n",
    "\n",
    "\n",
    "assert solution([9,7,9,3,9,3,9]) == 7\n",
    "assert solution([1,2,3,3,2,1,2,3,1,3,1,2,9]) == 9\n",
    "assert solution([6,5,9,9,6]) == 5\n",
    "assert solution([1,1,1]) == 1"
   ]
  },
  {
   "cell_type": "markdown",
   "metadata": {},
   "source": [
    "<div class=\"alert alert-success\">\n",
    "<b> Exercise 4 </b><br>\n",
    "\n",
    "<a href=\"https://app.codility.com/programmers/lessons/3-time_complexity/perm_missing_elem/\" target=\"_blank\">PermMissingElem</a> Codility.\n",
    "\n",
    "</div>"
   ]
  },
  {
   "cell_type": "markdown",
   "metadata": {},
   "source": [
    "A zero-indexed array A consisting of N different integers is given. The array contains integers in the range [1..(N + 1)], which means that exactly one element is missing.\n",
    "\n",
    "Your goal is to find that missing element.\n",
    "\n",
    "Write a function:\n",
    "\n",
    "```python\n",
    "def solution(A)\n",
    "```\n",
    "\n",
    "that, given a zero-indexed array A, returns the value of the missing element.\n",
    "\n",
    "For example, given array A such that:\n",
    "\n",
    "```python\n",
    "  A[0] = 2\n",
    "  A[1] = 3\n",
    "  A[2] = 1\n",
    "  A[3] = 5\n",
    "```\n",
    "\n",
    "the function should return 4, as it is the missing element.\n",
    "\n",
    "Assume that:\n",
    "\n",
    "* N is an integer within the range [0..100,000];\n",
    "* the elements of A are all distinct;\n",
    "* each element of array A is an integer within the range [1..(N + 1)]."
   ]
  },
  {
   "cell_type": "code",
   "execution_count": 6,
   "metadata": {
    "collapsed": true
   },
   "outputs": [],
   "source": [
    "def solution(A):\n",
    "    \n",
    "    N = len(A)\n",
    "    rangeA = list(range(1,N+2))\n",
    "    \n",
    "    return set(rangeA).difference(set(A)).pop()\n",
    "\n",
    "\n",
    "assert solution([2,3,1,5]) == 4\n",
    "assert solution([2,3,1,4,6]) == 5\n",
    "assert solution([1]) == 2\n",
    "assert solution([2,3,1]) == 4"
   ]
  },
  {
   "cell_type": "markdown",
   "metadata": {},
   "source": [
    "___\n",
    "## Other Exercises\n",
    "___"
   ]
  },
  {
   "cell_type": "markdown",
   "metadata": {},
   "source": [
    "These are a set of challenges I made when I started learning Python with some friends. Most of the exercises are very trivial!"
   ]
  },
  {
   "cell_type": "markdown",
   "metadata": {},
   "source": [
    "<div class=\"alert alert-success\">\n",
    "<b> Exercise 1 </b><br>\n",
    "\n",
    "Considering the lists x and y, get all the elements of x that are not in y. Do two approaches: using sets and using list comprehension. <br>\n",
    "<ul style=\"list-style-type:circle\">\n",
    "  <li>x = [1, 2, 3, 4, 5]</li>\n",
    "  <li>y = [3, 4, 5, 6, 7]</li>\n",
    "</ul>\n",
    "</div>"
   ]
  },
  {
   "cell_type": "code",
   "execution_count": 14,
   "metadata": {},
   "outputs": [
    {
     "data": {
      "text/plain": [
       "[1, 2]"
      ]
     },
     "execution_count": 14,
     "metadata": {},
     "output_type": "execute_result"
    }
   ],
   "source": [
    "#First approach - using sets\n",
    "\n",
    "x = [1, 2, 3, 4, 5]\n",
    "y = [3, 4, 5, 6, 7]\n",
    "\n",
    "a = set(x)\n",
    "c = set(y)\n",
    "\n",
    "list(a.difference(c))"
   ]
  },
  {
   "cell_type": "code",
   "execution_count": 13,
   "metadata": {},
   "outputs": [
    {
     "data": {
      "text/plain": [
       "[1, 2]"
      ]
     },
     "execution_count": 13,
     "metadata": {},
     "output_type": "execute_result"
    }
   ],
   "source": [
    "#Second approach - using list comprehension\n",
    "\n",
    "[k for k in x if k not in y]"
   ]
  },
  {
   "cell_type": "markdown",
   "metadata": {},
   "source": [
    "<div class=\"alert alert-success\">\n",
    "<b> Exercise 2 </b><br>\n",
    "\n",
    "Browsing the dictionary to obtain, for each dictionary entry, a string with the following format: '1 is \"one\", and could be 1.00'. <br>\n",
    "<ul style=\"list-style-type:circle\">\n",
    "  <li>d = {1: 'one', 2: 'two', 3: 'three', 4: 'four'}</li>\n",
    "</ul>\n",
    "</div>"
   ]
  },
  {
   "cell_type": "code",
   "execution_count": 15,
   "metadata": {},
   "outputs": [
    {
     "name": "stdout",
     "output_type": "stream",
     "text": [
      "1 is \" one \", and could be 1.00\n",
      "2 is \" two \", and could be 2.00\n",
      "3 is \"three\", and could be 3.00\n",
      "4 is \"four \", and could be 4.00\n"
     ]
    }
   ],
   "source": [
    "d = {1: 'one', 2: 'two', 3: 'three', 4: 'four'}\n",
    "\n",
    "for k,v in d.items():\n",
    "    print('{0} is \"{1:^5}\", and could be {0:.2f}'.format(k,v))"
   ]
  },
  {
   "cell_type": "markdown",
   "metadata": {},
   "source": [
    "<div class=\"alert alert-success\">\n",
    "<b> Exercise 3 </b><br>\n",
    "\n",
    "Calculate the frequency distribution for each character in s. <br>\n",
    "<ul style=\"list-style-type:circle\">\n",
    "  <li>s = 'this is a string, am I right?'</li>\n",
    "</ul>\n",
    "</div>"
   ]
  },
  {
   "cell_type": "code",
   "execution_count": 22,
   "metadata": {},
   "outputs": [
    {
     "name": "stdout",
     "output_type": "stream",
     "text": [
      "['t', 'h', 'i', 's', ' ', 'i', 's', ' ', 'a', ' ', 's', 't', 'r', 'i', 'n', 'g', ',', ' ', 'a', 'm', ' ', 'I', ' ', 'r', 'i', 'g', 'h', 't', '?']\n"
     ]
    }
   ],
   "source": [
    "#Approach - create a list with each character of the string s and then determine the frequency of each one.\n",
    "\n",
    "s = 'this is a string, am I right?'\n",
    "\n",
    "print(list(s))"
   ]
  },
  {
   "cell_type": "code",
   "execution_count": 11,
   "metadata": {},
   "outputs": [
    {
     "name": "stdout",
     "output_type": "stream",
     "text": [
      "{'t': 3, 'h': 2, 'i': 4, 's': 3, ' ': 6, 'a': 2, 'r': 2, 'n': 1, 'g': 2, ',': 1, 'm': 1, 'I': 1, '?': 1}\n"
     ]
    }
   ],
   "source": [
    "r={}\n",
    "for t in list(s):\n",
    "    if t in r:\n",
    "     r[t] += 1\n",
    "    else:\n",
    "     r[t] = 1\n",
    "    \n",
    "print(r)"
   ]
  },
  {
   "cell_type": "markdown",
   "metadata": {},
   "source": [
    "<div class=\"alert alert-success\">\n",
    "<b> Exercise 4 </b><br>\n",
    "\n",
    "Implement the Fibonacci Sequence\n",
    "\n",
    "</div>"
   ]
  },
  {
   "cell_type": "code",
   "execution_count": 20,
   "metadata": {},
   "outputs": [
    {
     "data": {
      "text/plain": [
       "3"
      ]
     },
     "execution_count": 20,
     "metadata": {},
     "output_type": "execute_result"
    }
   ],
   "source": [
    "#First approach - using function\n",
    "\n",
    "import math\n",
    "\n",
    "def fib(x):\n",
    "    if x == 0: return 0\n",
    "    elif x == 1:return 1\n",
    "    else: return fib(x-1)+fib(x-2)\n",
    "    \n",
    "fib(4)"
   ]
  },
  {
   "cell_type": "code",
   "execution_count": 8,
   "metadata": {},
   "outputs": [
    {
     "name": "stdout",
     "output_type": "stream",
     "text": [
      "4\n",
      "F(4) é 3\n"
     ]
    }
   ],
   "source": [
    "#Seconf approach - using while\n",
    "\n",
    "a = 0\n",
    "b = 1\n",
    "n = int(input())\n",
    "\n",
    "if n == 0:\n",
    "    b = a\n",
    "elif n > 1:\n",
    "    x = 2\n",
    "    while x <= n:\n",
    "            last_a = a\n",
    "            a = b\n",
    "            b = last_a + b\n",
    "            x+=1\n",
    "            \n",
    "print('F({0}) é {1}'.format(n, b))"
   ]
  },
  {
   "cell_type": "markdown",
   "metadata": {},
   "source": [
    "<div class=\"alert alert-success\">\n",
    "<b> Exercise 5 </b><br>\n",
    "\n",
    "Use the input () function to get a terminal number (it stays as a string) and then print the binary representation of that number <br>\n",
    "    http://interactivepython.org/runestone/static/pythonds/BasicDS/ConvertingDecimalNumberstoBinaryNumbers.html <br>\n",
    "<ul style=\"list-style-type:circle\">\n",
    "  <li>decimal = input()</li>\n",
    "</ul>\n",
    "</div>"
   ]
  },
  {
   "cell_type": "code",
   "execution_count": 21,
   "metadata": {},
   "outputs": [
    {
     "name": "stdout",
     "output_type": "stream",
     "text": [
      "45\n",
      "[1, 0, 1, 1, 0, 1]\n"
     ]
    }
   ],
   "source": [
    "decimal = int(input())\n",
    "li = []\n",
    "\n",
    "while decimal > 0:\n",
    "    resto_divisao = decimal % 2\n",
    "    parte_inteira_divisao = decimal // 2\n",
    "    li.append(resto_divisao)\n",
    "    decimal = parte_inteira_divisao\n",
    "    \n",
    "print(li[::-1])"
   ]
  },
  {
   "cell_type": "markdown",
   "metadata": {},
   "source": [
    "Lastly I would like to thank you for reading the document to the end. Please let me know your thoughts!"
   ]
  },
  {
   "cell_type": "markdown",
   "metadata": {
    "ExecuteTime": {
     "end_time": "2018-06-18T23:45:57.548125Z",
     "start_time": "2018-06-18T23:45:57.526019Z"
    },
    "collapsed": true
   },
   "source": [
    "___"
   ]
  },
  {
   "cell_type": "markdown",
   "metadata": {},
   "source": [
    "## You may also like"
   ]
  },
  {
   "cell_type": "markdown",
   "metadata": {},
   "source": [
    "* [Flight Delays Exploration](https://github.com/inesrosete/DataScience/blob/master/flight_delays_exploration.ipynb)\n",
    "* [Titanic Exploration]() (Available soon)"
   ]
  },
  {
   "cell_type": "markdown",
   "metadata": {},
   "source": [
    "___"
   ]
  },
  {
   "cell_type": "markdown",
   "metadata": {},
   "source": [
    "## Acknowledgments"
   ]
  },
  {
   "cell_type": "markdown",
   "metadata": {},
   "source": [
    "I would like to thank Luís Silva and João Neto for the support and help they had during the execution of the first draft of this challenge in January'18."
   ]
  },
  {
   "cell_type": "markdown",
   "metadata": {},
   "source": [
    "___\n",
    "[Inês Rosete](http://www.linkedin.com/in/inesrosete) | Last editing **May 2018 ** "
   ]
  },
  {
   "cell_type": "code",
   "execution_count": null,
   "metadata": {
    "collapsed": true
   },
   "outputs": [],
   "source": []
  }
 ],
 "metadata": {
  "kernelspec": {
   "display_name": "Python 3",
   "language": "python",
   "name": "python3"
  },
  "language_info": {
   "codemirror_mode": {
    "name": "ipython",
    "version": 3
   },
   "file_extension": ".py",
   "mimetype": "text/x-python",
   "name": "python",
   "nbconvert_exporter": "python",
   "pygments_lexer": "ipython3",
   "version": "3.6.3"
  },
  "toc": {
   "base_numbering": 1,
   "nav_menu": {},
   "number_sections": false,
   "sideBar": true,
   "skip_h1_title": false,
   "title_cell": "Table of Contents",
   "title_sidebar": "Contents",
   "toc_cell": false,
   "toc_position": {},
   "toc_section_display": true,
   "toc_window_display": true
  }
 },
 "nbformat": 4,
 "nbformat_minor": 2
}
