{
 "cells": [
  {
   "cell_type": "markdown",
   "metadata": {},
   "source": [
    "# Flight Delays Exploration\n",
    "\n",
    "[Inês Rosete](http://www.linkedin.com/in/inesrosete) | April, 2018\n",
    "\n",
    "The analysis I'm going to perform is based on [2015 Flight Delays and Cancellations](https://www.kaggle.com/usdot/flight-delays) Kaggle's challenge. I used this challenge to learn / practice pandas (it was my first big challenge!), **exploratory data analysis** and **feature engineering** techniques. Topics like **temporal analysis**, **feature selection** and **logistic regression** also will be addressed. This notebook has been divided into three main sections. The first part deals with the development of a baseline model. Afterwards, I will go into detail, through data analysis and feature engineering, to improve the performance of the model. Finally, I will present a logistic regression and the conclusions drawn from it.\n",
    "\n",
    "\n",
    "**Note:** So that the data fits in memory, in this notebook, I decided to work only with data until June (inc). I.e., 6 months of flights information. The data structure is the same and can be obtained [here](https://www.kaggle.com/usdot/flight-delays/data)."
   ]
  },
  {
   "cell_type": "markdown",
   "metadata": {
    "toc": true
   },
   "source": [
    "<h1>Table of Contents<span class=\"tocSkip\"></span></h1>\n",
    "<div class=\"toc\"><ul class=\"toc-item\"><li><span><a href=\"#Section-A\" data-toc-modified-id=\"Section-A-1\">Section A</a></span><ul class=\"toc-item\"><li><span><a href=\"#A1.-Read-datasets\" data-toc-modified-id=\"A1.-Read-datasets-1.1\">A1. Read datasets</a></span></li><li><span><a href=\"#A2.-Flights-Dataset-statistics\" data-toc-modified-id=\"A2.-Flights-Dataset-statistics-1.2\">A2. Flights Dataset statistics</a></span><ul class=\"toc-item\"><li><span><a href=\"#A2.1-Target-variable\" data-toc-modified-id=\"A2.1-Target-variable-1.2.1\">A2.1 Target variable</a></span></li><li><span><a href=\"#A2.2-Data-types\" data-toc-modified-id=\"A2.2-Data-types-1.2.2\">A2.2 Data types</a></span></li><li><span><a href=\"#A2.3-Detailed-statistics-for-each-column\" data-toc-modified-id=\"A2.3-Detailed-statistics-for-each-column-1.2.3\">A2.3 Detailed statistics for each column</a></span></li><li><span><a href=\"#A2.4-Null-values\" data-toc-modified-id=\"A2.4-Null-values-1.2.4\">A2.4 Null values</a></span></li></ul></li><li><span><a href=\"#A3.-Build-baseline\" data-toc-modified-id=\"A3.-Build-baseline-1.3\">A3. Build baseline</a></span><ul class=\"toc-item\"><li><span><a href=\"#A3.1-Data-preparation\" data-toc-modified-id=\"A3.1-Data-preparation-1.3.1\">A3.1 Data preparation</a></span></li><li><span><a href=\"#A3.2-Build-model\" data-toc-modified-id=\"A3.2-Build-model-1.3.2\">A3.2 Build model</a></span></li><li><span><a href=\"#A3.3-Assessing-model-performance\" data-toc-modified-id=\"A3.3-Assessing-model-performance-1.3.3\">A3.3 Assessing model performance</a></span></li></ul></li></ul></li><li><span><a href=\"#Section-B\" data-toc-modified-id=\"Section-B-2\">Section B</a></span><ul class=\"toc-item\"><li><span><a href=\"#B1.-Data-understanding\" data-toc-modified-id=\"B1.-Data-understanding-2.1\">B1. Data understanding</a></span><ul class=\"toc-item\"><li><span><a href=\"#B1.1-Build-timestamp-field\" data-toc-modified-id=\"B1.1-Build-timestamp-field-2.1.1\">B1.1 Build timestamp field</a></span></li><li><span><a href=\"#B1.2-Remove-unnecessary-columns\" data-toc-modified-id=\"B1.2-Remove-unnecessary-columns-2.1.2\">B1.2 Remove unnecessary columns</a></span></li><li><span><a href=\"#B1.3-Delayed-flight-information\" data-toc-modified-id=\"B1.3-Delayed-flight-information-2.1.3\">B1.3 Delayed flight information</a></span></li><li><span><a href=\"#B1.4-Temporal-analysis\" data-toc-modified-id=\"B1.4-Temporal-analysis-2.1.4\">B1.4 Temporal analysis</a></span></li><li><span><a href=\"#B1.5-Including-context-information\" data-toc-modified-id=\"B1.5-Including-context-information-2.1.5\">B1.5 Including context information</a></span></li></ul></li><li><span><a href=\"#B2.-Feature-engineering\" data-toc-modified-id=\"B2.-Feature-engineering-2.2\">B2. Feature engineering</a></span><ul class=\"toc-item\"><li><span><a href=\"#B2.1-Historical-data\" data-toc-modified-id=\"B2.1-Historical-data-2.2.1\">B2.1 Historical data</a></span></li><li><span><a href=\"#B2.2-New-temporal-features\" data-toc-modified-id=\"B2.2-New-temporal-features-2.2.2\">B2.2 New temporal features</a></span></li><li><span><a href=\"#B2.3-Risky-features-and-OHE\" data-toc-modified-id=\"B2.3-Risky-features-and-OHE-2.2.3\">B2.3 Risky features and OHE</a></span></li><li><span><a href=\"#B2.4-Normalization\" data-toc-modified-id=\"B2.4-Normalization-2.2.4\">B2.4 Normalization</a></span></li><li><span><a href=\"#B2.5-Remove-unnecessary-columns\" data-toc-modified-id=\"B2.5-Remove-unnecessary-columns-2.2.5\">B2.5 Remove unnecessary columns</a></span></li></ul></li></ul></li><li><span><a href=\"#Section-C\" data-toc-modified-id=\"Section-C-3\">Section C</a></span><ul class=\"toc-item\"><li><span><a href=\"#C1.-Fill-NaNs\" data-toc-modified-id=\"C1.-Fill-NaNs-3.1\">C1. Fill NaNs</a></span></li><li><span><a href=\"#C2.-Build-logistic-regression\" data-toc-modified-id=\"C2.-Build-logistic-regression-3.2\">C2. Build logistic regression</a></span></li><li><span><a href=\"#C3.-Build-decision-tree\" data-toc-modified-id=\"C3.-Build-decision-tree-3.3\">C3. Build decision tree</a></span></li><li><span><a href=\"#C4.-Conclusion\" data-toc-modified-id=\"C4.-Conclusion-3.4\">C4. Conclusion</a></span></li></ul></li><li><span><a href=\"#You-may-also-like\" data-toc-modified-id=\"You-may-also-like-4\">You may also like</a></span></li><li><span><a href=\"#Acknowledgments\" data-toc-modified-id=\"Acknowledgments-5\">Acknowledgments</a></span></li></ul></div>"
   ]
  },
  {
   "cell_type": "markdown",
   "metadata": {},
   "source": [
    "___\n",
    "Let's start by loading all the dependencies we will need."
   ]
  },
  {
   "cell_type": "code",
   "execution_count": 3,
   "metadata": {
    "ExecuteTime": {
     "end_time": "2018-06-18T23:40:04.293962Z",
     "start_time": "2018-06-18T23:39:37.888828Z"
    },
    "collapsed": true
   },
   "outputs": [],
   "source": [
    "import math\n",
    "import datetime\n",
    "import numpy as np\n",
    "import pandas as pd\n",
    "import matplotlib.pyplot as plt\n",
    "import seaborn as sns\n",
    "import scipy as sp\n",
    "\n",
    "from os import listdir\n",
    "from os.path import isfile, join\n",
    "from sklearn import linear_model\n",
    "from pandas import Series\n",
    "\n",
    "from sklearn.linear_model import LogisticRegression\n",
    "from sklearn.tree import DecisionTreeClassifier\n",
    "\n",
    "# inline matplotlib plots\n",
    "%matplotlib inline\n",
    "plt.rcParams['figure.figsize'] = 8, 6  # default image size\n",
    "\n",
    "# all pandas prints will have this format\n",
    "pd.options.display.float_format = '{:,.3f}'.format\n",
    "pd.set_option(\"display.max_columns\", 100)\n",
    "pd.set_option('display.max_rows', 200)"
   ]
  },
  {
   "cell_type": "markdown",
   "metadata": {},
   "source": [
    "## Section A"
   ]
  },
  {
   "cell_type": "markdown",
   "metadata": {},
   "source": [
    "___\n",
    "### A1. Read datasets\n",
    "___"
   ]
  },
  {
   "cell_type": "markdown",
   "metadata": {},
   "source": [
    "Now it is time to get a clear and concise picture of what is inside of each dataset and what we can do with it. There are three datasets:\n",
    "* **`airlines`**\n",
    "* **`airports`**\n",
    "* **`flights_until_june`**"
   ]
  },
  {
   "cell_type": "code",
   "execution_count": 4,
   "metadata": {
    "ExecuteTime": {
     "end_time": "2018-06-18T23:40:24.153840Z",
     "start_time": "2018-06-18T23:40:04.297908Z"
    },
    "collapsed": true
   },
   "outputs": [],
   "source": [
    "path = 'data'\n",
    "\n",
    "airlines = pd.read_csv(join(path, 'airlines.csv'))\n",
    "airports = pd.read_csv(join(path, 'airports.csv'))\n",
    "# I'm specifiying different types for each column due to memory consumption\n",
    "flights =  pd.read_csv(join(path, 'flights_until_june.csv'),\n",
    "                     dtype={'air_system_delay': 'float32',\n",
    "                            'air_time': 'float32',\n",
    "                            'airline': 'category',\n",
    "                            'airline_delay': 'float32',\n",
    "                            'arrival_delay': 'float32',\n",
    "                            'arrival_time': 'float32',\n",
    "                            'cancellation_reason': 'category',\n",
    "                            'cancelled': 'bool',\n",
    "                            'day': 'int32',\n",
    "                            'day_of_week': 'int32',\n",
    "                            'departure_delay': 'float32',\n",
    "                            'departure_time': 'float32',\n",
    "                            'destination_airport': 'object',\n",
    "                            'distance': 'int32',\n",
    "                            'diverted': 'bool',\n",
    "                            'elapsed_time': 'float32',\n",
    "                            'flight_number': 'int32',\n",
    "                            'late_aircraft_delay': 'float32',\n",
    "                            'month': 'int32',\n",
    "                            'origin_airport': 'object',\n",
    "                            'scheduled_arrival': 'float32',\n",
    "                            'scheduled_departure': 'float32',\n",
    "                            'scheduled_time': 'float32',\n",
    "                            'security_delay': 'float32',\n",
    "                            'tail_number': 'object',\n",
    "                            'taxi_in': 'float32',\n",
    "                            'taxi_out': 'float32',\n",
    "                            'weather_delay': 'float32',\n",
    "                            'wheels_off': 'float32',\n",
    "                            'wheels_on': 'float32',\n",
    "                            'year': 'int32'}\n",
    "    )"
   ]
  },
  {
   "cell_type": "markdown",
   "metadata": {},
   "source": [
    "Before we continue, let's confirm whether the number of rows and columns per dataset are the expected."
   ]
  },
  {
   "cell_type": "code",
   "execution_count": 5,
   "metadata": {
    "ExecuteTime": {
     "end_time": "2018-06-18T23:40:24.581759Z",
     "start_time": "2018-06-18T23:40:24.269656Z"
    }
   },
   "outputs": [
    {
     "name": "stdout",
     "output_type": "stream",
     "text": [
      "airlines: (14, 2)\n",
      "airports: (322, 7)\n",
      "flights: (2889512, 31)\n"
     ]
    }
   ],
   "source": [
    "assert airlines.shape == (14, 2)\n",
    "assert airports.shape == (322, 7)\n",
    "assert flights.shape == (2889512, 31)\n",
    "\n",
    "print('airlines:', airlines.shape)\n",
    "print('airports:', airports.shape)\n",
    "print('flights:', flights.shape)"
   ]
  },
  {
   "cell_type": "markdown",
   "metadata": {
    "collapsed": true
   },
   "source": [
    "Ok, let's have a glance on the data and check if everything looks right."
   ]
  },
  {
   "cell_type": "code",
   "execution_count": 4,
   "metadata": {
    "ExecuteTime": {
     "end_time": "2018-06-18T22:26:26.191619Z",
     "start_time": "2018-06-18T22:26:26.174923Z"
    }
   },
   "outputs": [
    {
     "data": {
      "text/html": [
       "<div>\n",
       "<style scoped>\n",
       "    .dataframe tbody tr th:only-of-type {\n",
       "        vertical-align: middle;\n",
       "    }\n",
       "\n",
       "    .dataframe tbody tr th {\n",
       "        vertical-align: top;\n",
       "    }\n",
       "\n",
       "    .dataframe thead th {\n",
       "        text-align: right;\n",
       "    }\n",
       "</style>\n",
       "<table border=\"1\" class=\"dataframe\">\n",
       "  <thead>\n",
       "    <tr style=\"text-align: right;\">\n",
       "      <th></th>\n",
       "      <th>iata_code</th>\n",
       "      <th>airline</th>\n",
       "    </tr>\n",
       "  </thead>\n",
       "  <tbody>\n",
       "    <tr>\n",
       "      <th>0</th>\n",
       "      <td>UA</td>\n",
       "      <td>United Air Lines Inc.</td>\n",
       "    </tr>\n",
       "    <tr>\n",
       "      <th>1</th>\n",
       "      <td>AA</td>\n",
       "      <td>American Airlines Inc.</td>\n",
       "    </tr>\n",
       "    <tr>\n",
       "      <th>2</th>\n",
       "      <td>US</td>\n",
       "      <td>US Airways Inc.</td>\n",
       "    </tr>\n",
       "    <tr>\n",
       "      <th>3</th>\n",
       "      <td>F9</td>\n",
       "      <td>Frontier Airlines Inc.</td>\n",
       "    </tr>\n",
       "    <tr>\n",
       "      <th>4</th>\n",
       "      <td>B6</td>\n",
       "      <td>JetBlue Airways</td>\n",
       "    </tr>\n",
       "    <tr>\n",
       "      <th>5</th>\n",
       "      <td>OO</td>\n",
       "      <td>Skywest Airlines Inc.</td>\n",
       "    </tr>\n",
       "    <tr>\n",
       "      <th>6</th>\n",
       "      <td>AS</td>\n",
       "      <td>Alaska Airlines Inc.</td>\n",
       "    </tr>\n",
       "    <tr>\n",
       "      <th>7</th>\n",
       "      <td>NK</td>\n",
       "      <td>Spirit Air Lines</td>\n",
       "    </tr>\n",
       "    <tr>\n",
       "      <th>8</th>\n",
       "      <td>WN</td>\n",
       "      <td>Southwest Airlines Co.</td>\n",
       "    </tr>\n",
       "    <tr>\n",
       "      <th>9</th>\n",
       "      <td>DL</td>\n",
       "      <td>Delta Air Lines Inc.</td>\n",
       "    </tr>\n",
       "    <tr>\n",
       "      <th>10</th>\n",
       "      <td>EV</td>\n",
       "      <td>Atlantic Southeast Airlines</td>\n",
       "    </tr>\n",
       "    <tr>\n",
       "      <th>11</th>\n",
       "      <td>HA</td>\n",
       "      <td>Hawaiian Airlines Inc.</td>\n",
       "    </tr>\n",
       "    <tr>\n",
       "      <th>12</th>\n",
       "      <td>MQ</td>\n",
       "      <td>American Eagle Airlines Inc.</td>\n",
       "    </tr>\n",
       "    <tr>\n",
       "      <th>13</th>\n",
       "      <td>VX</td>\n",
       "      <td>Virgin America</td>\n",
       "    </tr>\n",
       "  </tbody>\n",
       "</table>\n",
       "</div>"
      ],
      "text/plain": [
       "   iata_code                       airline\n",
       "0         UA         United Air Lines Inc.\n",
       "1         AA        American Airlines Inc.\n",
       "2         US               US Airways Inc.\n",
       "3         F9        Frontier Airlines Inc.\n",
       "4         B6               JetBlue Airways\n",
       "5         OO         Skywest Airlines Inc.\n",
       "6         AS          Alaska Airlines Inc.\n",
       "7         NK              Spirit Air Lines\n",
       "8         WN        Southwest Airlines Co.\n",
       "9         DL          Delta Air Lines Inc.\n",
       "10        EV   Atlantic Southeast Airlines\n",
       "11        HA        Hawaiian Airlines Inc.\n",
       "12        MQ  American Eagle Airlines Inc.\n",
       "13        VX                Virgin America"
      ]
     },
     "execution_count": 4,
     "metadata": {},
     "output_type": "execute_result"
    }
   ],
   "source": [
    "airlines"
   ]
  },
  {
   "cell_type": "code",
   "execution_count": 5,
   "metadata": {
    "ExecuteTime": {
     "end_time": "2018-06-18T22:26:26.212623Z",
     "start_time": "2018-06-18T22:26:26.194134Z"
    }
   },
   "outputs": [
    {
     "data": {
      "text/html": [
       "<div>\n",
       "<style scoped>\n",
       "    .dataframe tbody tr th:only-of-type {\n",
       "        vertical-align: middle;\n",
       "    }\n",
       "\n",
       "    .dataframe tbody tr th {\n",
       "        vertical-align: top;\n",
       "    }\n",
       "\n",
       "    .dataframe thead th {\n",
       "        text-align: right;\n",
       "    }\n",
       "</style>\n",
       "<table border=\"1\" class=\"dataframe\">\n",
       "  <thead>\n",
       "    <tr style=\"text-align: right;\">\n",
       "      <th></th>\n",
       "      <th>iata_code</th>\n",
       "      <th>airport</th>\n",
       "      <th>city</th>\n",
       "      <th>state</th>\n",
       "      <th>country</th>\n",
       "      <th>latitude</th>\n",
       "      <th>longitude</th>\n",
       "    </tr>\n",
       "  </thead>\n",
       "  <tbody>\n",
       "    <tr>\n",
       "      <th>0</th>\n",
       "      <td>ABE</td>\n",
       "      <td>Lehigh Valley International Airport</td>\n",
       "      <td>Allentown</td>\n",
       "      <td>PA</td>\n",
       "      <td>USA</td>\n",
       "      <td>40.652</td>\n",
       "      <td>-75.440</td>\n",
       "    </tr>\n",
       "    <tr>\n",
       "      <th>1</th>\n",
       "      <td>ABI</td>\n",
       "      <td>Abilene Regional Airport</td>\n",
       "      <td>Abilene</td>\n",
       "      <td>TX</td>\n",
       "      <td>USA</td>\n",
       "      <td>32.411</td>\n",
       "      <td>-99.682</td>\n",
       "    </tr>\n",
       "    <tr>\n",
       "      <th>2</th>\n",
       "      <td>ABQ</td>\n",
       "      <td>Albuquerque International Sunport</td>\n",
       "      <td>Albuquerque</td>\n",
       "      <td>NM</td>\n",
       "      <td>USA</td>\n",
       "      <td>35.040</td>\n",
       "      <td>-106.609</td>\n",
       "    </tr>\n",
       "    <tr>\n",
       "      <th>3</th>\n",
       "      <td>ABR</td>\n",
       "      <td>Aberdeen Regional Airport</td>\n",
       "      <td>Aberdeen</td>\n",
       "      <td>SD</td>\n",
       "      <td>USA</td>\n",
       "      <td>45.449</td>\n",
       "      <td>-98.422</td>\n",
       "    </tr>\n",
       "    <tr>\n",
       "      <th>4</th>\n",
       "      <td>ABY</td>\n",
       "      <td>Southwest Georgia Regional Airport</td>\n",
       "      <td>Albany</td>\n",
       "      <td>GA</td>\n",
       "      <td>USA</td>\n",
       "      <td>31.536</td>\n",
       "      <td>-84.194</td>\n",
       "    </tr>\n",
       "    <tr>\n",
       "      <th>5</th>\n",
       "      <td>ACK</td>\n",
       "      <td>Nantucket Memorial Airport</td>\n",
       "      <td>Nantucket</td>\n",
       "      <td>MA</td>\n",
       "      <td>USA</td>\n",
       "      <td>41.253</td>\n",
       "      <td>-70.060</td>\n",
       "    </tr>\n",
       "    <tr>\n",
       "      <th>6</th>\n",
       "      <td>ACT</td>\n",
       "      <td>Waco Regional Airport</td>\n",
       "      <td>Waco</td>\n",
       "      <td>TX</td>\n",
       "      <td>USA</td>\n",
       "      <td>31.611</td>\n",
       "      <td>-97.231</td>\n",
       "    </tr>\n",
       "    <tr>\n",
       "      <th>7</th>\n",
       "      <td>ACV</td>\n",
       "      <td>Arcata Airport</td>\n",
       "      <td>Arcata/Eureka</td>\n",
       "      <td>CA</td>\n",
       "      <td>USA</td>\n",
       "      <td>40.978</td>\n",
       "      <td>-124.109</td>\n",
       "    </tr>\n",
       "    <tr>\n",
       "      <th>8</th>\n",
       "      <td>ACY</td>\n",
       "      <td>Atlantic City International Airport</td>\n",
       "      <td>Atlantic City</td>\n",
       "      <td>NJ</td>\n",
       "      <td>USA</td>\n",
       "      <td>39.458</td>\n",
       "      <td>-74.577</td>\n",
       "    </tr>\n",
       "    <tr>\n",
       "      <th>9</th>\n",
       "      <td>ADK</td>\n",
       "      <td>Adak Airport</td>\n",
       "      <td>Adak</td>\n",
       "      <td>AK</td>\n",
       "      <td>USA</td>\n",
       "      <td>51.878</td>\n",
       "      <td>-176.646</td>\n",
       "    </tr>\n",
       "  </tbody>\n",
       "</table>\n",
       "</div>"
      ],
      "text/plain": [
       "  iata_code                              airport           city state country  \\\n",
       "0       ABE  Lehigh Valley International Airport      Allentown    PA     USA   \n",
       "1       ABI             Abilene Regional Airport        Abilene    TX     USA   \n",
       "2       ABQ    Albuquerque International Sunport    Albuquerque    NM     USA   \n",
       "3       ABR            Aberdeen Regional Airport       Aberdeen    SD     USA   \n",
       "4       ABY   Southwest Georgia Regional Airport         Albany    GA     USA   \n",
       "5       ACK           Nantucket Memorial Airport      Nantucket    MA     USA   \n",
       "6       ACT                Waco Regional Airport           Waco    TX     USA   \n",
       "7       ACV                       Arcata Airport  Arcata/Eureka    CA     USA   \n",
       "8       ACY  Atlantic City International Airport  Atlantic City    NJ     USA   \n",
       "9       ADK                         Adak Airport           Adak    AK     USA   \n",
       "\n",
       "   latitude  longitude  \n",
       "0    40.652    -75.440  \n",
       "1    32.411    -99.682  \n",
       "2    35.040   -106.609  \n",
       "3    45.449    -98.422  \n",
       "4    31.536    -84.194  \n",
       "5    41.253    -70.060  \n",
       "6    31.611    -97.231  \n",
       "7    40.978   -124.109  \n",
       "8    39.458    -74.577  \n",
       "9    51.878   -176.646  "
      ]
     },
     "execution_count": 5,
     "metadata": {},
     "output_type": "execute_result"
    }
   ],
   "source": [
    "airports.head(10)"
   ]
  },
  {
   "cell_type": "code",
   "execution_count": 6,
   "metadata": {
    "ExecuteTime": {
     "end_time": "2018-06-18T22:26:26.252369Z",
     "start_time": "2018-06-18T22:26:26.214880Z"
    }
   },
   "outputs": [
    {
     "data": {
      "text/html": [
       "<div>\n",
       "<style scoped>\n",
       "    .dataframe tbody tr th:only-of-type {\n",
       "        vertical-align: middle;\n",
       "    }\n",
       "\n",
       "    .dataframe tbody tr th {\n",
       "        vertical-align: top;\n",
       "    }\n",
       "\n",
       "    .dataframe thead th {\n",
       "        text-align: right;\n",
       "    }\n",
       "</style>\n",
       "<table border=\"1\" class=\"dataframe\">\n",
       "  <thead>\n",
       "    <tr style=\"text-align: right;\">\n",
       "      <th></th>\n",
       "      <th>year</th>\n",
       "      <th>month</th>\n",
       "      <th>day</th>\n",
       "      <th>day_of_week</th>\n",
       "      <th>airline</th>\n",
       "      <th>flight_number</th>\n",
       "      <th>tail_number</th>\n",
       "      <th>origin_airport</th>\n",
       "      <th>destination_airport</th>\n",
       "      <th>scheduled_departure</th>\n",
       "      <th>departure_time</th>\n",
       "      <th>departure_delay</th>\n",
       "      <th>taxi_out</th>\n",
       "      <th>wheels_off</th>\n",
       "      <th>scheduled_time</th>\n",
       "      <th>elapsed_time</th>\n",
       "      <th>air_time</th>\n",
       "      <th>distance</th>\n",
       "      <th>wheels_on</th>\n",
       "      <th>taxi_in</th>\n",
       "      <th>scheduled_arrival</th>\n",
       "      <th>arrival_time</th>\n",
       "      <th>arrival_delay</th>\n",
       "      <th>diverted</th>\n",
       "      <th>cancelled</th>\n",
       "      <th>cancellation_reason</th>\n",
       "      <th>air_system_delay</th>\n",
       "      <th>security_delay</th>\n",
       "      <th>airline_delay</th>\n",
       "      <th>late_aircraft_delay</th>\n",
       "      <th>weather_delay</th>\n",
       "    </tr>\n",
       "  </thead>\n",
       "  <tbody>\n",
       "    <tr>\n",
       "      <th>0</th>\n",
       "      <td>2015</td>\n",
       "      <td>1</td>\n",
       "      <td>1</td>\n",
       "      <td>4</td>\n",
       "      <td>AS</td>\n",
       "      <td>98</td>\n",
       "      <td>N407AS</td>\n",
       "      <td>ANC</td>\n",
       "      <td>SEA</td>\n",
       "      <td>5.000</td>\n",
       "      <td>2,354.000</td>\n",
       "      <td>-11.000</td>\n",
       "      <td>21.000</td>\n",
       "      <td>15.000</td>\n",
       "      <td>205.000</td>\n",
       "      <td>194.000</td>\n",
       "      <td>169.000</td>\n",
       "      <td>1448</td>\n",
       "      <td>404.000</td>\n",
       "      <td>4.000</td>\n",
       "      <td>430.000</td>\n",
       "      <td>408.000</td>\n",
       "      <td>-22.000</td>\n",
       "      <td>False</td>\n",
       "      <td>False</td>\n",
       "      <td>NaN</td>\n",
       "      <td>nan</td>\n",
       "      <td>nan</td>\n",
       "      <td>nan</td>\n",
       "      <td>nan</td>\n",
       "      <td>nan</td>\n",
       "    </tr>\n",
       "    <tr>\n",
       "      <th>1</th>\n",
       "      <td>2015</td>\n",
       "      <td>1</td>\n",
       "      <td>1</td>\n",
       "      <td>4</td>\n",
       "      <td>AA</td>\n",
       "      <td>2336</td>\n",
       "      <td>N3KUAA</td>\n",
       "      <td>LAX</td>\n",
       "      <td>PBI</td>\n",
       "      <td>10.000</td>\n",
       "      <td>2.000</td>\n",
       "      <td>-8.000</td>\n",
       "      <td>12.000</td>\n",
       "      <td>14.000</td>\n",
       "      <td>280.000</td>\n",
       "      <td>279.000</td>\n",
       "      <td>263.000</td>\n",
       "      <td>2330</td>\n",
       "      <td>737.000</td>\n",
       "      <td>4.000</td>\n",
       "      <td>750.000</td>\n",
       "      <td>741.000</td>\n",
       "      <td>-9.000</td>\n",
       "      <td>False</td>\n",
       "      <td>False</td>\n",
       "      <td>NaN</td>\n",
       "      <td>nan</td>\n",
       "      <td>nan</td>\n",
       "      <td>nan</td>\n",
       "      <td>nan</td>\n",
       "      <td>nan</td>\n",
       "    </tr>\n",
       "    <tr>\n",
       "      <th>2</th>\n",
       "      <td>2015</td>\n",
       "      <td>1</td>\n",
       "      <td>1</td>\n",
       "      <td>4</td>\n",
       "      <td>US</td>\n",
       "      <td>840</td>\n",
       "      <td>N171US</td>\n",
       "      <td>SFO</td>\n",
       "      <td>CLT</td>\n",
       "      <td>20.000</td>\n",
       "      <td>18.000</td>\n",
       "      <td>-2.000</td>\n",
       "      <td>16.000</td>\n",
       "      <td>34.000</td>\n",
       "      <td>286.000</td>\n",
       "      <td>293.000</td>\n",
       "      <td>266.000</td>\n",
       "      <td>2296</td>\n",
       "      <td>800.000</td>\n",
       "      <td>11.000</td>\n",
       "      <td>806.000</td>\n",
       "      <td>811.000</td>\n",
       "      <td>5.000</td>\n",
       "      <td>False</td>\n",
       "      <td>False</td>\n",
       "      <td>NaN</td>\n",
       "      <td>nan</td>\n",
       "      <td>nan</td>\n",
       "      <td>nan</td>\n",
       "      <td>nan</td>\n",
       "      <td>nan</td>\n",
       "    </tr>\n",
       "    <tr>\n",
       "      <th>3</th>\n",
       "      <td>2015</td>\n",
       "      <td>1</td>\n",
       "      <td>1</td>\n",
       "      <td>4</td>\n",
       "      <td>AA</td>\n",
       "      <td>258</td>\n",
       "      <td>N3HYAA</td>\n",
       "      <td>LAX</td>\n",
       "      <td>MIA</td>\n",
       "      <td>20.000</td>\n",
       "      <td>15.000</td>\n",
       "      <td>-5.000</td>\n",
       "      <td>15.000</td>\n",
       "      <td>30.000</td>\n",
       "      <td>285.000</td>\n",
       "      <td>281.000</td>\n",
       "      <td>258.000</td>\n",
       "      <td>2342</td>\n",
       "      <td>748.000</td>\n",
       "      <td>8.000</td>\n",
       "      <td>805.000</td>\n",
       "      <td>756.000</td>\n",
       "      <td>-9.000</td>\n",
       "      <td>False</td>\n",
       "      <td>False</td>\n",
       "      <td>NaN</td>\n",
       "      <td>nan</td>\n",
       "      <td>nan</td>\n",
       "      <td>nan</td>\n",
       "      <td>nan</td>\n",
       "      <td>nan</td>\n",
       "    </tr>\n",
       "    <tr>\n",
       "      <th>4</th>\n",
       "      <td>2015</td>\n",
       "      <td>1</td>\n",
       "      <td>1</td>\n",
       "      <td>4</td>\n",
       "      <td>AS</td>\n",
       "      <td>135</td>\n",
       "      <td>N527AS</td>\n",
       "      <td>SEA</td>\n",
       "      <td>ANC</td>\n",
       "      <td>25.000</td>\n",
       "      <td>24.000</td>\n",
       "      <td>-1.000</td>\n",
       "      <td>11.000</td>\n",
       "      <td>35.000</td>\n",
       "      <td>235.000</td>\n",
       "      <td>215.000</td>\n",
       "      <td>199.000</td>\n",
       "      <td>1448</td>\n",
       "      <td>254.000</td>\n",
       "      <td>5.000</td>\n",
       "      <td>320.000</td>\n",
       "      <td>259.000</td>\n",
       "      <td>-21.000</td>\n",
       "      <td>False</td>\n",
       "      <td>False</td>\n",
       "      <td>NaN</td>\n",
       "      <td>nan</td>\n",
       "      <td>nan</td>\n",
       "      <td>nan</td>\n",
       "      <td>nan</td>\n",
       "      <td>nan</td>\n",
       "    </tr>\n",
       "    <tr>\n",
       "      <th>5</th>\n",
       "      <td>2015</td>\n",
       "      <td>1</td>\n",
       "      <td>1</td>\n",
       "      <td>4</td>\n",
       "      <td>DL</td>\n",
       "      <td>806</td>\n",
       "      <td>N3730B</td>\n",
       "      <td>SFO</td>\n",
       "      <td>MSP</td>\n",
       "      <td>25.000</td>\n",
       "      <td>20.000</td>\n",
       "      <td>-5.000</td>\n",
       "      <td>18.000</td>\n",
       "      <td>38.000</td>\n",
       "      <td>217.000</td>\n",
       "      <td>230.000</td>\n",
       "      <td>206.000</td>\n",
       "      <td>1589</td>\n",
       "      <td>604.000</td>\n",
       "      <td>6.000</td>\n",
       "      <td>602.000</td>\n",
       "      <td>610.000</td>\n",
       "      <td>8.000</td>\n",
       "      <td>False</td>\n",
       "      <td>False</td>\n",
       "      <td>NaN</td>\n",
       "      <td>nan</td>\n",
       "      <td>nan</td>\n",
       "      <td>nan</td>\n",
       "      <td>nan</td>\n",
       "      <td>nan</td>\n",
       "    </tr>\n",
       "    <tr>\n",
       "      <th>6</th>\n",
       "      <td>2015</td>\n",
       "      <td>1</td>\n",
       "      <td>1</td>\n",
       "      <td>4</td>\n",
       "      <td>NK</td>\n",
       "      <td>612</td>\n",
       "      <td>N635NK</td>\n",
       "      <td>LAS</td>\n",
       "      <td>MSP</td>\n",
       "      <td>25.000</td>\n",
       "      <td>19.000</td>\n",
       "      <td>-6.000</td>\n",
       "      <td>11.000</td>\n",
       "      <td>30.000</td>\n",
       "      <td>181.000</td>\n",
       "      <td>170.000</td>\n",
       "      <td>154.000</td>\n",
       "      <td>1299</td>\n",
       "      <td>504.000</td>\n",
       "      <td>5.000</td>\n",
       "      <td>526.000</td>\n",
       "      <td>509.000</td>\n",
       "      <td>-17.000</td>\n",
       "      <td>False</td>\n",
       "      <td>False</td>\n",
       "      <td>NaN</td>\n",
       "      <td>nan</td>\n",
       "      <td>nan</td>\n",
       "      <td>nan</td>\n",
       "      <td>nan</td>\n",
       "      <td>nan</td>\n",
       "    </tr>\n",
       "    <tr>\n",
       "      <th>7</th>\n",
       "      <td>2015</td>\n",
       "      <td>1</td>\n",
       "      <td>1</td>\n",
       "      <td>4</td>\n",
       "      <td>US</td>\n",
       "      <td>2013</td>\n",
       "      <td>N584UW</td>\n",
       "      <td>LAX</td>\n",
       "      <td>CLT</td>\n",
       "      <td>30.000</td>\n",
       "      <td>44.000</td>\n",
       "      <td>14.000</td>\n",
       "      <td>13.000</td>\n",
       "      <td>57.000</td>\n",
       "      <td>273.000</td>\n",
       "      <td>249.000</td>\n",
       "      <td>228.000</td>\n",
       "      <td>2125</td>\n",
       "      <td>745.000</td>\n",
       "      <td>8.000</td>\n",
       "      <td>803.000</td>\n",
       "      <td>753.000</td>\n",
       "      <td>-10.000</td>\n",
       "      <td>False</td>\n",
       "      <td>False</td>\n",
       "      <td>NaN</td>\n",
       "      <td>nan</td>\n",
       "      <td>nan</td>\n",
       "      <td>nan</td>\n",
       "      <td>nan</td>\n",
       "      <td>nan</td>\n",
       "    </tr>\n",
       "    <tr>\n",
       "      <th>8</th>\n",
       "      <td>2015</td>\n",
       "      <td>1</td>\n",
       "      <td>1</td>\n",
       "      <td>4</td>\n",
       "      <td>AA</td>\n",
       "      <td>1112</td>\n",
       "      <td>N3LAAA</td>\n",
       "      <td>SFO</td>\n",
       "      <td>DFW</td>\n",
       "      <td>30.000</td>\n",
       "      <td>19.000</td>\n",
       "      <td>-11.000</td>\n",
       "      <td>17.000</td>\n",
       "      <td>36.000</td>\n",
       "      <td>195.000</td>\n",
       "      <td>193.000</td>\n",
       "      <td>173.000</td>\n",
       "      <td>1464</td>\n",
       "      <td>529.000</td>\n",
       "      <td>3.000</td>\n",
       "      <td>545.000</td>\n",
       "      <td>532.000</td>\n",
       "      <td>-13.000</td>\n",
       "      <td>False</td>\n",
       "      <td>False</td>\n",
       "      <td>NaN</td>\n",
       "      <td>nan</td>\n",
       "      <td>nan</td>\n",
       "      <td>nan</td>\n",
       "      <td>nan</td>\n",
       "      <td>nan</td>\n",
       "    </tr>\n",
       "    <tr>\n",
       "      <th>9</th>\n",
       "      <td>2015</td>\n",
       "      <td>1</td>\n",
       "      <td>1</td>\n",
       "      <td>4</td>\n",
       "      <td>DL</td>\n",
       "      <td>1173</td>\n",
       "      <td>N826DN</td>\n",
       "      <td>LAS</td>\n",
       "      <td>ATL</td>\n",
       "      <td>30.000</td>\n",
       "      <td>33.000</td>\n",
       "      <td>3.000</td>\n",
       "      <td>12.000</td>\n",
       "      <td>45.000</td>\n",
       "      <td>221.000</td>\n",
       "      <td>203.000</td>\n",
       "      <td>186.000</td>\n",
       "      <td>1747</td>\n",
       "      <td>651.000</td>\n",
       "      <td>5.000</td>\n",
       "      <td>711.000</td>\n",
       "      <td>656.000</td>\n",
       "      <td>-15.000</td>\n",
       "      <td>False</td>\n",
       "      <td>False</td>\n",
       "      <td>NaN</td>\n",
       "      <td>nan</td>\n",
       "      <td>nan</td>\n",
       "      <td>nan</td>\n",
       "      <td>nan</td>\n",
       "      <td>nan</td>\n",
       "    </tr>\n",
       "  </tbody>\n",
       "</table>\n",
       "</div>"
      ],
      "text/plain": [
       "   year  month  day  day_of_week airline  flight_number tail_number  \\\n",
       "0  2015      1    1            4      AS             98      N407AS   \n",
       "1  2015      1    1            4      AA           2336      N3KUAA   \n",
       "2  2015      1    1            4      US            840      N171US   \n",
       "3  2015      1    1            4      AA            258      N3HYAA   \n",
       "4  2015      1    1            4      AS            135      N527AS   \n",
       "5  2015      1    1            4      DL            806      N3730B   \n",
       "6  2015      1    1            4      NK            612      N635NK   \n",
       "7  2015      1    1            4      US           2013      N584UW   \n",
       "8  2015      1    1            4      AA           1112      N3LAAA   \n",
       "9  2015      1    1            4      DL           1173      N826DN   \n",
       "\n",
       "  origin_airport destination_airport  scheduled_departure  departure_time  \\\n",
       "0            ANC                 SEA                5.000       2,354.000   \n",
       "1            LAX                 PBI               10.000           2.000   \n",
       "2            SFO                 CLT               20.000          18.000   \n",
       "3            LAX                 MIA               20.000          15.000   \n",
       "4            SEA                 ANC               25.000          24.000   \n",
       "5            SFO                 MSP               25.000          20.000   \n",
       "6            LAS                 MSP               25.000          19.000   \n",
       "7            LAX                 CLT               30.000          44.000   \n",
       "8            SFO                 DFW               30.000          19.000   \n",
       "9            LAS                 ATL               30.000          33.000   \n",
       "\n",
       "   departure_delay  taxi_out  wheels_off  scheduled_time  elapsed_time  \\\n",
       "0          -11.000    21.000      15.000         205.000       194.000   \n",
       "1           -8.000    12.000      14.000         280.000       279.000   \n",
       "2           -2.000    16.000      34.000         286.000       293.000   \n",
       "3           -5.000    15.000      30.000         285.000       281.000   \n",
       "4           -1.000    11.000      35.000         235.000       215.000   \n",
       "5           -5.000    18.000      38.000         217.000       230.000   \n",
       "6           -6.000    11.000      30.000         181.000       170.000   \n",
       "7           14.000    13.000      57.000         273.000       249.000   \n",
       "8          -11.000    17.000      36.000         195.000       193.000   \n",
       "9            3.000    12.000      45.000         221.000       203.000   \n",
       "\n",
       "   air_time  distance  wheels_on  taxi_in  scheduled_arrival  arrival_time  \\\n",
       "0   169.000      1448    404.000    4.000            430.000       408.000   \n",
       "1   263.000      2330    737.000    4.000            750.000       741.000   \n",
       "2   266.000      2296    800.000   11.000            806.000       811.000   \n",
       "3   258.000      2342    748.000    8.000            805.000       756.000   \n",
       "4   199.000      1448    254.000    5.000            320.000       259.000   \n",
       "5   206.000      1589    604.000    6.000            602.000       610.000   \n",
       "6   154.000      1299    504.000    5.000            526.000       509.000   \n",
       "7   228.000      2125    745.000    8.000            803.000       753.000   \n",
       "8   173.000      1464    529.000    3.000            545.000       532.000   \n",
       "9   186.000      1747    651.000    5.000            711.000       656.000   \n",
       "\n",
       "   arrival_delay  diverted  cancelled cancellation_reason  air_system_delay  \\\n",
       "0        -22.000     False      False                 NaN               nan   \n",
       "1         -9.000     False      False                 NaN               nan   \n",
       "2          5.000     False      False                 NaN               nan   \n",
       "3         -9.000     False      False                 NaN               nan   \n",
       "4        -21.000     False      False                 NaN               nan   \n",
       "5          8.000     False      False                 NaN               nan   \n",
       "6        -17.000     False      False                 NaN               nan   \n",
       "7        -10.000     False      False                 NaN               nan   \n",
       "8        -13.000     False      False                 NaN               nan   \n",
       "9        -15.000     False      False                 NaN               nan   \n",
       "\n",
       "   security_delay  airline_delay  late_aircraft_delay  weather_delay  \n",
       "0             nan            nan                  nan            nan  \n",
       "1             nan            nan                  nan            nan  \n",
       "2             nan            nan                  nan            nan  \n",
       "3             nan            nan                  nan            nan  \n",
       "4             nan            nan                  nan            nan  \n",
       "5             nan            nan                  nan            nan  \n",
       "6             nan            nan                  nan            nan  \n",
       "7             nan            nan                  nan            nan  \n",
       "8             nan            nan                  nan            nan  \n",
       "9             nan            nan                  nan            nan  "
      ]
     },
     "execution_count": 6,
     "metadata": {},
     "output_type": "execute_result"
    }
   ],
   "source": [
    "flights.head(10)"
   ]
  },
  {
   "cell_type": "markdown",
   "metadata": {},
   "source": [
    "After loading the datasets I'm in condition to start analysing the data. Let's start by the basics: define each column.\n",
    "\n",
    "Definitions and quick thoughts:\n",
    "\n",
    "** Airlines ** - Has information regarding each airline\n",
    "* **iata_code** - Airline identifier. \n",
    "* **airline** - Airline's name. \n",
    "\n",
    "** Airports ** - Has information regarding each airport\n",
    "* **iata_code** - Airline identifier.\n",
    "* **airport** - Airport's name.\n",
    "* **city** - City name of the airport.\n",
    "* **state** - State name of the airport.\n",
    "* **country** - Country name of the airport.\n",
    "* **latitude** and **longitude** - Latitude and longitude of the airport. Numerical variables that can be used to identify the airport geographically within a map or to calculate the average velocity of each flight.\n",
    "\n",
    "** Flights until June ** (main features) - Has information regarding each flight\n",
    "* **year**, **month** and **day**- Year, month and day of the flight. Numerical variables that will be used in temporal context.\n",
    "* **day_of_week** - Day of week of the flight. This variable may be interesting to see the variation of flights per week.\n",
    "* **airline** - Airline identifier\n",
    "* **origin_airport** - Starting airport.\n",
    "* **destination_airport** - Destination airport.\n",
    "* **schedule_departure** - Planned departure time\n",
    "* **departure_time** - WHEEL_OFF - TAXI_OUT\n",
    "* **wheels_off** - The time point that the aircraft's wheels leave the ground\n",
    "* **taxi_out** - The time duration elapsed between departure from the origin airport gate and wheels off\n",
    "* **canceled** - Flight Canceled (1 = canceled)\n",
    "* **cancellation_reason** - Reason for cancellation of flight: A - Airline/Carrier; B - Weather; C - National Air System; D - Security\n",
    "* **departure_delay** - Total Delay on departure\n",
    "* **arrival_delay** - Total Delay on arrival (what we want to predict)\n",
    "\n",
    "\n",
    "After this first glance on the data it is possible to observe that:\n",
    "\n",
    "* in `airport` dataset there is detailed information about the airports so that it is possible to infer the distances between them. This information could be useful as predictor for the model and we may want to build other features like flight average velocity;\n",
    "* in `flight` dataset there are three columns for the date (`year`,` month` and `day`) that we can convert to just one column. It should also be noted that the `schedule_time` and `departure_time` columns should display a time, however we can observe numerical values (how is the time being displayed?!). Finally, it is observed that there is no target variable.\n",
    "\n",
    "Since `airlines` and `airports` datasets have only context information I decided to focus my analysis in `flights_until_june` dataset. Ok, let's then analyze it in detail!"
   ]
  },
  {
   "cell_type": "markdown",
   "metadata": {},
   "source": [
    "___\n",
    "### A2. Flights Dataset statistics\n",
    "___"
   ]
  },
  {
   "cell_type": "markdown",
   "metadata": {},
   "source": [
    "In this section I'm going to try to understand more regarding each column, like the data type and it distribution. In a field where  **Statistic** plays an important role (to not say that plays the main role) I will try, as much as I can, make informed decisions. This being said, besides distribution of each column, I will calculate **min** and **max** values, **mean**, **standard deviation**, and **count** of each column (it can give me an idea about the volume of data). To do that I will use pandas library, that gives those basic statistics almost for free."
   ]
  },
  {
   "cell_type": "markdown",
   "metadata": {
    "heading_collapsed": true
   },
   "source": [
    "#### A2.1 Target variable"
   ]
  },
  {
   "cell_type": "markdown",
   "metadata": {
    "ExecuteTime": {
     "end_time": "2018-06-13T16:50:43.708989Z",
     "start_time": "2018-06-13T16:50:43.354811Z"
    },
    "hidden": true
   },
   "source": [
    "You might wonder why I said that we do not have a target variable once we have an `arrival_delay` column with flight delay information. And you are correct!\n",
    "\n",
    "We could use `arrival_delay` if we consider this a regression problem (predict continuous values), however I want to tackle this as a classification problem, where I want to predict whether or not a flight will be delayed. This being said let's define our target variable."
   ]
  },
  {
   "cell_type": "code",
   "execution_count": 7,
   "metadata": {
    "ExecuteTime": {
     "end_time": "2018-06-18T22:26:26.261042Z",
     "start_time": "2018-06-18T22:26:26.254892Z"
    },
    "collapsed": true,
    "hidden": true
   },
   "outputs": [],
   "source": [
    "# a flight is considered delayed if the delay is greater or equal than 15 min\n",
    "flights['is_delayed'] = flights.arrival_delay >= 15"
   ]
  },
  {
   "cell_type": "code",
   "execution_count": 8,
   "metadata": {
    "ExecuteTime": {
     "end_time": "2018-06-18T22:26:26.400170Z",
     "start_time": "2018-06-18T22:26:26.263355Z"
    },
    "hidden": true
   },
   "outputs": [
    {
     "data": {
      "text/plain": [
       "is_delayed\n",
       "False    2315296\n",
       "True      574216\n",
       "Name: is_delayed, dtype: int64"
      ]
     },
     "execution_count": 8,
     "metadata": {},
     "output_type": "execute_result"
    }
   ],
   "source": [
    "flights.groupby('is_delayed').is_delayed.count()"
   ]
  },
  {
   "cell_type": "code",
   "execution_count": 9,
   "metadata": {
    "ExecuteTime": {
     "end_time": "2018-06-18T22:26:26.481552Z",
     "start_time": "2018-06-18T22:26:26.401773Z"
    },
    "hidden": true,
    "scrolled": false
   },
   "outputs": [
    {
     "data": {
      "text/plain": [
       "is_delayed\n",
       "False    80.13%\n",
       "True     19.87%\n",
       "Name: is_delayed, dtype: object"
      ]
     },
     "execution_count": 9,
     "metadata": {},
     "output_type": "execute_result"
    }
   ],
   "source": [
    "flights.groupby('is_delayed').is_delayed.count().map(lambda x: '{:.2%}'.format(x/flights.shape[0]))"
   ]
  },
  {
   "cell_type": "markdown",
   "metadata": {
    "hidden": true
   },
   "source": [
    "Ok, in this quick analysis it is possible to understand that only 1/4 of the flights are delayed, therefore we can consider this as an unbalance problem. Thus, we need to make wise decisions. For example, if we decided to use accuracy as our evaluation metric, a dumb model that predicts each flight as on time would have an accuracy of 80%, which seems to be a good result but in this context is as bad as a random model. Later we will analyse this in detail."
   ]
  },
  {
   "cell_type": "markdown",
   "metadata": {
    "heading_collapsed": true
   },
   "source": [
    "#### A2.2 Data types"
   ]
  },
  {
   "cell_type": "markdown",
   "metadata": {
    "hidden": true
   },
   "source": [
    "I'm going to check the data type of each column. Based on that we can do different calculations, i.e., regarding categorical columns (`category` or `string`) we can calculate the number of domain values and regarding numerical columns we can calculate min and max values."
   ]
  },
  {
   "cell_type": "code",
   "execution_count": 10,
   "metadata": {
    "ExecuteTime": {
     "end_time": "2018-06-18T22:26:26.489411Z",
     "start_time": "2018-06-18T22:26:26.483221Z"
    },
    "hidden": true,
    "scrolled": true
   },
   "outputs": [
    {
     "data": {
      "text/plain": [
       "year                      int32\n",
       "month                     int32\n",
       "day                       int32\n",
       "day_of_week               int32\n",
       "airline                category\n",
       "flight_number             int32\n",
       "tail_number              object\n",
       "origin_airport           object\n",
       "destination_airport      object\n",
       "scheduled_departure     float32\n",
       "departure_time          float32\n",
       "departure_delay         float32\n",
       "taxi_out                float32\n",
       "wheels_off              float32\n",
       "scheduled_time          float32\n",
       "elapsed_time            float32\n",
       "air_time                float32\n",
       "distance                  int32\n",
       "wheels_on               float32\n",
       "taxi_in                 float32\n",
       "scheduled_arrival       float32\n",
       "arrival_time            float32\n",
       "arrival_delay           float32\n",
       "diverted                   bool\n",
       "cancelled                  bool\n",
       "cancellation_reason    category\n",
       "air_system_delay        float32\n",
       "security_delay          float32\n",
       "airline_delay           float32\n",
       "late_aircraft_delay     float32\n",
       "weather_delay           float32\n",
       "is_delayed                 bool\n",
       "dtype: object"
      ]
     },
     "execution_count": 10,
     "metadata": {},
     "output_type": "execute_result"
    }
   ],
   "source": [
    "flights.dtypes"
   ]
  },
  {
   "cell_type": "code",
   "execution_count": 11,
   "metadata": {
    "ExecuteTime": {
     "end_time": "2018-06-18T22:26:26.501378Z",
     "start_time": "2018-06-18T22:26:26.491173Z"
    },
    "hidden": true
   },
   "outputs": [
    {
     "data": {
      "text/plain": [
       "float32     18\n",
       "int32        6\n",
       "object       3\n",
       "bool         3\n",
       "category     1\n",
       "category     1\n",
       "dtype: int64"
      ]
     },
     "execution_count": 11,
     "metadata": {},
     "output_type": "execute_result"
    }
   ],
   "source": [
    "# columns type distribution\n",
    "flights.dtypes.value_counts()"
   ]
  },
  {
   "cell_type": "markdown",
   "metadata": {},
   "source": [
    "#### A2.3 Detailed statistics for each column"
   ]
  },
  {
   "cell_type": "markdown",
   "metadata": {},
   "source": [
    "First, let's define a method that gives the statistics we want given a dataframe's column."
   ]
  },
  {
   "cell_type": "code",
   "execution_count": 12,
   "metadata": {
    "ExecuteTime": {
     "end_time": "2018-06-18T22:26:26.533221Z",
     "start_time": "2018-06-18T22:26:26.503384Z"
    },
    "collapsed": true
   },
   "outputs": [],
   "source": [
    "def most_frequent_values(serie, is_delayed, top=10):\n",
    "    \"\"\"\"\n",
    "    Return statistics for the top-N most frequent domain values break up dowm by is_delayed column. The returned \n",
    "    dataframe is order by the domain values with more delayed flights.\n",
    "    \n",
    "    Parameters:\n",
    "    ----------\n",
    "    serie : pandas.Series\n",
    "        Series to be analysed, can have any type\n",
    "    top : int, default 10\n",
    "        top domain values considered\n",
    "    \"\"\"\n",
    "    is_delayed = is_delayed == True\n",
    "    isnot_delayed = is_delayed == False\n",
    "    \n",
    "    top_values = serie[is_delayed].value_counts().head(top).index.values\n",
    "    total_delayed = is_delayed.sum()\n",
    "    total_not_delayed = is_delayed.count() - total_delayed\n",
    "\n",
    "    # c0 is a temporary column used to sort the dataframe\n",
    "    c0 = serie[is_delayed & serie.isin(top_values)].value_counts()\n",
    "    \n",
    "    c1 = c0.map(lambda x: '{:,.0f}'.format(x))\n",
    "    c2 = serie[is_delayed & serie.isin(top_values)].value_counts().map(lambda x: '{:.2%}'.format(x / total_delayed))\n",
    "    c3 = serie[isnot_delayed & serie.isin(top_values)].value_counts().map(lambda x: '{:,.0f}'.format(x))\n",
    "    c4 = serie[isnot_delayed & serie.isin(top_values)].value_counts().map(lambda x: '{:.2%}'.format(x / total_not_delayed))\n",
    "    \n",
    "    df = pd.DataFrame({'sort': c0, 'delayed': c1, 'delayed(%)': c2, 'not_delayed': c3, 'not_delayed(%)': c4})\n",
    "    df.sort_values('sort', ascending=False, inplace=True)\n",
    "    \n",
    "    return df.drop('sort', axis=1)"
   ]
  },
  {
   "cell_type": "markdown",
   "metadata": {},
   "source": [
    "Regarding numerical columns it is normal to look for **min, max, mean,** and **percentiles**. Regarding non-numerical columns (`string`, `boolean` e `category`) I will analyse top-10 most frequent values using `most_frequent_values` function."
   ]
  },
  {
   "cell_type": "code",
   "execution_count": 13,
   "metadata": {
    "ExecuteTime": {
     "end_time": "2018-06-18T22:26:29.837636Z",
     "start_time": "2018-06-18T22:26:26.535251Z"
    }
   },
   "outputs": [
    {
     "data": {
      "text/html": [
       "<div>\n",
       "<style scoped>\n",
       "    .dataframe tbody tr th:only-of-type {\n",
       "        vertical-align: middle;\n",
       "    }\n",
       "\n",
       "    .dataframe tbody tr th {\n",
       "        vertical-align: top;\n",
       "    }\n",
       "\n",
       "    .dataframe thead th {\n",
       "        text-align: right;\n",
       "    }\n",
       "</style>\n",
       "<table border=\"1\" class=\"dataframe\">\n",
       "  <thead>\n",
       "    <tr style=\"text-align: right;\">\n",
       "      <th></th>\n",
       "      <th>year</th>\n",
       "      <th>month</th>\n",
       "      <th>day</th>\n",
       "      <th>day_of_week</th>\n",
       "      <th>flight_number</th>\n",
       "      <th>scheduled_departure</th>\n",
       "      <th>departure_time</th>\n",
       "      <th>departure_delay</th>\n",
       "      <th>taxi_out</th>\n",
       "      <th>wheels_off</th>\n",
       "      <th>scheduled_time</th>\n",
       "      <th>elapsed_time</th>\n",
       "      <th>air_time</th>\n",
       "      <th>distance</th>\n",
       "      <th>wheels_on</th>\n",
       "      <th>taxi_in</th>\n",
       "      <th>scheduled_arrival</th>\n",
       "      <th>arrival_time</th>\n",
       "      <th>arrival_delay</th>\n",
       "      <th>air_system_delay</th>\n",
       "      <th>security_delay</th>\n",
       "      <th>airline_delay</th>\n",
       "      <th>late_aircraft_delay</th>\n",
       "      <th>weather_delay</th>\n",
       "    </tr>\n",
       "  </thead>\n",
       "  <tbody>\n",
       "    <tr>\n",
       "      <th>count</th>\n",
       "      <td>2,889,512.000</td>\n",
       "      <td>2,889,512.000</td>\n",
       "      <td>2,889,512.000</td>\n",
       "      <td>2,889,512.000</td>\n",
       "      <td>2,889,512.000</td>\n",
       "      <td>2,889,512.000</td>\n",
       "      <td>2,828,870.000</td>\n",
       "      <td>2,828,870.000</td>\n",
       "      <td>2,827,195.000</td>\n",
       "      <td>2,827,195.000</td>\n",
       "      <td>2,889,506.000</td>\n",
       "      <td>2,818,553.000</td>\n",
       "      <td>2,818,553.000</td>\n",
       "      <td>2,889,512.000</td>\n",
       "      <td>2,825,127.000</td>\n",
       "      <td>2,825,127.000</td>\n",
       "      <td>2,889,512.000</td>\n",
       "      <td>2,825,127.000</td>\n",
       "      <td>2,818,553.000</td>\n",
       "      <td>574,216.000</td>\n",
       "      <td>574,216.000</td>\n",
       "      <td>574,216.000</td>\n",
       "      <td>574,216.000</td>\n",
       "      <td>574,216.000</td>\n",
       "    </tr>\n",
       "    <tr>\n",
       "      <th>mean</th>\n",
       "      <td>2,015.000</td>\n",
       "      <td>3.561</td>\n",
       "      <td>15.602</td>\n",
       "      <td>3.930</td>\n",
       "      <td>2,203.224</td>\n",
       "      <td>1,330.218</td>\n",
       "      <td>1,337.577</td>\n",
       "      <td>10.390</td>\n",
       "      <td>16.139</td>\n",
       "      <td>1,359.808</td>\n",
       "      <td>141.118</td>\n",
       "      <td>137.076</td>\n",
       "      <td>113.541</td>\n",
       "      <td>816.530</td>\n",
       "      <td>1,474.680</td>\n",
       "      <td>7.410</td>\n",
       "      <td>1,497.743</td>\n",
       "      <td>1,479.608</td>\n",
       "      <td>6.001</td>\n",
       "      <td>13.688</td>\n",
       "      <td>0.060</td>\n",
       "      <td>18.624</td>\n",
       "      <td>23.531</td>\n",
       "      <td>3.208</td>\n",
       "    </tr>\n",
       "    <tr>\n",
       "      <th>std</th>\n",
       "      <td>0.000</td>\n",
       "      <td>1.706</td>\n",
       "      <td>8.722</td>\n",
       "      <td>1.991</td>\n",
       "      <td>1,776.103</td>\n",
       "      <td>481.719</td>\n",
       "      <td>495.087</td>\n",
       "      <td>38.354</td>\n",
       "      <td>9.241</td>\n",
       "      <td>496.481</td>\n",
       "      <td>74.883</td>\n",
       "      <td>74.081</td>\n",
       "      <td>72.077</td>\n",
       "      <td>602.269</td>\n",
       "      <td>521.442</td>\n",
       "      <td>5.743</td>\n",
       "      <td>504.001</td>\n",
       "      <td>525.627</td>\n",
       "      <td>40.651</td>\n",
       "      <td>27.987</td>\n",
       "      <td>1.816</td>\n",
       "      <td>47.239</td>\n",
       "      <td>42.994</td>\n",
       "      <td>21.557</td>\n",
       "    </tr>\n",
       "    <tr>\n",
       "      <th>min</th>\n",
       "      <td>2,015.000</td>\n",
       "      <td>1.000</td>\n",
       "      <td>1.000</td>\n",
       "      <td>1.000</td>\n",
       "      <td>1.000</td>\n",
       "      <td>1.000</td>\n",
       "      <td>1.000</td>\n",
       "      <td>-68.000</td>\n",
       "      <td>1.000</td>\n",
       "      <td>1.000</td>\n",
       "      <td>18.000</td>\n",
       "      <td>15.000</td>\n",
       "      <td>7.000</td>\n",
       "      <td>21.000</td>\n",
       "      <td>1.000</td>\n",
       "      <td>1.000</td>\n",
       "      <td>1.000</td>\n",
       "      <td>1.000</td>\n",
       "      <td>-87.000</td>\n",
       "      <td>0.000</td>\n",
       "      <td>0.000</td>\n",
       "      <td>0.000</td>\n",
       "      <td>0.000</td>\n",
       "      <td>0.000</td>\n",
       "    </tr>\n",
       "    <tr>\n",
       "      <th>25%</th>\n",
       "      <td>2,015.000</td>\n",
       "      <td>2.000</td>\n",
       "      <td>8.000</td>\n",
       "      <td>2.000</td>\n",
       "      <td>738.000</td>\n",
       "      <td>920.000</td>\n",
       "      <td>923.000</td>\n",
       "      <td>-5.000</td>\n",
       "      <td>11.000</td>\n",
       "      <td>938.000</td>\n",
       "      <td>85.000</td>\n",
       "      <td>82.000</td>\n",
       "      <td>60.000</td>\n",
       "      <td>372.000</td>\n",
       "      <td>1,057.000</td>\n",
       "      <td>4.000</td>\n",
       "      <td>1,112.000</td>\n",
       "      <td>1,102.000</td>\n",
       "      <td>-13.000</td>\n",
       "      <td>0.000</td>\n",
       "      <td>0.000</td>\n",
       "      <td>0.000</td>\n",
       "      <td>0.000</td>\n",
       "      <td>0.000</td>\n",
       "    </tr>\n",
       "    <tr>\n",
       "      <th>50%</th>\n",
       "      <td>2,015.000</td>\n",
       "      <td>4.000</td>\n",
       "      <td>16.000</td>\n",
       "      <td>4.000</td>\n",
       "      <td>1,684.000</td>\n",
       "      <td>1,325.000</td>\n",
       "      <td>1,332.000</td>\n",
       "      <td>-1.000</td>\n",
       "      <td>14.000</td>\n",
       "      <td>1,345.000</td>\n",
       "      <td>122.000</td>\n",
       "      <td>119.000</td>\n",
       "      <td>95.000</td>\n",
       "      <td>646.000</td>\n",
       "      <td>1,511.000</td>\n",
       "      <td>6.000</td>\n",
       "      <td>1,522.000</td>\n",
       "      <td>1,515.000</td>\n",
       "      <td>-4.000</td>\n",
       "      <td>2.000</td>\n",
       "      <td>0.000</td>\n",
       "      <td>2.000</td>\n",
       "      <td>4.000</td>\n",
       "      <td>0.000</td>\n",
       "    </tr>\n",
       "    <tr>\n",
       "      <th>75%</th>\n",
       "      <td>2,015.000</td>\n",
       "      <td>5.000</td>\n",
       "      <td>23.000</td>\n",
       "      <td>6.000</td>\n",
       "      <td>3,379.000</td>\n",
       "      <td>1,730.000</td>\n",
       "      <td>1,740.000</td>\n",
       "      <td>9.000</td>\n",
       "      <td>19.000</td>\n",
       "      <td>1,754.000</td>\n",
       "      <td>173.000</td>\n",
       "      <td>169.000</td>\n",
       "      <td>144.000</td>\n",
       "      <td>1,055.000</td>\n",
       "      <td>1,913.000</td>\n",
       "      <td>9.000</td>\n",
       "      <td>1,920.000</td>\n",
       "      <td>1,918.000</td>\n",
       "      <td>10.000</td>\n",
       "      <td>18.000</td>\n",
       "      <td>0.000</td>\n",
       "      <td>19.000</td>\n",
       "      <td>29.000</td>\n",
       "      <td>0.000</td>\n",
       "    </tr>\n",
       "    <tr>\n",
       "      <th>max</th>\n",
       "      <td>2,015.000</td>\n",
       "      <td>6.000</td>\n",
       "      <td>31.000</td>\n",
       "      <td>7.000</td>\n",
       "      <td>9,794.000</td>\n",
       "      <td>2,359.000</td>\n",
       "      <td>2,400.000</td>\n",
       "      <td>1,988.000</td>\n",
       "      <td>225.000</td>\n",
       "      <td>2,400.000</td>\n",
       "      <td>718.000</td>\n",
       "      <td>766.000</td>\n",
       "      <td>690.000</td>\n",
       "      <td>4,983.000</td>\n",
       "      <td>2,400.000</td>\n",
       "      <td>202.000</td>\n",
       "      <td>2,400.000</td>\n",
       "      <td>2,400.000</td>\n",
       "      <td>1,971.000</td>\n",
       "      <td>1,101.000</td>\n",
       "      <td>241.000</td>\n",
       "      <td>1,971.000</td>\n",
       "      <td>1,331.000</td>\n",
       "      <td>1,152.000</td>\n",
       "    </tr>\n",
       "  </tbody>\n",
       "</table>\n",
       "</div>"
      ],
      "text/plain": [
       "               year         month           day   day_of_week  flight_number  \\\n",
       "count 2,889,512.000 2,889,512.000 2,889,512.000 2,889,512.000  2,889,512.000   \n",
       "mean      2,015.000         3.561        15.602         3.930      2,203.224   \n",
       "std           0.000         1.706         8.722         1.991      1,776.103   \n",
       "min       2,015.000         1.000         1.000         1.000          1.000   \n",
       "25%       2,015.000         2.000         8.000         2.000        738.000   \n",
       "50%       2,015.000         4.000        16.000         4.000      1,684.000   \n",
       "75%       2,015.000         5.000        23.000         6.000      3,379.000   \n",
       "max       2,015.000         6.000        31.000         7.000      9,794.000   \n",
       "\n",
       "       scheduled_departure  departure_time  departure_delay      taxi_out  \\\n",
       "count        2,889,512.000   2,828,870.000    2,828,870.000 2,827,195.000   \n",
       "mean             1,330.218       1,337.577           10.390        16.139   \n",
       "std                481.719         495.087           38.354         9.241   \n",
       "min                  1.000           1.000          -68.000         1.000   \n",
       "25%                920.000         923.000           -5.000        11.000   \n",
       "50%              1,325.000       1,332.000           -1.000        14.000   \n",
       "75%              1,730.000       1,740.000            9.000        19.000   \n",
       "max              2,359.000       2,400.000        1,988.000       225.000   \n",
       "\n",
       "         wheels_off  scheduled_time  elapsed_time      air_time      distance  \\\n",
       "count 2,827,195.000   2,889,506.000 2,818,553.000 2,818,553.000 2,889,512.000   \n",
       "mean      1,359.808         141.118       137.076       113.541       816.530   \n",
       "std         496.481          74.883        74.081        72.077       602.269   \n",
       "min           1.000          18.000        15.000         7.000        21.000   \n",
       "25%         938.000          85.000        82.000        60.000       372.000   \n",
       "50%       1,345.000         122.000       119.000        95.000       646.000   \n",
       "75%       1,754.000         173.000       169.000       144.000     1,055.000   \n",
       "max       2,400.000         718.000       766.000       690.000     4,983.000   \n",
       "\n",
       "          wheels_on       taxi_in  scheduled_arrival  arrival_time  \\\n",
       "count 2,825,127.000 2,825,127.000      2,889,512.000 2,825,127.000   \n",
       "mean      1,474.680         7.410          1,497.743     1,479.608   \n",
       "std         521.442         5.743            504.001       525.627   \n",
       "min           1.000         1.000              1.000         1.000   \n",
       "25%       1,057.000         4.000          1,112.000     1,102.000   \n",
       "50%       1,511.000         6.000          1,522.000     1,515.000   \n",
       "75%       1,913.000         9.000          1,920.000     1,918.000   \n",
       "max       2,400.000       202.000          2,400.000     2,400.000   \n",
       "\n",
       "       arrival_delay  air_system_delay  security_delay  airline_delay  \\\n",
       "count  2,818,553.000       574,216.000     574,216.000    574,216.000   \n",
       "mean           6.001            13.688           0.060         18.624   \n",
       "std           40.651            27.987           1.816         47.239   \n",
       "min          -87.000             0.000           0.000          0.000   \n",
       "25%          -13.000             0.000           0.000          0.000   \n",
       "50%           -4.000             2.000           0.000          2.000   \n",
       "75%           10.000            18.000           0.000         19.000   \n",
       "max        1,971.000         1,101.000         241.000      1,971.000   \n",
       "\n",
       "       late_aircraft_delay  weather_delay  \n",
       "count          574,216.000    574,216.000  \n",
       "mean                23.531          3.208  \n",
       "std                 42.994         21.557  \n",
       "min                  0.000          0.000  \n",
       "25%                  0.000          0.000  \n",
       "50%                  4.000          0.000  \n",
       "75%                 29.000          0.000  \n",
       "max              1,331.000      1,152.000  "
      ]
     },
     "execution_count": 13,
     "metadata": {},
     "output_type": "execute_result"
    }
   ],
   "source": [
    "# numerical columns\n",
    "flights.describe()"
   ]
  },
  {
   "cell_type": "code",
   "execution_count": 14,
   "metadata": {
    "ExecuteTime": {
     "end_time": "2018-06-18T22:26:34.658286Z",
     "start_time": "2018-06-18T22:26:29.840711Z"
    },
    "scrolled": true
   },
   "outputs": [
    {
     "name": "stdout",
     "output_type": "stream",
     "text": [
      "Column: airline\n",
      "\n",
      "    delayed delayed(%) not_delayed not_delayed(%)\n",
      "WN  122,921     21.41%     500,423         21.61%\n",
      "EV   62,959     10.96%     233,922         10.10%\n",
      "DL   62,781     10.93%     360,930         15.59%\n",
      "UA   57,722     10.05%     192,348          8.31%\n",
      "OO   55,229      9.62%     236,452         10.21%\n",
      "AA   54,377      9.47%     209,323          9.04%\n",
      "MQ   41,007      7.14%     120,512          5.21%\n",
      "US   36,549      6.37%     162,166          7.00%\n",
      "B6   29,448      5.13%     101,659          4.39%\n",
      "NK   17,605      3.07%      38,000          1.64%\n",
      "AS        0      0.00%           0          0.00%\n",
      "F9        0      0.00%           0          0.00%\n",
      "HA        0      0.00%           0          0.00%\n",
      "VX        0      0.00%           0          0.00%\n",
      "\n",
      "Column: tail_number\n",
      "\n",
      "       delayed delayed(%) not_delayed not_delayed(%)\n",
      "N905EV     365      0.06%         768          0.03%\n",
      "N901EV     362      0.06%         744          0.03%\n",
      "N903EV     359      0.06%         808          0.03%\n",
      "N879AS     350      0.06%         728          0.03%\n",
      "N362SW     339      0.06%         785          0.03%\n",
      "N906EV     332      0.06%         844          0.04%\n",
      "N877AS     331      0.06%         813          0.04%\n",
      "N502NK     329      0.06%         561          0.02%\n",
      "N397SW     326      0.06%         788          0.03%\n",
      "N364SW     322      0.06%         831          0.04%\n",
      "\n",
      "Column: origin_airport\n",
      "\n",
      "    delayed delayed(%) not_delayed not_delayed(%)\n",
      "ORD  39,125      6.81%     112,567          4.86%\n",
      "DFW  32,444      5.65%     101,372          4.38%\n",
      "ATL  30,906      5.38%     155,229          6.70%\n",
      "DEN  24,870      4.33%      80,753          3.49%\n",
      "LAX  21,926      3.82%      83,108          3.59%\n",
      "IAH  18,807      3.28%      62,966          2.72%\n",
      "SFO  16,025      2.79%      62,265          2.69%\n",
      "PHX  15,714      2.74%      65,270          2.82%\n",
      "LAS  15,367      2.68%      56,413          2.44%\n",
      "LGA  14,361      2.50%      42,326          1.83%\n",
      "\n",
      "Column: destination_airport\n",
      "\n",
      "    delayed delayed(%) not_delayed not_delayed(%)\n",
      "ORD  35,573      6.20%     116,222          5.02%\n",
      "DFW  29,025      5.05%     104,799          4.53%\n",
      "ATL  29,007      5.05%     157,173          6.79%\n",
      "LAX  22,547      3.93%      82,491          3.56%\n",
      "DEN  22,060      3.84%      83,482          3.61%\n",
      "IAH  17,686      3.08%      64,123          2.77%\n",
      "SFO  17,584      3.06%      60,664          2.62%\n",
      "LGA  15,447      2.69%      41,251          1.78%\n",
      "PHX  13,816      2.41%      67,148          2.90%\n",
      "LAS  13,450      2.34%      58,334          2.52%\n",
      "\n",
      "Column: diverted\n",
      "\n",
      "       delayed delayed(%) not_delayed not_delayed(%)\n",
      "False  574,216    100.00%   2,307,172         99.65%\n",
      "\n",
      "Column: cancelled\n",
      "\n",
      "       delayed delayed(%) not_delayed not_delayed(%)\n",
      "False  574,216    100.00%   2,252,461         97.29%\n",
      "\n",
      "Column: cancellation_reason\n",
      "\n",
      "  delayed delayed(%) not_delayed not_delayed(%)\n",
      "A       0      0.00%      15,605          0.67%\n",
      "B       0      0.00%      37,225          1.61%\n",
      "C       0      0.00%       9,997          0.43%\n",
      "D       0      0.00%           8          0.00%\n",
      "\n",
      "Column: is_delayed\n",
      "\n",
      "      delayed delayed(%) not_delayed not_delayed(%)\n",
      "True  574,216    100.00%         NaN            NaN\n",
      "\n"
     ]
    }
   ],
   "source": [
    "### remaining columns types\n",
    "mask = ~((flights.dtypes == 'float32') | (flights.dtypes == 'int32'))\n",
    "\n",
    "for c in flights.dtypes[mask].index:\n",
    "    print('Column:', c)\n",
    "    print()\n",
    "    print(most_frequent_values(flights[c], flights.is_delayed))\n",
    "    print()"
   ]
  },
  {
   "cell_type": "markdown",
   "metadata": {},
   "source": [
    "**Note**: `most_frequent_values` function can also be used in numeric columns in order to check if a small set of domain values represent the majority of the data in that column. As example, consider `taxi_in` column where only 9 domain values (in 182) represent 80% of all delayed flights and 84% of non delayed flights."
   ]
  },
  {
   "cell_type": "code",
   "execution_count": 15,
   "metadata": {
    "ExecuteTime": {
     "end_time": "2018-06-18T22:26:35.072340Z",
     "start_time": "2018-06-18T22:26:34.660566Z"
    }
   },
   "outputs": [
    {
     "name": "stdout",
     "output_type": "stream",
     "text": [
      "       delayed delayed(%) not_delayed not_delayed(%) cum_delayed(%)  \\\n",
      "5.000   87,063     15.16%     375,724         16.23%         15.16%   \n",
      "4.000   86,191     15.01%     378,399         16.34%         30.17%   \n",
      "6.000   70,744     12.32%     300,322         12.97%         42.49%   \n",
      "7.000   53,820      9.37%     221,427          9.56%         51.87%   \n",
      "3.000   49,082      8.55%     216,718          9.36%         60.41%   \n",
      "8.000   40,780      7.10%     164,667          7.11%         67.51%   \n",
      "9.000   31,060      5.41%     122,305          5.28%         72.92%   \n",
      "10.000  24,534      4.27%      93,591          4.04%         77.20%   \n",
      "11.000  18,791      3.27%      70,082          3.03%         80.47%   \n",
      "12.000  14,747      2.57%      53,295          2.30%         83.04%   \n",
      "\n",
      "       cum_not_delayed(%)  \n",
      "5.000              16.23%  \n",
      "4.000              32.57%  \n",
      "6.000              45.54%  \n",
      "7.000              55.11%  \n",
      "3.000              64.47%  \n",
      "8.000              71.58%  \n",
      "9.000              76.86%  \n",
      "10.000             80.90%  \n",
      "11.000             83.93%  \n",
      "12.000             86.23%  \n"
     ]
    }
   ],
   "source": [
    "taxi_in = most_frequent_values(flights.taxi_in, flights.is_delayed)\n",
    "total_delayed = flights.is_delayed.sum()\n",
    "total_not_delayed = flights.is_delayed.count() - total_delayed\n",
    "    \n",
    "taxi_in['cum_delayed(%)'] = taxi_in['delayed'].str.replace(',','').astype(int).cumsum().map(lambda x:'{:.2%}'.format(x / total_delayed))\n",
    "taxi_in['cum_not_delayed(%)'] = taxi_in['not_delayed'].str.replace(',','').astype(int).cumsum().map(lambda x:'{:.2%}'.format(x / total_not_delayed))\n",
    "\n",
    "print(taxi_in)"
   ]
  },
  {
   "cell_type": "markdown",
   "metadata": {},
   "source": [
    "#### A2.4 Null values"
   ]
  },
  {
   "cell_type": "markdown",
   "metadata": {},
   "source": [
    "Another point to be considered is numerical columns with NaN. Normally we need to be careful with those columns due to models that do not support such values or simple because we may want to replace NaN with something else."
   ]
  },
  {
   "cell_type": "code",
   "execution_count": 16,
   "metadata": {
    "ExecuteTime": {
     "end_time": "2018-06-18T22:26:36.770901Z",
     "start_time": "2018-06-18T22:26:35.074116Z"
    }
   },
   "outputs": [
    {
     "data": {
      "text/plain": [
       "cancellation_reason    97.83%\n",
       "weather_delay          80.13%\n",
       "late_aircraft_delay    80.13%\n",
       "airline_delay          80.13%\n",
       "security_delay         80.13%\n",
       "air_system_delay       80.13%\n",
       "elapsed_time            2.46%\n",
       "arrival_delay           2.46%\n",
       "air_time                2.46%\n",
       "arrival_time            2.23%\n",
       "dtype: object"
      ]
     },
     "execution_count": 16,
     "metadata": {},
     "output_type": "execute_result"
    }
   ],
   "source": [
    "x = flights.isnull().sum() / flights.shape[0]\n",
    "x.map(lambda y:'{:.2%}'.format(y)).sort_values(ascending=False).head(10)"
   ]
  },
  {
   "cell_type": "markdown",
   "metadata": {
    "ExecuteTime": {
     "end_time": "2018-06-13T18:04:41.292221Z",
     "start_time": "2018-06-13T18:04:41.244226Z"
    }
   },
   "source": [
    "The first thing that stands out is that only 6 out of 32 columns have a high number of null values. Which is normal because normally Kaggle's datasets have this type of problem mostly solved. Also, 5 out of 6 columns with high number of null values are columns highly correlated with our target variable since they have delay information too and this is why these columns have exactly 80.13% of NaN (number of flights that arrived on time)."
   ]
  },
  {
   "cell_type": "markdown",
   "metadata": {},
   "source": [
    "___\n",
    "### A3. Build baseline\n",
    "___"
   ]
  },
  {
   "cell_type": "markdown",
   "metadata": {},
   "source": [
    "Let me start by sharing part of a [notebook](https://www.kaggle.com/pmarcelino/data-analysis-and-feature-extraction-with-python) (section Minimum viable model) that has a reference for one of the first papers I read when I started exploring data science field. This excerpt introduces in a very concise and clear way the necessity of failing fast and iterating progressively from a baseline.\n",
    "\n",
    "<div class=\"alert alert-success\">\n",
    "[Goodfellow et al. (2016)](http://www.deeplearningbook.org/contents/guidelines.html) proposes an analogous approach for the application of machine learning models. As the authors point out, the successful application of machine learning techniques goes beyond the knowledge of algorithms and their principles. To successfully apply machine learning techniques, we need to start with a simple model that we can master and understand. Only then we should move to more complex algorithms.\n",
    "\n",
    "The authors propose a practical four-steps methodology:\n",
    "<ol type=\"1\">\n",
    "  <li>Select a performance metric and a target value for this metric. This metric will guide your work and allow you to know how well you're performing.</li>\n",
    "  <li>Quickly set up a working end-to-end pipeline. This should allow you to estimate the selected performance metric.</li>\n",
    "  <li>Monitor the system to understand its behaviour, in particular to understand whether its poor performance is related to underfitting, overfitting or defects.</li>\n",
    "  <li>Improve the system by iteration. Here we can apply feature engineering, tune hyperparameters or even change the algorithm, according to the outputs of our monitoring system.</li>\n",
    "</ol>\n",
    "\n",
    "</div>\n",
    "\n",
    "We will follow this methodology. Accordingly, our aim will be to get an initial model that we can use as a baseline. \n",
    "\n",
    "Let's prepare the data for the baseline, fit a logistic regression on it, and analyse the performance of that model. Note that right now it does not matter the performance of the model, it is just a reference."
   ]
  },
  {
   "cell_type": "markdown",
   "metadata": {},
   "source": [
    "#### A3.1 Data preparation"
   ]
  },
  {
   "cell_type": "markdown",
   "metadata": {},
   "source": [
    "The traditional approach is to split the data randomly in training, validation and test sets. However, that approach do not work in some context due to temporal dependencies. For example, in this problem, an airplane `X` could be delayed in flight `Y` due to flight `Z`. Thus, I can't split the data such that flight `Z` goes to train and flight `Y` goes to test.\n",
    "\n",
    "Hence, I will use Jan, Feb, and Mar as training set (50%), Apr as validation set (17%) and Mai and Jun as test set (33%). It is important to stress that for the baseline it is not necessary a validation set because no parameter tunning will be performed, but this way I'm advancing work."
   ]
  },
  {
   "cell_type": "code",
   "execution_count": 17,
   "metadata": {
    "ExecuteTime": {
     "end_time": "2018-06-18T22:26:37.363931Z",
     "start_time": "2018-06-18T22:26:36.773595Z"
    },
    "collapsed": true
   },
   "outputs": [],
   "source": [
    "train = flights[flights.month < 4].copy().reset_index(drop=True)\n",
    "validation = flights[flights.month == 4].copy().reset_index(drop=True)\n",
    "test = flights[flights.month >= 5].copy().reset_index(drop=True)\n",
    "\n",
    "# sanity check\n",
    "assert len(train) + len(validation) + len(test) == len(flights)"
   ]
  },
  {
   "cell_type": "code",
   "execution_count": 18,
   "metadata": {
    "ExecuteTime": {
     "end_time": "2018-06-18T22:26:37.588568Z",
     "start_time": "2018-06-18T22:26:37.366419Z"
    },
    "collapsed": true
   },
   "outputs": [],
   "source": [
    "# joining train and validation sets to be the baseline training set\n",
    "baseline_train = pd.concat([train, validation])"
   ]
  },
  {
   "cell_type": "markdown",
   "metadata": {},
   "source": [
    "I have chosen logistic regression as my baseline model because it is a simple model. In terms of features I am going to use all the numerical columns **without** feature engineering."
   ]
  },
  {
   "cell_type": "code",
   "execution_count": 19,
   "metadata": {
    "ExecuteTime": {
     "end_time": "2018-06-18T22:26:37.598772Z",
     "start_time": "2018-06-18T22:26:37.590714Z"
    },
    "collapsed": true
   },
   "outputs": [],
   "source": [
    "columns = flights.columns[(flights.dtypes == 'int32') | (flights.dtypes == 'float32')].values.tolist()\n",
    "\n",
    "# add target variable\n",
    "columns.append('is_delayed')\n",
    "# remove columns that cannot be used, because they are columns that we only know when the flight arrives\n",
    "columns_to_be_removed = 'air_system_delay security_delay airline_delay late_aircraft_delay weather_delay arrival_delay arrival_time taxi_in wheels_off wheels_on air_time elapsed_time taxi_out departure_time'.split()\n",
    "for c in columns_to_be_removed:\n",
    "    columns.remove(c)"
   ]
  },
  {
   "cell_type": "code",
   "execution_count": 20,
   "metadata": {
    "ExecuteTime": {
     "end_time": "2018-06-18T22:26:37.936391Z",
     "start_time": "2018-06-18T22:26:37.601160Z"
    },
    "collapsed": true
   },
   "outputs": [],
   "source": [
    "baseline_train = baseline_train[columns].copy()\n",
    "baseline_test = test[columns].copy()\n",
    "\n",
    "# sanity check\n",
    "assert len(baseline_train) == len(train) + len(validation)\n",
    "assert len(baseline_test) == len(test)"
   ]
  },
  {
   "cell_type": "markdown",
   "metadata": {},
   "source": [
    "For now let's replace NaN per -1. This is not the best approach due to several reasons, e.g. -1 could be a valid domain value, but it's good enough for a baseline. Later in this document I will explore a better approach."
   ]
  },
  {
   "cell_type": "code",
   "execution_count": 21,
   "metadata": {
    "ExecuteTime": {
     "end_time": "2018-06-18T22:26:37.991785Z",
     "start_time": "2018-06-18T22:26:37.938377Z"
    },
    "collapsed": true
   },
   "outputs": [],
   "source": [
    "baseline_train = baseline_train.fillna(-1)\n",
    "baseline_test = baseline_test.fillna(-1)"
   ]
  },
  {
   "cell_type": "markdown",
   "metadata": {},
   "source": [
    "#### A3.2 Build model"
   ]
  },
  {
   "cell_type": "markdown",
   "metadata": {},
   "source": [
    "I'm going to use default model parameters"
   ]
  },
  {
   "cell_type": "code",
   "execution_count": 22,
   "metadata": {
    "ExecuteTime": {
     "end_time": "2018-06-18T22:26:48.562831Z",
     "start_time": "2018-06-18T22:26:37.994228Z"
    },
    "collapsed": true
   },
   "outputs": [],
   "source": [
    "# build features set\n",
    "features = baseline_train.columns.drop('is_delayed')\n",
    "\n",
    "# train logistic regression to predic is_delayed \n",
    "model = LogisticRegression()\n",
    "train_results = model.fit(baseline_train[features], baseline_train.is_delayed)\n",
    "\n",
    "# use trained model to predit is_delayed field in test set\n",
    "test_results = model.predict(baseline_test[features])"
   ]
  },
  {
   "cell_type": "markdown",
   "metadata": {},
   "source": [
    "#### A3.3 Assessing model performance"
   ]
  },
  {
   "cell_type": "markdown",
   "metadata": {},
   "source": [
    "First I'm going to create a method that calculates all the metrics I want and return a dictionary with that."
   ]
  },
  {
   "cell_type": "code",
   "execution_count": 23,
   "metadata": {
    "ExecuteTime": {
     "end_time": "2018-06-18T22:26:48.612915Z",
     "start_time": "2018-06-18T22:26:48.565415Z"
    },
    "collapsed": true
   },
   "outputs": [],
   "source": [
    "def get_metrics(y_true, y_pred):\n",
    "    confusion_matrix = pd.crosstab(y_true, y_pred)\n",
    "    \n",
    "    tp = confusion_matrix.iloc[1, 1]\n",
    "    fp = confusion_matrix.iloc[0, 1]\n",
    "    tn = confusion_matrix.iloc[0, 0]\n",
    "    fn = confusion_matrix.iloc[1, 0]\n",
    "    \n",
    "    return {\n",
    "        'Accuracy': (tp+tn)/(tp+fp+tn+fn), \n",
    "        'Recall': tp/(tp+fn), \n",
    "        'Precision': tp/(tp+fp), \n",
    "        'F1-Score': (2*tp)/(2*tp+fp+fn),\n",
    "        'False Positive Rate': fp/(fp+tn)\n",
    "    }"
   ]
  },
  {
   "cell_type": "code",
   "execution_count": 24,
   "metadata": {
    "ExecuteTime": {
     "end_time": "2018-06-18T22:26:48.755844Z",
     "start_time": "2018-06-18T22:26:48.615190Z"
    }
   },
   "outputs": [
    {
     "name": "stdout",
     "output_type": "stream",
     "text": [
      "Accuracy             -> 92.86%\n",
      "Recall               -> 72.82%\n",
      "Precision            -> 90.51%\n",
      "F1-Score             -> 80.71%\n",
      "False Positive Rate  ->  1.97%\n"
     ]
    }
   ],
   "source": [
    "# get model performance\n",
    "metrics = get_metrics(baseline_test.is_delayed, test_results)\n",
    "# prettify metrics\n",
    "for m in metrics:\n",
    "    print('{:20} -> {:6.2%}'.format(m, metrics[m]))"
   ]
  },
  {
   "cell_type": "markdown",
   "metadata": {},
   "source": [
    "Ok, actually our baseline has good results and is better than a random model. :) Like a said, accuracy isn't a good metric for this problem due to class unbalance, therefore I must choose another one. \n",
    "\n",
    "When we are optimizing our model we set a metric and optimize for another. For example, it is normal to set a value for FPR (false positive ratio) and maximize the recall. Additionally, there are business constraints that helps defining where we should set the FPR. In this problem, we can consider as a business constraint an airport that says that cannot allow a model that gives more than X false positives. Thus, we need to optimize the recall (number of delayed flights the model correctly predict) setting the FPR (number of negative observations wrongly predicted) that gives us X false positives.\n",
    "\n",
    "Since I don't have that business constraint, I will simplify and optimize the f1-score."
   ]
  },
  {
   "cell_type": "markdown",
   "metadata": {
    "heading_collapsed": true
   },
   "source": [
    "## Section B"
   ]
  },
  {
   "cell_type": "markdown",
   "metadata": {
    "hidden": true
   },
   "source": [
    "___\n",
    "### B1. Data understanding\n",
    "___"
   ]
  },
  {
   "cell_type": "markdown",
   "metadata": {
    "hidden": true
   },
   "source": [
    "This is one of the most important steps in data analysis process. Due to that it is the step where we can spend \"infinite\" time and because of that it is necessary to well define what will be explored, always having in mind the end goal. In this dataset we have a considerable number of columns therefore I decided to analyse the columns that I think could bring more useful information to predict delayed flights. I know this may not be the best approach but I see this as follow: if these columns are indeed the best ones I quickly build a good model, on the other hand if these columns are not the best I fail fast and start over analysing additional columns."
   ]
  },
  {
   "cell_type": "markdown",
   "metadata": {
    "heading_collapsed": true,
    "hidden": true
   },
   "source": [
    "#### B1.1 Build timestamp field"
   ]
  },
  {
   "cell_type": "markdown",
   "metadata": {
    "hidden": true
   },
   "source": [
    "After section A, we can observe that fields `scheduled_departure` and `departure_time` have numeric values like 5, 10 and 15. However, those fields should represent the schedule departure **hour** and real departure **hour**, i.e., should have a hour in the format HH:MM. This is happening because when pandas reads the dataset infer those columns as numeric and automatically converts the `string '0005'` (00h05min) to 5.\n",
    "\n",
    "Therefore I'm going to build `convert_to_time_format` method to handle that."
   ]
  },
  {
   "cell_type": "code",
   "execution_count": 25,
   "metadata": {
    "ExecuteTime": {
     "end_time": "2018-06-18T22:26:48.767313Z",
     "start_time": "2018-06-18T22:26:48.758433Z"
    },
    "collapsed": true,
    "hidden": true
   },
   "outputs": [],
   "source": [
    "def convert_to_time_format(x):\n",
    "    \"\"\"\n",
    "    Convert a numeric value into its hour representation.\n",
    "    \n",
    "    Parameters:\n",
    "    ----------\n",
    "    x : float\n",
    "    \"\"\"\n",
    "    y = '{0:04.0f}'.format(x)\n",
    "    z = '{0}:{1}'.format(y[0:2],y[2:])\n",
    "    \n",
    "    if x == 2400: return '00:00'\n",
    "    else: return z\n",
    "\n",
    "# sanity check\n",
    "assert convert_to_time_format(5) == '00:05'\n",
    "assert convert_to_time_format(130) == '01:30'\n",
    "assert convert_to_time_format(2400) == '00:00'"
   ]
  },
  {
   "cell_type": "code",
   "execution_count": 26,
   "metadata": {
    "ExecuteTime": {
     "end_time": "2018-06-18T22:26:52.602620Z",
     "start_time": "2018-06-18T22:26:48.769607Z"
    },
    "collapsed": true,
    "hidden": true
   },
   "outputs": [],
   "source": [
    "flights['hour'] = flights.scheduled_departure.apply(convert_to_time_format)"
   ]
  },
  {
   "cell_type": "markdown",
   "metadata": {
    "hidden": true
   },
   "source": [
    "Now we are in conditions to generate our timestamp column, which I'm going to call `date`."
   ]
  },
  {
   "cell_type": "code",
   "execution_count": 27,
   "metadata": {
    "ExecuteTime": {
     "end_time": "2018-06-18T22:29:41.438500Z",
     "start_time": "2018-06-18T22:26:52.604588Z"
    },
    "code_folding": [],
    "collapsed": true,
    "hidden": true
   },
   "outputs": [],
   "source": [
    "def convert_to_datetime(row):\n",
    "    \"\"\"\n",
    "    Based on year, month, day, and hour columns generate a datetime value\n",
    "    \n",
    "    Parameters:\n",
    "    ----------\n",
    "    row : pandas.Series\n",
    "        dataframe row with flight information\n",
    "    \"\"\"\n",
    "    from datetime import datetime\n",
    "    z = datetime(row.year, row.month, row.day, int(row.hour[:2]), int(row.hour[3:]))\n",
    "    return z\n",
    "\n",
    "flights['date'] = flights.apply(convert_to_datetime, axis=1)"
   ]
  },
  {
   "cell_type": "code",
   "execution_count": 28,
   "metadata": {
    "ExecuteTime": {
     "end_time": "2018-06-18T22:29:41.447775Z",
     "start_time": "2018-06-18T22:29:41.441002Z"
    },
    "hidden": true
   },
   "outputs": [
    {
     "data": {
      "text/plain": [
       "0   2015-01-01 00:05:00\n",
       "1   2015-01-01 00:10:00\n",
       "2   2015-01-01 00:20:00\n",
       "3   2015-01-01 00:20:00\n",
       "4   2015-01-01 00:25:00\n",
       "Name: date, dtype: datetime64[ns]"
      ]
     },
     "execution_count": 28,
     "metadata": {},
     "output_type": "execute_result"
    }
   ],
   "source": [
    "flights['date'].head()"
   ]
  },
  {
   "cell_type": "markdown",
   "metadata": {
    "hidden": true
   },
   "source": [
    "Since Kaggle's documentation do not specify the meaning of each domain value of `day_of_week` column, I'm going to redefine it using python's definition: 0 is Monday, 1 is Tuesday, etc."
   ]
  },
  {
   "cell_type": "code",
   "execution_count": 29,
   "metadata": {
    "ExecuteTime": {
     "end_time": "2018-06-18T22:29:41.853821Z",
     "start_time": "2018-06-18T22:29:41.450842Z"
    },
    "hidden": true
   },
   "outputs": [
    {
     "data": {
      "text/plain": [
       "<matplotlib.axes._subplots.AxesSubplot at 0x10a0590b8>"
      ]
     },
     "execution_count": 29,
     "metadata": {},
     "output_type": "execute_result"
    },
    {
     "data": {
      "image/png": "[encoded data removed]",
      "text/plain": [
       "<matplotlib.figure.Figure at 0x120fbf198>"
      ]
     },
     "metadata": {},
     "output_type": "display_data"
    }
   ],
   "source": [
    "flights['day_of_week'] = flights['date'].dt.dayofweek\n",
    "flights.groupby('day_of_week').is_delayed.count().plot.bar()"
   ]
  },
  {
   "cell_type": "markdown",
   "metadata": {
    "hidden": true
   },
   "source": [
    "It looks like Saturday is the day of week with less flights! Let's confirm whether the same occur regarding delayed flights."
   ]
  },
  {
   "cell_type": "code",
   "execution_count": 30,
   "metadata": {
    "ExecuteTime": {
     "end_time": "2018-06-18T22:29:42.175806Z",
     "start_time": "2018-06-18T22:29:41.855767Z"
    },
    "hidden": true
   },
   "outputs": [
    {
     "data": {
      "text/plain": [
       "<matplotlib.axes._subplots.AxesSubplot at 0x121bc0240>"
      ]
     },
     "execution_count": 30,
     "metadata": {},
     "output_type": "execute_result"
    },
    {
     "data": {
      "image/png": "[encoded data removed]",
      "text/plain": [
       "<matplotlib.figure.Figure at 0x1229532e8>"
      ]
     },
     "metadata": {},
     "output_type": "display_data"
    }
   ],
   "source": [
    "flights[flights.is_delayed].groupby('day_of_week').is_delayed.count().plot.bar()"
   ]
  },
  {
   "cell_type": "markdown",
   "metadata": {
    "collapsed": true,
    "hidden": true
   },
   "source": [
    "Indeed, Saturday is the day of week with less delayed flights. Interestingly, Monday and Tuesday have less delayed flights than the remaining weekdays and this is not visible when we look for the number of flights."
   ]
  },
  {
   "cell_type": "markdown",
   "metadata": {
    "heading_collapsed": true,
    "hidden": true
   },
   "source": [
    "#### B1.2 Remove unnecessary columns"
   ]
  },
  {
   "cell_type": "markdown",
   "metadata": {
    "hidden": true
   },
   "source": [
    "Now that I've built the `date` column I can remove the following columns: `year` and `hour`."
   ]
  },
  {
   "cell_type": "code",
   "execution_count": 31,
   "metadata": {
    "ExecuteTime": {
     "end_time": "2018-06-18T22:29:42.444709Z",
     "start_time": "2018-06-18T22:29:42.177746Z"
    },
    "collapsed": true,
    "hidden": true
   },
   "outputs": [],
   "source": [
    "# remove columns\n",
    "flights.drop(['year', 'hour'], axis=1, inplace=True)"
   ]
  },
  {
   "cell_type": "markdown",
   "metadata": {
    "heading_collapsed": true,
    "hidden": true
   },
   "source": [
    "#### B1.3 Delayed flight information"
   ]
  },
  {
   "cell_type": "markdown",
   "metadata": {
    "hidden": true
   },
   "source": [
    "I will start by analysing information regarding delayed flights. Let's start by checking its distribution in each airline."
   ]
  },
  {
   "cell_type": "code",
   "execution_count": 32,
   "metadata": {
    "ExecuteTime": {
     "end_time": "2018-06-18T22:29:42.653987Z",
     "start_time": "2018-06-18T22:29:42.446353Z"
    },
    "hidden": true
   },
   "outputs": [
    {
     "name": "stdout",
     "output_type": "stream",
     "text": [
      "airline\n",
      "NK    31.66%\n",
      "F9    31.11%\n",
      "MQ    25.39%\n",
      "UA    23.08%\n",
      "B6    22.46%\n",
      "EV    21.21%\n",
      "AA    20.62%\n",
      "WN    19.72%\n",
      "VX    18.97%\n",
      "OO    18.93%\n",
      "US    18.39%\n",
      "DL    14.82%\n",
      "AS    12.52%\n",
      "HA    11.45%\n",
      "Name: is_delayed, dtype: object\n"
     ]
    },
    {
     "data": {
      "text/plain": [
       "<matplotlib.axes._subplots.AxesSubplot at 0x10a05ef98>"
      ]
     },
     "execution_count": 32,
     "metadata": {},
     "output_type": "execute_result"
    },
    {
     "data": {
      "image/png": "[encoded data removed]",
      "text/plain": [
       "<matplotlib.figure.Figure at 0x12292a668>"
      ]
     },
     "metadata": {},
     "output_type": "display_data"
    }
   ],
   "source": [
    "p = flights.groupby('airline').is_delayed.mean().sort_values(ascending = False)\n",
    "\n",
    "print(p.map(lambda y:'{:.2%}'.format(y)))\n",
    "p.plot.bar()"
   ]
  },
  {
   "cell_type": "markdown",
   "metadata": {
    "hidden": true
   },
   "source": [
    "The number of delayed flights change a lot among airlines, where 2 airlines have 10% more delayed flights than the percentage of delayed flights in the dataset.\n",
    "\n",
    "Next, let's have a look to the distribution of the reason for the delay: `airline_delay`, `late_aircraft_delay`, `air_system_delay`, `security_delay` and `weather_delay`, i.e., how does those reasons vary over time?"
   ]
  },
  {
   "cell_type": "code",
   "execution_count": 33,
   "metadata": {
    "ExecuteTime": {
     "end_time": "2018-06-18T22:29:43.016912Z",
     "start_time": "2018-06-18T22:29:42.656074Z"
    },
    "code_folding": [],
    "hidden": true
   },
   "outputs": [
    {
     "data": {
      "text/plain": [
       "<matplotlib.legend.Legend at 0x11a37de10>"
      ]
     },
     "execution_count": 33,
     "metadata": {},
     "output_type": "execute_result"
    },
    {
     "data": {
      "image/png": "[encoded data removed]",
      "text/plain": [
       "<matplotlib.figure.Figure at 0x1207bca90>"
      ]
     },
     "metadata": {},
     "output_type": "display_data"
    }
   ],
   "source": [
    "columns = 'month airline_delay late_aircraft_delay air_system_delay security_delay weather_delay'.split()\n",
    "\n",
    "delays = flights[flights.is_delayed][columns].groupby('month').sum()\n",
    "total_delay = delays.sum(axis = 1)\n",
    "\n",
    "for c in delays.columns: \n",
    "    delays[c] = delays[c] / total_delay\n",
    "    \n",
    "delays.plot.bar(stacked=True, ylim=(0,1)).legend(loc='center left', bbox_to_anchor=(1, 0.5))"
   ]
  },
  {
   "cell_type": "markdown",
   "metadata": {
    "hidden": true
   },
   "source": [
    "OK, monthly the reason of delay looks pretty stable."
   ]
  },
  {
   "cell_type": "code",
   "execution_count": 34,
   "metadata": {
    "ExecuteTime": {
     "end_time": "2018-06-18T22:29:43.111723Z",
     "start_time": "2018-06-18T22:29:43.019280Z"
    },
    "hidden": true
   },
   "outputs": [
    {
     "data": {
      "text/plain": [
       "airline_delay         18.624\n",
       "late_aircraft_delay   23.531\n",
       "air_system_delay      13.688\n",
       "security_delay         0.060\n",
       "weather_delay          3.208\n",
       "dtype: float32"
      ]
     },
     "execution_count": 34,
     "metadata": {},
     "output_type": "execute_result"
    }
   ],
   "source": [
    "columns = 'airline_delay late_aircraft_delay air_system_delay security_delay weather_delay'.split()\n",
    "flights[flights.is_delayed][columns].mean()"
   ]
  },
  {
   "cell_type": "markdown",
   "metadata": {
    "hidden": true
   },
   "source": [
    "What contributes most for the delay are the airline, late aircraft, and air system. Next, I'm going to check to top-10 airports with more delayed flights."
   ]
  },
  {
   "cell_type": "code",
   "execution_count": 35,
   "metadata": {
    "ExecuteTime": {
     "end_time": "2018-06-18T22:29:43.249072Z",
     "start_time": "2018-06-18T22:29:43.113572Z"
    },
    "hidden": true
   },
   "outputs": [
    {
     "data": {
      "text/plain": [
       "origin_airport\n",
       "PPG   0.382\n",
       "GST   0.375\n",
       "ILG   0.370\n",
       "ADK   0.346\n",
       "PBG   0.321\n",
       "MEI   0.297\n",
       "BPT   0.293\n",
       "STC   0.289\n",
       "GGG   0.274\n",
       "TTN   0.273\n",
       "Name: is_delayed, dtype: float64"
      ]
     },
     "execution_count": 35,
     "metadata": {},
     "output_type": "execute_result"
    }
   ],
   "source": [
    "flights.groupby('origin_airport').is_delayed.mean().sort_values(ascending = False).head(10)"
   ]
  },
  {
   "cell_type": "markdown",
   "metadata": {
    "hidden": true
   },
   "source": [
    "The airport with more delayed flights is <a href=\"https://en.wikipedia.org/wiki/Pago_Pago_International_Airport\">PPG</a>. For this airport, let's check the monthly distribution of flights."
   ]
  },
  {
   "cell_type": "code",
   "execution_count": 36,
   "metadata": {
    "ExecuteTime": {
     "end_time": "2018-06-18T22:29:43.520338Z",
     "start_time": "2018-06-18T22:29:43.252385Z"
    },
    "hidden": true
   },
   "outputs": [
    {
     "data": {
      "text/plain": [
       "month\n",
       "1    10\n",
       "2     8\n",
       "3     9\n",
       "4     8\n",
       "5     9\n",
       "6    11\n",
       "Name: is_delayed, dtype: int64"
      ]
     },
     "execution_count": 36,
     "metadata": {},
     "output_type": "execute_result"
    }
   ],
   "source": [
    "mask = flights.origin_airport == 'PPG'\n",
    "\n",
    "flights[mask].groupby('month').is_delayed.count()"
   ]
  },
  {
   "cell_type": "markdown",
   "metadata": {
    "hidden": true
   },
   "source": [
    "Alright! Initially, based on the big percentage of delayed flights, it seemed that this airport was risky and a candidate for further analysis. However, this airport represents only a tiny percentage of all flights and therefore it is not significant for further analysis.\n",
    "\n",
    "Next, I will analyse canceled flights."
   ]
  },
  {
   "cell_type": "code",
   "execution_count": 37,
   "metadata": {
    "ExecuteTime": {
     "end_time": "2018-06-18T22:29:43.669795Z",
     "start_time": "2018-06-18T22:29:43.522096Z"
    },
    "hidden": true
   },
   "outputs": [
    {
     "data": {
      "text/plain": [
       "<matplotlib.axes._subplots.AxesSubplot at 0x1227befd0>"
      ]
     },
     "execution_count": 37,
     "metadata": {},
     "output_type": "execute_result"
    },
    {
     "data": {
      "image/png": "[encoded data removed]",
      "text/plain": [
       "<matplotlib.figure.Figure at 0x117753c88>"
      ]
     },
     "metadata": {},
     "output_type": "display_data"
    }
   ],
   "source": [
    "flights[flights.cancelled].cancellation_reason.value_counts().plot.pie(y='y')"
   ]
  },
  {
   "cell_type": "markdown",
   "metadata": {
    "hidden": true
   },
   "source": [
    "The main cancellation reasons are due to weather and airline/carrier."
   ]
  },
  {
   "cell_type": "code",
   "execution_count": 38,
   "metadata": {
    "ExecuteTime": {
     "end_time": "2018-06-18T22:29:43.952943Z",
     "start_time": "2018-06-18T22:29:43.672408Z"
    },
    "hidden": true,
    "scrolled": false
   },
   "outputs": [
    {
     "data": {
      "text/plain": [
       "<matplotlib.axes._subplots.AxesSubplot at 0x10b48b9e8>"
      ]
     },
     "execution_count": 38,
     "metadata": {},
     "output_type": "execute_result"
    },
    {
     "data": {
      "image/png": "[encoded data removed]",
      "text/plain": [
       "<matplotlib.figure.Figure at 0x123fc4d30>"
      ]
     },
     "metadata": {},
     "output_type": "display_data"
    }
   ],
   "source": [
    "g = flights.groupby('airline').cancelled.agg(['sum','count'])\n",
    "\n",
    "g.columns = ['cancelled_flights', 'total_flights']\n",
    "g.cancelled_flights = g.cancelled_flights / g.cancelled_flights.sum()\n",
    "g.total_flights = g.total_flights / g.total_flights.sum()\n",
    "\n",
    "g.plot.bar()"
   ]
  },
  {
   "cell_type": "markdown",
   "metadata": {
    "hidden": true
   },
   "source": [
    "Based on this plot we observe that airlines EV and MQ, percentage of all flights, have much more canceled flights than finished flights. Normally this type of domain values are candidates for risky features or one-hot encoding."
   ]
  },
  {
   "cell_type": "code",
   "execution_count": 39,
   "metadata": {
    "ExecuteTime": {
     "end_time": "2018-06-18T22:29:44.797349Z",
     "start_time": "2018-06-18T22:29:43.955505Z"
    },
    "hidden": true
   },
   "outputs": [
    {
     "data": {
      "text/plain": [
       "<matplotlib.axes._subplots.AxesSubplot at 0x111141390>"
      ]
     },
     "execution_count": 39,
     "metadata": {},
     "output_type": "execute_result"
    },
    {
     "data": {
      "image/png": "[encoded data removed]",
      "text/plain": [
       "<matplotlib.figure.Figure at 0x1111574e0>"
      ]
     },
     "metadata": {},
     "output_type": "display_data"
    }
   ],
   "source": [
    "# histogram of arrival delay, where we grouped all values > 95% quantile\n",
    "\n",
    "flights['arrival_delay_copy'] = flights.arrival_delay\n",
    "\n",
    "p = flights.arrival_delay_copy.quantile([0.95]).values[0] # 95% quantile\n",
    "\n",
    "flights.loc[flights.arrival_delay_copy > p, 'arrival_delay_copy'] = p+1\n",
    "flights.arrival_delay_copy.plot.hist(bins=20)"
   ]
  },
  {
   "cell_type": "markdown",
   "metadata": {
    "hidden": true
   },
   "source": [
    "`arrival_delay` has a long tail distribution, thus I decided to group all values above percentile 95% into one bin. This way I can better see the plot. Interestingly, the majority of flights arrive early than expected."
   ]
  },
  {
   "cell_type": "markdown",
   "metadata": {
    "heading_collapsed": true,
    "hidden": true
   },
   "source": [
    "#### B1.4 Temporal analysis"
   ]
  },
  {
   "cell_type": "markdown",
   "metadata": {
    "hidden": true
   },
   "source": [
    "In this section I'm going to perform some temporal analysis to see if there are pattern changes over time. To do that, first, I'm going to change the flights dataframe index to a datetime column."
   ]
  },
  {
   "cell_type": "code",
   "execution_count": 40,
   "metadata": {
    "ExecuteTime": {
     "end_time": "2018-06-18T22:29:44.806656Z",
     "start_time": "2018-06-18T22:29:44.799697Z"
    },
    "collapsed": true,
    "hidden": true
   },
   "outputs": [],
   "source": [
    "flights.set_index('date', inplace=True, drop=False)\n",
    "flights.index.names = ['date_index'] # avoid ambiguitiy with column 'date'"
   ]
  },
  {
   "cell_type": "markdown",
   "metadata": {
    "hidden": true
   },
   "source": [
    "Let's plot the number of daily flights for the first 2 months (January and February) ."
   ]
  },
  {
   "cell_type": "code",
   "execution_count": 41,
   "metadata": {
    "ExecuteTime": {
     "end_time": "2018-06-18T22:29:52.923034Z",
     "start_time": "2018-06-18T22:29:44.809387Z"
    },
    "hidden": true
   },
   "outputs": [
    {
     "data": {
      "text/plain": [
       "<matplotlib.axes._subplots.AxesSubplot at 0x123fc4cf8>"
      ]
     },
     "execution_count": 41,
     "metadata": {},
     "output_type": "execute_result"
    },
    {
     "data": {
      "image/png": "[encoded data removed]",
      "text/plain": [
       "<matplotlib.figure.Figure at 0x11a3820b8>"
      ]
     },
     "metadata": {},
     "output_type": "display_data"
    }
   ],
   "source": [
    "flights['date_ymd'] = flights.index.date\n",
    "flights[:'2015-02'].groupby('date_ymd').is_delayed.count().plot.line(ylim=(0,17000))"
   ]
  },
  {
   "cell_type": "markdown",
   "metadata": {
    "hidden": true
   },
   "source": [
    "We can see that the distribution is periodic and there are days with much less flights. Let's check that!"
   ]
  },
  {
   "cell_type": "code",
   "execution_count": 42,
   "metadata": {
    "ExecuteTime": {
     "end_time": "2018-06-18T22:30:07.611451Z",
     "start_time": "2018-06-18T22:29:52.925999Z"
    },
    "hidden": true
   },
   "outputs": [
    {
     "data": {
      "text/plain": [
       "<matplotlib.axes._subplots.AxesSubplot at 0x1267cb7f0>"
      ]
     },
     "execution_count": 42,
     "metadata": {},
     "output_type": "execute_result"
    },
    {
     "data": {
      "image/png": "[encoded data removed]",
      "text/plain": [
       "<matplotlib.figure.Figure at 0x1387ec208>"
      ]
     },
     "metadata": {},
     "output_type": "display_data"
    }
   ],
   "source": [
    "g = flights.groupby('day_of_week').is_delayed.agg(['sum','count'])\n",
    "g.columns = ['delayed', 'flights']\n",
    "\n",
    "g.delayed = g.delayed / g.delayed.sum()\n",
    "g.flights = g.flights / g.flights.sum()\n",
    "\n",
    "g.plot.bar()"
   ]
  },
  {
   "cell_type": "markdown",
   "metadata": {
    "hidden": true
   },
   "source": [
    "It seems that Saturday is a good to flights, since there are less flight and less delayed flights. Finally, let's check whether there are airlines with an abnormal number of delayed flights in a specific day of the week."
   ]
  },
  {
   "cell_type": "code",
   "execution_count": 43,
   "metadata": {
    "ExecuteTime": {
     "end_time": "2018-06-18T22:30:07.799508Z",
     "start_time": "2018-06-18T22:30:07.614300Z"
    },
    "hidden": true
   },
   "outputs": [
    {
     "data": {
      "text/html": [
       "<div>\n",
       "<style scoped>\n",
       "    .dataframe tbody tr th:only-of-type {\n",
       "        vertical-align: middle;\n",
       "    }\n",
       "\n",
       "    .dataframe tbody tr th {\n",
       "        vertical-align: top;\n",
       "    }\n",
       "\n",
       "    .dataframe thead th {\n",
       "        text-align: right;\n",
       "    }\n",
       "</style>\n",
       "<table border=\"1\" class=\"dataframe\">\n",
       "  <thead>\n",
       "    <tr style=\"text-align: right;\">\n",
       "      <th>airline</th>\n",
       "      <th>AA</th>\n",
       "      <th>AS</th>\n",
       "      <th>B6</th>\n",
       "      <th>DL</th>\n",
       "      <th>EV</th>\n",
       "      <th>F9</th>\n",
       "      <th>HA</th>\n",
       "      <th>MQ</th>\n",
       "      <th>NK</th>\n",
       "      <th>OO</th>\n",
       "      <th>UA</th>\n",
       "      <th>US</th>\n",
       "      <th>VX</th>\n",
       "      <th>WN</th>\n",
       "    </tr>\n",
       "    <tr>\n",
       "      <th>day_of_week</th>\n",
       "      <th></th>\n",
       "      <th></th>\n",
       "      <th></th>\n",
       "      <th></th>\n",
       "      <th></th>\n",
       "      <th></th>\n",
       "      <th></th>\n",
       "      <th></th>\n",
       "      <th></th>\n",
       "      <th></th>\n",
       "      <th></th>\n",
       "      <th></th>\n",
       "      <th></th>\n",
       "      <th></th>\n",
       "    </tr>\n",
       "  </thead>\n",
       "  <tbody>\n",
       "    <tr>\n",
       "      <th>0</th>\n",
       "      <td>0.238</td>\n",
       "      <td>0.134</td>\n",
       "      <td>0.282</td>\n",
       "      <td>0.170</td>\n",
       "      <td>0.238</td>\n",
       "      <td>0.333</td>\n",
       "      <td>0.095</td>\n",
       "      <td>0.277</td>\n",
       "      <td>0.351</td>\n",
       "      <td>0.206</td>\n",
       "      <td>0.252</td>\n",
       "      <td>0.195</td>\n",
       "      <td>0.230</td>\n",
       "      <td>0.212</td>\n",
       "    </tr>\n",
       "    <tr>\n",
       "      <th>1</th>\n",
       "      <td>0.174</td>\n",
       "      <td>0.110</td>\n",
       "      <td>0.221</td>\n",
       "      <td>0.158</td>\n",
       "      <td>0.213</td>\n",
       "      <td>0.272</td>\n",
       "      <td>0.080</td>\n",
       "      <td>0.249</td>\n",
       "      <td>0.321</td>\n",
       "      <td>0.183</td>\n",
       "      <td>0.222</td>\n",
       "      <td>0.185</td>\n",
       "      <td>0.168</td>\n",
       "      <td>0.182</td>\n",
       "    </tr>\n",
       "    <tr>\n",
       "      <th>2</th>\n",
       "      <td>0.183</td>\n",
       "      <td>0.110</td>\n",
       "      <td>0.183</td>\n",
       "      <td>0.134</td>\n",
       "      <td>0.212</td>\n",
       "      <td>0.332</td>\n",
       "      <td>0.107</td>\n",
       "      <td>0.243</td>\n",
       "      <td>0.284</td>\n",
       "      <td>0.191</td>\n",
       "      <td>0.202</td>\n",
       "      <td>0.159</td>\n",
       "      <td>0.133</td>\n",
       "      <td>0.174</td>\n",
       "    </tr>\n",
       "    <tr>\n",
       "      <th>3</th>\n",
       "      <td>0.213</td>\n",
       "      <td>0.128</td>\n",
       "      <td>0.226</td>\n",
       "      <td>0.156</td>\n",
       "      <td>0.220</td>\n",
       "      <td>0.322</td>\n",
       "      <td>0.129</td>\n",
       "      <td>0.264</td>\n",
       "      <td>0.297</td>\n",
       "      <td>0.192</td>\n",
       "      <td>0.254</td>\n",
       "      <td>0.196</td>\n",
       "      <td>0.206</td>\n",
       "      <td>0.215</td>\n",
       "    </tr>\n",
       "    <tr>\n",
       "      <th>4</th>\n",
       "      <td>0.223</td>\n",
       "      <td>0.145</td>\n",
       "      <td>0.221</td>\n",
       "      <td>0.153</td>\n",
       "      <td>0.210</td>\n",
       "      <td>0.314</td>\n",
       "      <td>0.168</td>\n",
       "      <td>0.281</td>\n",
       "      <td>0.324</td>\n",
       "      <td>0.195</td>\n",
       "      <td>0.240</td>\n",
       "      <td>0.195</td>\n",
       "      <td>0.215</td>\n",
       "      <td>0.222</td>\n",
       "    </tr>\n",
       "    <tr>\n",
       "      <th>5</th>\n",
       "      <td>0.191</td>\n",
       "      <td>0.110</td>\n",
       "      <td>0.204</td>\n",
       "      <td>0.121</td>\n",
       "      <td>0.167</td>\n",
       "      <td>0.287</td>\n",
       "      <td>0.129</td>\n",
       "      <td>0.194</td>\n",
       "      <td>0.296</td>\n",
       "      <td>0.152</td>\n",
       "      <td>0.200</td>\n",
       "      <td>0.167</td>\n",
       "      <td>0.120</td>\n",
       "      <td>0.165</td>\n",
       "    </tr>\n",
       "    <tr>\n",
       "      <th>6</th>\n",
       "      <td>0.218</td>\n",
       "      <td>0.138</td>\n",
       "      <td>0.231</td>\n",
       "      <td>0.137</td>\n",
       "      <td>0.213</td>\n",
       "      <td>0.314</td>\n",
       "      <td>0.089</td>\n",
       "      <td>0.255</td>\n",
       "      <td>0.340</td>\n",
       "      <td>0.199</td>\n",
       "      <td>0.237</td>\n",
       "      <td>0.186</td>\n",
       "      <td>0.232</td>\n",
       "      <td>0.205</td>\n",
       "    </tr>\n",
       "  </tbody>\n",
       "</table>\n",
       "</div>"
      ],
      "text/plain": [
       "airline        AA    AS    B6    DL    EV    F9    HA    MQ    NK    OO    UA  \\\n",
       "day_of_week                                                                     \n",
       "0           0.238 0.134 0.282 0.170 0.238 0.333 0.095 0.277 0.351 0.206 0.252   \n",
       "1           0.174 0.110 0.221 0.158 0.213 0.272 0.080 0.249 0.321 0.183 0.222   \n",
       "2           0.183 0.110 0.183 0.134 0.212 0.332 0.107 0.243 0.284 0.191 0.202   \n",
       "3           0.213 0.128 0.226 0.156 0.220 0.322 0.129 0.264 0.297 0.192 0.254   \n",
       "4           0.223 0.145 0.221 0.153 0.210 0.314 0.168 0.281 0.324 0.195 0.240   \n",
       "5           0.191 0.110 0.204 0.121 0.167 0.287 0.129 0.194 0.296 0.152 0.200   \n",
       "6           0.218 0.138 0.231 0.137 0.213 0.314 0.089 0.255 0.340 0.199 0.237   \n",
       "\n",
       "airline        US    VX    WN  \n",
       "day_of_week                    \n",
       "0           0.195 0.230 0.212  \n",
       "1           0.185 0.168 0.182  \n",
       "2           0.159 0.133 0.174  \n",
       "3           0.196 0.206 0.215  \n",
       "4           0.195 0.215 0.222  \n",
       "5           0.167 0.120 0.165  \n",
       "6           0.186 0.232 0.205  "
      ]
     },
     "execution_count": 43,
     "metadata": {},
     "output_type": "execute_result"
    }
   ],
   "source": [
    "flights.pivot_table(values='is_delayed', index=['day_of_week'], columns=['airline'], aggfunc=np.mean)"
   ]
  },
  {
   "cell_type": "markdown",
   "metadata": {
    "heading_collapsed": true,
    "hidden": true
   },
   "source": [
    "#### B1.5 Including context information"
   ]
  },
  {
   "cell_type": "markdown",
   "metadata": {
    "hidden": true
   },
   "source": [
    "In this section I will add information from `airports` dataframe. The idea is to add information regarding columns `origin_airpot` and `destination_airport`."
   ]
  },
  {
   "cell_type": "code",
   "execution_count": 44,
   "metadata": {
    "ExecuteTime": {
     "end_time": "2018-06-18T22:30:14.948076Z",
     "start_time": "2018-06-18T22:30:07.802148Z"
    },
    "collapsed": true,
    "hidden": true
   },
   "outputs": [],
   "source": [
    "# selecting necessary fields\n",
    "airports = airports[['iata_code', 'city', 'state']]\n",
    "\n",
    "flights_tmp = pd.merge(flights, airports, left_on='origin_airport', right_on = 'iata_code') # add origin_airport context information\n",
    "flights_context_info = pd.merge(flights_tmp, airports, left_on='destination_airport', right_on = 'iata_code', suffixes =('_origin','_destination')) # add destination_airport context information\n",
    "\n",
    "# free up RAM\n",
    "del flights_tmp"
   ]
  },
  {
   "cell_type": "markdown",
   "metadata": {
    "hidden": true
   },
   "source": [
    "Let's check the pair of cities with more delayed flights."
   ]
  },
  {
   "cell_type": "code",
   "execution_count": 45,
   "metadata": {
    "ExecuteTime": {
     "end_time": "2018-06-18T22:30:16.914817Z",
     "start_time": "2018-06-18T22:30:14.950190Z"
    },
    "hidden": true
   },
   "outputs": [
    {
     "data": {
      "text/plain": [
       "oridst\n",
       "Chicago-New York            1,972.000\n",
       "Boston-New York             1,925.000\n",
       "New York-Boston             1,895.000\n",
       "New York-Chicago            1,728.000\n",
       "Los Angeles-San Francisco   1,653.000\n",
       "San Francisco-Los Angeles   1,569.000\n",
       "Miami-New York              1,560.000\n",
       "Chicago-Minneapolis         1,508.000\n",
       "Ft. Lauderdale-New York     1,442.000\n",
       "Atlanta-New York            1,432.000\n",
       "Name: is_delayed, dtype: float64"
      ]
     },
     "execution_count": 45,
     "metadata": {},
     "output_type": "execute_result"
    }
   ],
   "source": [
    "flights_context_info['oridst'] = flights_context_info.city_origin + '-' + flights_context_info.city_destination\n",
    "flights_context_info.groupby('oridst').is_delayed.sum().sort_values(ascending = False).head(10)"
   ]
  },
  {
   "cell_type": "markdown",
   "metadata": {
    "hidden": true
   },
   "source": [
    "___\n",
    "### B2. Feature engineering\n",
    "___"
   ]
  },
  {
   "cell_type": "markdown",
   "metadata": {
    "hidden": true
   },
   "source": [
    "First, I need to rebuild the training, validation and test sets because I've added columns to `flights` dataframe (contextual information and `date`).\n",
    "\n",
    "Since I want to add features like the average airline delay time, I will also build a historical set with data before training set. There are 2 ways of build these type of features: for each flight in training set I only use flight information occurred before that flight or I use a dataset with information before training and use all that data to compute the feature. Because approach #1 is not trivial to implement I decided to use #2. Note that these approaches are needed to avoid the issue of using future data due to temporal dependency between flights.\n",
    "\n",
    "Hence, I will use Jan as historical set (17%), Feb and Mar as training set (33%), Apr as validation set (17%) and Mai and Jun as test set (33%)."
   ]
  },
  {
   "cell_type": "code",
   "execution_count": 46,
   "metadata": {
    "ExecuteTime": {
     "end_time": "2018-06-18T22:30:18.441988Z",
     "start_time": "2018-06-18T22:30:16.917189Z"
    },
    "collapsed": true,
    "hidden": true
   },
   "outputs": [],
   "source": [
    "hist = flights_context_info[flights_context_info.month == 1].copy().reset_index(drop=True)\n",
    "train = flights_context_info[(flights_context_info.month > 1) & (flights_context_info.month < 4)].copy().reset_index(drop=True)\n",
    "validation = flights_context_info[flights_context_info.month == 4].copy().reset_index(drop=True)\n",
    "test = flights_context_info[flights_context_info.month >= 5].copy().reset_index(drop=True)\n",
    "\n",
    "datasets = [train, validation, test]\n",
    "\n",
    "# sanity check\n",
    "assert len(hist) + len(train) + len(validation) + len(test) == len(flights_context_info)"
   ]
  },
  {
   "cell_type": "markdown",
   "metadata": {
    "heading_collapsed": true,
    "hidden": true
   },
   "source": [
    "#### B2.1 Historical data"
   ]
  },
  {
   "cell_type": "markdown",
   "metadata": {
    "hidden": true
   },
   "source": [
    "I going to build features based on `hist` for training, validation, and test sets. In future versions I could use information in training set to build that features in validation set and information in validation set to build that features in test set.\n",
    "\n",
    "Features that will be added:\n",
    "* percentage of delayed flights per airline;\n",
    "* percentage of delayed flights per pair (city_origin, city_destination);\n",
    "* for each city_origin and city_destination, the average delay time."
   ]
  },
  {
   "cell_type": "code",
   "execution_count": 47,
   "metadata": {
    "ExecuteTime": {
     "end_time": "2018-06-18T22:30:18.481950Z",
     "start_time": "2018-06-18T22:30:18.444104Z"
    },
    "collapsed": true,
    "hidden": true
   },
   "outputs": [],
   "source": [
    "delays_airline = hist.groupby('airline').is_delayed.mean().to_dict()\n",
    "\n",
    "for d in datasets:\n",
    "    d['perc_delayed_flights_airline'] = d.airline.map(lambda airline: delays_airline[airline]).astype(float)"
   ]
  },
  {
   "cell_type": "code",
   "execution_count": 48,
   "metadata": {
    "ExecuteTime": {
     "end_time": "2018-06-18T22:30:19.374506Z",
     "start_time": "2018-06-18T22:30:18.484019Z"
    },
    "collapsed": true,
    "hidden": true
   },
   "outputs": [],
   "source": [
    "delayed_flights_route = hist.groupby('oridst').is_delayed.mean().to_dict()\n",
    "\n",
    "for d in datasets:\n",
    "    d['perc_delayed_flights_route'] = d.oridst.map(lambda oridst: delayed_flights_route[oridst] if oridst in delayed_flights_route else -1)"
   ]
  },
  {
   "cell_type": "code",
   "execution_count": 49,
   "metadata": {
    "ExecuteTime": {
     "end_time": "2018-06-18T22:30:20.085195Z",
     "start_time": "2018-06-18T22:30:19.376489Z"
    },
    "collapsed": true,
    "hidden": true
   },
   "outputs": [],
   "source": [
    "delayed_city = hist.groupby('city_origin').is_delayed.mean().to_dict()\n",
    "\n",
    "for d in datasets:\n",
    "    d['avg_delay_city'] = d.city_origin.map(lambda cityorigin: delayed_city[cityorigin] if cityorigin in delayed_city else -1)\n",
    "\n",
    "delayed_airline = hist.groupby('airline').arrival_delay.mean().to_dict()\n",
    "\n",
    "for d in datasets:\n",
    "    d['avg_delay_airline'] = d.airline.map(lambda airline: delayed_airline[airline] if airline in delayed_airline else -1).astype(float)"
   ]
  },
  {
   "cell_type": "markdown",
   "metadata": {
    "heading_collapsed": true,
    "hidden": true
   },
   "source": [
    "#### B2.2 New temporal features"
   ]
  },
  {
   "cell_type": "markdown",
   "metadata": {
    "hidden": true
   },
   "source": [
    "As it was observed, the delayed flights vary with the day of the week, thus I'm going to create features to represent that observation."
   ]
  },
  {
   "cell_type": "code",
   "execution_count": 50,
   "metadata": {
    "ExecuteTime": {
     "end_time": "2018-06-18T22:30:20.164710Z",
     "start_time": "2018-06-18T22:30:20.087213Z"
    },
    "collapsed": true,
    "hidden": true
   },
   "outputs": [],
   "source": [
    "def add_temporal_features(df):\n",
    "    df['is_weekend'] = df.day_of_week.isin([5, 6]).astype(int)\n",
    "    df['is_monday'] = df.day_of_week.isin([0]).astype(int)\n",
    "    df['is_saturday'] = df.day_of_week.isin([5]).astype(int)\n",
    "\n",
    "for d in datasets:\n",
    "    add_temporal_features(d)"
   ]
  },
  {
   "cell_type": "markdown",
   "metadata": {
    "heading_collapsed": true,
    "hidden": true
   },
   "source": [
    "#### B2.3 Risky features and OHE"
   ]
  },
  {
   "cell_type": "markdown",
   "metadata": {
    "hidden": true
   },
   "source": [
    "Risky features are the ones observed during data understanding and in section A."
   ]
  },
  {
   "cell_type": "code",
   "execution_count": 51,
   "metadata": {
    "ExecuteTime": {
     "end_time": "2018-06-18T22:30:20.521289Z",
     "start_time": "2018-06-18T22:30:20.166666Z"
    },
    "collapsed": true,
    "hidden": true
   },
   "outputs": [],
   "source": [
    "for d in datasets:\n",
    "    d['is_risky_airline'] = d.airline.isin(['NK', 'F9', 'MQ', 'EV']).astype(int)\n",
    "    d['is_risky_origin_airline'] = d.origin_airport.isin(['ORD', 'DFW', 'DEN']).astype(int)\n",
    "    d['is_risky_destination_airport'] = d.destination_airport.isin(['ORD', 'DFW', 'DEN']).astype(int)"
   ]
  },
  {
   "cell_type": "code",
   "execution_count": 52,
   "metadata": {
    "ExecuteTime": {
     "end_time": "2018-06-18T22:30:23.183455Z",
     "start_time": "2018-06-18T22:30:20.525680Z"
    },
    "collapsed": true,
    "hidden": true
   },
   "outputs": [],
   "source": [
    "risky_cities = 'newyork boston chicago sanfrancisco losangeles atlanta'.split()\n",
    "\n",
    "def is_risky_city(city):\n",
    "    return city.replace(' ', '').lower() in risky_cities\n",
    "\n",
    "for d in datasets:\n",
    "    d['is_risky_city'] = d.city_origin.map(is_risky_city) |  d.city_destination.map(is_risky_city)"
   ]
  },
  {
   "cell_type": "markdown",
   "metadata": {
    "hidden": true
   },
   "source": [
    "In section B1.3 I observed that PPG was the `origin_airport` with more delayed flights. I also said that this airport is not important because it almost do not have flights (10 per month). I going to revisit this exploring the airports that have more than 1% of the flights in the historical dataset."
   ]
  },
  {
   "cell_type": "code",
   "execution_count": 53,
   "metadata": {
    "ExecuteTime": {
     "end_time": "2018-06-18T22:30:23.373427Z",
     "start_time": "2018-06-18T22:30:23.185829Z"
    },
    "hidden": true
   },
   "outputs": [
    {
     "data": {
      "text/plain": [
       "origin_airport\n",
       "ORD   0.311\n",
       "DEN   0.290\n",
       "PHL   0.245\n",
       "LGA   0.243\n",
       "DFW   0.243\n",
       "DTW   0.229\n",
       "MDW   0.228\n",
       "JFK   0.226\n",
       "SFO   0.226\n",
       "EWR   0.225\n",
       "Name: is_delayed, dtype: float64"
      ]
     },
     "execution_count": 53,
     "metadata": {},
     "output_type": "execute_result"
    }
   ],
   "source": [
    "minimum = len(hist) * 0.01\n",
    "origin_airport = hist.origin_airport.value_counts()[lambda x: x > minimum].index.values\n",
    "\n",
    "hist[hist.origin_airport.isin(origin_airport)].groupby('origin_airport').is_delayed.mean().sort_values(ascending = False).head(10)"
   ]
  },
  {
   "cell_type": "markdown",
   "metadata": {
    "hidden": true
   },
   "source": [
    "Based on these top `origin_airport` values I'm in conditions to do one hot encoding (OHE)."
   ]
  },
  {
   "cell_type": "code",
   "execution_count": 54,
   "metadata": {
    "ExecuteTime": {
     "end_time": "2018-06-18T22:30:27.158351Z",
     "start_time": "2018-06-18T22:30:23.376395Z"
    },
    "collapsed": true,
    "hidden": true
   },
   "outputs": [],
   "source": [
    "for d in datasets:\n",
    "    d['origin_airport_ORD'] = d.origin_airport.map(lambda ori: 1 if ori == 'ORD' else 0)\n",
    "    d['origin_airport_DEN'] = d.origin_airport.map(lambda ori: 1 if ori == 'DEN' else 0)\n",
    "    d['origin_airport_PHL'] = d.origin_airport.map(lambda ori: 1 if ori == 'PHL' else 0)\n",
    "    d['origin_airport_LGA'] = d.origin_airport.map(lambda ori: 1 if ori == 'LGA' else 0)\n",
    "    d['origin_airport_DFW'] = d.origin_airport.map(lambda ori: 1 if ori == 'DFW' else 0)"
   ]
  },
  {
   "cell_type": "markdown",
   "metadata": {
    "heading_collapsed": true,
    "hidden": true
   },
   "source": [
    "#### B2.4 Normalization"
   ]
  },
  {
   "cell_type": "markdown",
   "metadata": {
    "hidden": true
   },
   "source": [
    "In this section I'm going to use `z_score` normalization to `distance` column."
   ]
  },
  {
   "cell_type": "code",
   "execution_count": 55,
   "metadata": {
    "ExecuteTime": {
     "end_time": "2018-06-18T22:30:27.229363Z",
     "start_time": "2018-06-18T22:30:27.160428Z"
    },
    "collapsed": true,
    "hidden": true
   },
   "outputs": [],
   "source": [
    "def z_score(df, column, mean, std):\n",
    "    return (df[column] - df[column].mean())/df[column].std(ddof=0)\n",
    "\n",
    "mean = hist.distance.mean()\n",
    "std = hist.distance.std()\n",
    "\n",
    "for d in datasets:\n",
    "    d['distance_normalized'] = z_score(d, 'distance', mean, std)"
   ]
  },
  {
   "cell_type": "code",
   "execution_count": 56,
   "metadata": {
    "ExecuteTime": {
     "end_time": "2018-06-18T22:30:27.468462Z",
     "start_time": "2018-06-18T22:30:27.231150Z"
    },
    "hidden": true
   },
   "outputs": [
    {
     "data": {
      "text/plain": [
       "<matplotlib.axes._subplots.AxesSubplot at 0x10df622b0>"
      ]
     },
     "execution_count": 56,
     "metadata": {},
     "output_type": "execute_result"
    },
    {
     "data": {
      "image/png": "[encoded data removed]",
      "text/plain": [
       "<matplotlib.figure.Figure at 0x111b69198>"
      ]
     },
     "metadata": {},
     "output_type": "display_data"
    }
   ],
   "source": [
    "train.distance.plot.hist()"
   ]
  },
  {
   "cell_type": "code",
   "execution_count": 57,
   "metadata": {
    "ExecuteTime": {
     "end_time": "2018-06-18T22:30:27.688174Z",
     "start_time": "2018-06-18T22:30:27.471118Z"
    },
    "hidden": true
   },
   "outputs": [
    {
     "data": {
      "text/plain": [
       "<matplotlib.axes._subplots.AxesSubplot at 0x1247c4828>"
      ]
     },
     "execution_count": 57,
     "metadata": {},
     "output_type": "execute_result"
    },
    {
     "data": {
      "image/png": "[encoded data removed]",
      "text/plain": [
       "<matplotlib.figure.Figure at 0x120a4a7b8>"
      ]
     },
     "metadata": {},
     "output_type": "display_data"
    }
   ],
   "source": [
    "train.distance_normalized.plot.hist()"
   ]
  },
  {
   "cell_type": "markdown",
   "metadata": {
    "heading_collapsed": true,
    "hidden": true
   },
   "source": [
    "#### B2.5 Remove unnecessary columns"
   ]
  },
  {
   "cell_type": "markdown",
   "metadata": {
    "hidden": true
   },
   "source": [
    "I'm going to use a logistic regression and a decision tree models. Although decision trees support categorical columns, its sklearn implementation don't. Therefore, before we start building our models we need to remove unnecessary columns like `month`, `airline`, or `tail_number` and keep only the numeric features."
   ]
  },
  {
   "cell_type": "code",
   "execution_count": 58,
   "metadata": {
    "ExecuteTime": {
     "end_time": "2018-06-18T22:30:28.760363Z",
     "start_time": "2018-06-18T22:30:27.690495Z"
    },
    "collapsed": true,
    "hidden": true
   },
   "outputs": [],
   "source": [
    "train_bk = train.copy()\n",
    "validation_bk = validation.copy()\n",
    "test_bk = test.copy()"
   ]
  },
  {
   "cell_type": "code",
   "execution_count": 59,
   "metadata": {
    "ExecuteTime": {
     "end_time": "2018-06-18T22:30:29.610435Z",
     "start_time": "2018-06-18T22:30:28.762865Z"
    },
    "collapsed": true,
    "hidden": true
   },
   "outputs": [],
   "source": [
    "columns_to_keep = 'day_of_week scheduled_departure departure_time departure_delay scheduled_time scheduled_arrival is_delayed perc_delayed_flights_airline perc_delayed_flights_route avg_delay_city avg_delay_airline is_weekend is_monday is_saturday is_risky_airline is_risky_origin_airline is_risky_destination_airport is_risky_city origin_airport_ORD origin_airport_DEN origin_airport_PHL origin_airport_LGA origin_airport_DFW distance_normalized'.split()\n",
    "\n",
    "train = train[columns_to_keep].copy()\n",
    "validation = validation[columns_to_keep].copy()\n",
    "test = test[columns_to_keep].copy()\n",
    "\n",
    "datasets = [train, validation, test]"
   ]
  },
  {
   "cell_type": "code",
   "execution_count": 60,
   "metadata": {
    "ExecuteTime": {
     "end_time": "2018-06-18T22:30:29.651270Z",
     "start_time": "2018-06-18T22:30:29.615113Z"
    },
    "collapsed": true,
    "hidden": true
   },
   "outputs": [],
   "source": [
    "for d in datasets:\n",
    "    d['is_delayed'] = d['is_delayed'].astype(int)\n",
    "    d['is_risky_city'] = d['is_risky_city'].astype(int)"
   ]
  },
  {
   "cell_type": "markdown",
   "metadata": {
    "hidden": true
   },
   "source": [
    "Finally let's compute the feature correlation."
   ]
  },
  {
   "cell_type": "code",
   "execution_count": 61,
   "metadata": {
    "ExecuteTime": {
     "end_time": "2018-06-18T22:30:31.128401Z",
     "start_time": "2018-06-18T22:30:29.654866Z"
    },
    "hidden": true
   },
   "outputs": [
    {
     "data": {
      "text/html": [
       "<div>\n",
       "<style scoped>\n",
       "    .dataframe tbody tr th:only-of-type {\n",
       "        vertical-align: middle;\n",
       "    }\n",
       "\n",
       "    .dataframe tbody tr th {\n",
       "        vertical-align: top;\n",
       "    }\n",
       "\n",
       "    .dataframe thead th {\n",
       "        text-align: right;\n",
       "    }\n",
       "</style>\n",
       "<table border=\"1\" class=\"dataframe\">\n",
       "  <thead>\n",
       "    <tr style=\"text-align: right;\">\n",
       "      <th></th>\n",
       "      <th>day_of_week</th>\n",
       "      <th>scheduled_departure</th>\n",
       "      <th>departure_time</th>\n",
       "      <th>departure_delay</th>\n",
       "      <th>scheduled_time</th>\n",
       "      <th>scheduled_arrival</th>\n",
       "      <th>is_delayed</th>\n",
       "      <th>perc_delayed_flights_airline</th>\n",
       "      <th>perc_delayed_flights_route</th>\n",
       "      <th>avg_delay_city</th>\n",
       "      <th>avg_delay_airline</th>\n",
       "      <th>is_weekend</th>\n",
       "      <th>is_monday</th>\n",
       "      <th>is_saturday</th>\n",
       "      <th>is_risky_airline</th>\n",
       "      <th>is_risky_origin_airline</th>\n",
       "      <th>is_risky_destination_airport</th>\n",
       "      <th>is_risky_city</th>\n",
       "      <th>origin_airport_ORD</th>\n",
       "      <th>origin_airport_DEN</th>\n",
       "      <th>origin_airport_PHL</th>\n",
       "      <th>origin_airport_LGA</th>\n",
       "      <th>origin_airport_DFW</th>\n",
       "      <th>distance_normalized</th>\n",
       "    </tr>\n",
       "  </thead>\n",
       "  <tbody>\n",
       "    <tr>\n",
       "      <th>day_of_week</th>\n",
       "      <td>1.000</td>\n",
       "      <td>nan</td>\n",
       "      <td>nan</td>\n",
       "      <td>nan</td>\n",
       "      <td>nan</td>\n",
       "      <td>nan</td>\n",
       "      <td>nan</td>\n",
       "      <td>nan</td>\n",
       "      <td>nan</td>\n",
       "      <td>nan</td>\n",
       "      <td>nan</td>\n",
       "      <td>nan</td>\n",
       "      <td>nan</td>\n",
       "      <td>nan</td>\n",
       "      <td>nan</td>\n",
       "      <td>nan</td>\n",
       "      <td>nan</td>\n",
       "      <td>nan</td>\n",
       "      <td>nan</td>\n",
       "      <td>nan</td>\n",
       "      <td>nan</td>\n",
       "      <td>nan</td>\n",
       "      <td>nan</td>\n",
       "      <td>nan</td>\n",
       "    </tr>\n",
       "    <tr>\n",
       "      <th>scheduled_departure</th>\n",
       "      <td>nan</td>\n",
       "      <td>1.000</td>\n",
       "      <td>0.969</td>\n",
       "      <td>nan</td>\n",
       "      <td>nan</td>\n",
       "      <td>nan</td>\n",
       "      <td>nan</td>\n",
       "      <td>nan</td>\n",
       "      <td>nan</td>\n",
       "      <td>nan</td>\n",
       "      <td>nan</td>\n",
       "      <td>nan</td>\n",
       "      <td>nan</td>\n",
       "      <td>nan</td>\n",
       "      <td>nan</td>\n",
       "      <td>nan</td>\n",
       "      <td>nan</td>\n",
       "      <td>nan</td>\n",
       "      <td>nan</td>\n",
       "      <td>nan</td>\n",
       "      <td>nan</td>\n",
       "      <td>nan</td>\n",
       "      <td>nan</td>\n",
       "      <td>nan</td>\n",
       "    </tr>\n",
       "    <tr>\n",
       "      <th>departure_time</th>\n",
       "      <td>nan</td>\n",
       "      <td>0.969</td>\n",
       "      <td>1.000</td>\n",
       "      <td>nan</td>\n",
       "      <td>nan</td>\n",
       "      <td>nan</td>\n",
       "      <td>nan</td>\n",
       "      <td>nan</td>\n",
       "      <td>nan</td>\n",
       "      <td>nan</td>\n",
       "      <td>nan</td>\n",
       "      <td>nan</td>\n",
       "      <td>nan</td>\n",
       "      <td>nan</td>\n",
       "      <td>nan</td>\n",
       "      <td>nan</td>\n",
       "      <td>nan</td>\n",
       "      <td>nan</td>\n",
       "      <td>nan</td>\n",
       "      <td>nan</td>\n",
       "      <td>nan</td>\n",
       "      <td>nan</td>\n",
       "      <td>nan</td>\n",
       "      <td>nan</td>\n",
       "    </tr>\n",
       "    <tr>\n",
       "      <th>departure_delay</th>\n",
       "      <td>nan</td>\n",
       "      <td>nan</td>\n",
       "      <td>nan</td>\n",
       "      <td>1.000</td>\n",
       "      <td>nan</td>\n",
       "      <td>nan</td>\n",
       "      <td>nan</td>\n",
       "      <td>nan</td>\n",
       "      <td>nan</td>\n",
       "      <td>nan</td>\n",
       "      <td>nan</td>\n",
       "      <td>nan</td>\n",
       "      <td>nan</td>\n",
       "      <td>nan</td>\n",
       "      <td>nan</td>\n",
       "      <td>nan</td>\n",
       "      <td>nan</td>\n",
       "      <td>nan</td>\n",
       "      <td>nan</td>\n",
       "      <td>nan</td>\n",
       "      <td>nan</td>\n",
       "      <td>nan</td>\n",
       "      <td>nan</td>\n",
       "      <td>nan</td>\n",
       "    </tr>\n",
       "    <tr>\n",
       "      <th>scheduled_time</th>\n",
       "      <td>nan</td>\n",
       "      <td>nan</td>\n",
       "      <td>nan</td>\n",
       "      <td>nan</td>\n",
       "      <td>1.000</td>\n",
       "      <td>nan</td>\n",
       "      <td>nan</td>\n",
       "      <td>nan</td>\n",
       "      <td>nan</td>\n",
       "      <td>nan</td>\n",
       "      <td>nan</td>\n",
       "      <td>nan</td>\n",
       "      <td>nan</td>\n",
       "      <td>nan</td>\n",
       "      <td>nan</td>\n",
       "      <td>nan</td>\n",
       "      <td>nan</td>\n",
       "      <td>nan</td>\n",
       "      <td>nan</td>\n",
       "      <td>nan</td>\n",
       "      <td>nan</td>\n",
       "      <td>nan</td>\n",
       "      <td>nan</td>\n",
       "      <td>0.979</td>\n",
       "    </tr>\n",
       "    <tr>\n",
       "      <th>scheduled_arrival</th>\n",
       "      <td>nan</td>\n",
       "      <td>nan</td>\n",
       "      <td>nan</td>\n",
       "      <td>nan</td>\n",
       "      <td>nan</td>\n",
       "      <td>1.000</td>\n",
       "      <td>nan</td>\n",
       "      <td>nan</td>\n",
       "      <td>nan</td>\n",
       "      <td>nan</td>\n",
       "      <td>nan</td>\n",
       "      <td>nan</td>\n",
       "      <td>nan</td>\n",
       "      <td>nan</td>\n",
       "      <td>nan</td>\n",
       "      <td>nan</td>\n",
       "      <td>nan</td>\n",
       "      <td>nan</td>\n",
       "      <td>nan</td>\n",
       "      <td>nan</td>\n",
       "      <td>nan</td>\n",
       "      <td>nan</td>\n",
       "      <td>nan</td>\n",
       "      <td>nan</td>\n",
       "    </tr>\n",
       "    <tr>\n",
       "      <th>is_delayed</th>\n",
       "      <td>nan</td>\n",
       "      <td>nan</td>\n",
       "      <td>nan</td>\n",
       "      <td>nan</td>\n",
       "      <td>nan</td>\n",
       "      <td>nan</td>\n",
       "      <td>1.000</td>\n",
       "      <td>nan</td>\n",
       "      <td>nan</td>\n",
       "      <td>nan</td>\n",
       "      <td>nan</td>\n",
       "      <td>nan</td>\n",
       "      <td>nan</td>\n",
       "      <td>nan</td>\n",
       "      <td>nan</td>\n",
       "      <td>nan</td>\n",
       "      <td>nan</td>\n",
       "      <td>nan</td>\n",
       "      <td>nan</td>\n",
       "      <td>nan</td>\n",
       "      <td>nan</td>\n",
       "      <td>nan</td>\n",
       "      <td>nan</td>\n",
       "      <td>nan</td>\n",
       "    </tr>\n",
       "    <tr>\n",
       "      <th>perc_delayed_flights_airline</th>\n",
       "      <td>nan</td>\n",
       "      <td>nan</td>\n",
       "      <td>nan</td>\n",
       "      <td>nan</td>\n",
       "      <td>nan</td>\n",
       "      <td>nan</td>\n",
       "      <td>nan</td>\n",
       "      <td>1.000</td>\n",
       "      <td>nan</td>\n",
       "      <td>nan</td>\n",
       "      <td>0.981</td>\n",
       "      <td>nan</td>\n",
       "      <td>nan</td>\n",
       "      <td>nan</td>\n",
       "      <td>nan</td>\n",
       "      <td>nan</td>\n",
       "      <td>nan</td>\n",
       "      <td>nan</td>\n",
       "      <td>nan</td>\n",
       "      <td>nan</td>\n",
       "      <td>nan</td>\n",
       "      <td>nan</td>\n",
       "      <td>nan</td>\n",
       "      <td>nan</td>\n",
       "    </tr>\n",
       "    <tr>\n",
       "      <th>perc_delayed_flights_route</th>\n",
       "      <td>nan</td>\n",
       "      <td>nan</td>\n",
       "      <td>nan</td>\n",
       "      <td>nan</td>\n",
       "      <td>nan</td>\n",
       "      <td>nan</td>\n",
       "      <td>nan</td>\n",
       "      <td>nan</td>\n",
       "      <td>1.000</td>\n",
       "      <td>nan</td>\n",
       "      <td>nan</td>\n",
       "      <td>nan</td>\n",
       "      <td>nan</td>\n",
       "      <td>nan</td>\n",
       "      <td>nan</td>\n",
       "      <td>nan</td>\n",
       "      <td>nan</td>\n",
       "      <td>nan</td>\n",
       "      <td>nan</td>\n",
       "      <td>nan</td>\n",
       "      <td>nan</td>\n",
       "      <td>nan</td>\n",
       "      <td>nan</td>\n",
       "      <td>nan</td>\n",
       "    </tr>\n",
       "    <tr>\n",
       "      <th>avg_delay_city</th>\n",
       "      <td>nan</td>\n",
       "      <td>nan</td>\n",
       "      <td>nan</td>\n",
       "      <td>nan</td>\n",
       "      <td>nan</td>\n",
       "      <td>nan</td>\n",
       "      <td>nan</td>\n",
       "      <td>nan</td>\n",
       "      <td>nan</td>\n",
       "      <td>1.000</td>\n",
       "      <td>nan</td>\n",
       "      <td>nan</td>\n",
       "      <td>nan</td>\n",
       "      <td>nan</td>\n",
       "      <td>nan</td>\n",
       "      <td>nan</td>\n",
       "      <td>nan</td>\n",
       "      <td>nan</td>\n",
       "      <td>nan</td>\n",
       "      <td>nan</td>\n",
       "      <td>nan</td>\n",
       "      <td>nan</td>\n",
       "      <td>nan</td>\n",
       "      <td>nan</td>\n",
       "    </tr>\n",
       "    <tr>\n",
       "      <th>avg_delay_airline</th>\n",
       "      <td>nan</td>\n",
       "      <td>nan</td>\n",
       "      <td>nan</td>\n",
       "      <td>nan</td>\n",
       "      <td>nan</td>\n",
       "      <td>nan</td>\n",
       "      <td>nan</td>\n",
       "      <td>0.981</td>\n",
       "      <td>nan</td>\n",
       "      <td>nan</td>\n",
       "      <td>1.000</td>\n",
       "      <td>nan</td>\n",
       "      <td>nan</td>\n",
       "      <td>nan</td>\n",
       "      <td>nan</td>\n",
       "      <td>nan</td>\n",
       "      <td>nan</td>\n",
       "      <td>nan</td>\n",
       "      <td>nan</td>\n",
       "      <td>nan</td>\n",
       "      <td>nan</td>\n",
       "      <td>nan</td>\n",
       "      <td>nan</td>\n",
       "      <td>nan</td>\n",
       "    </tr>\n",
       "    <tr>\n",
       "      <th>is_weekend</th>\n",
       "      <td>nan</td>\n",
       "      <td>nan</td>\n",
       "      <td>nan</td>\n",
       "      <td>nan</td>\n",
       "      <td>nan</td>\n",
       "      <td>nan</td>\n",
       "      <td>nan</td>\n",
       "      <td>nan</td>\n",
       "      <td>nan</td>\n",
       "      <td>nan</td>\n",
       "      <td>nan</td>\n",
       "      <td>1.000</td>\n",
       "      <td>nan</td>\n",
       "      <td>nan</td>\n",
       "      <td>nan</td>\n",
       "      <td>nan</td>\n",
       "      <td>nan</td>\n",
       "      <td>nan</td>\n",
       "      <td>nan</td>\n",
       "      <td>nan</td>\n",
       "      <td>nan</td>\n",
       "      <td>nan</td>\n",
       "      <td>nan</td>\n",
       "      <td>nan</td>\n",
       "    </tr>\n",
       "    <tr>\n",
       "      <th>is_monday</th>\n",
       "      <td>nan</td>\n",
       "      <td>nan</td>\n",
       "      <td>nan</td>\n",
       "      <td>nan</td>\n",
       "      <td>nan</td>\n",
       "      <td>nan</td>\n",
       "      <td>nan</td>\n",
       "      <td>nan</td>\n",
       "      <td>nan</td>\n",
       "      <td>nan</td>\n",
       "      <td>nan</td>\n",
       "      <td>nan</td>\n",
       "      <td>1.000</td>\n",
       "      <td>nan</td>\n",
       "      <td>nan</td>\n",
       "      <td>nan</td>\n",
       "      <td>nan</td>\n",
       "      <td>nan</td>\n",
       "      <td>nan</td>\n",
       "      <td>nan</td>\n",
       "      <td>nan</td>\n",
       "      <td>nan</td>\n",
       "      <td>nan</td>\n",
       "      <td>nan</td>\n",
       "    </tr>\n",
       "    <tr>\n",
       "      <th>is_saturday</th>\n",
       "      <td>nan</td>\n",
       "      <td>nan</td>\n",
       "      <td>nan</td>\n",
       "      <td>nan</td>\n",
       "      <td>nan</td>\n",
       "      <td>nan</td>\n",
       "      <td>nan</td>\n",
       "      <td>nan</td>\n",
       "      <td>nan</td>\n",
       "      <td>nan</td>\n",
       "      <td>nan</td>\n",
       "      <td>nan</td>\n",
       "      <td>nan</td>\n",
       "      <td>1.000</td>\n",
       "      <td>nan</td>\n",
       "      <td>nan</td>\n",
       "      <td>nan</td>\n",
       "      <td>nan</td>\n",
       "      <td>nan</td>\n",
       "      <td>nan</td>\n",
       "      <td>nan</td>\n",
       "      <td>nan</td>\n",
       "      <td>nan</td>\n",
       "      <td>nan</td>\n",
       "    </tr>\n",
       "    <tr>\n",
       "      <th>is_risky_airline</th>\n",
       "      <td>nan</td>\n",
       "      <td>nan</td>\n",
       "      <td>nan</td>\n",
       "      <td>nan</td>\n",
       "      <td>nan</td>\n",
       "      <td>nan</td>\n",
       "      <td>nan</td>\n",
       "      <td>nan</td>\n",
       "      <td>nan</td>\n",
       "      <td>nan</td>\n",
       "      <td>nan</td>\n",
       "      <td>nan</td>\n",
       "      <td>nan</td>\n",
       "      <td>nan</td>\n",
       "      <td>1.000</td>\n",
       "      <td>nan</td>\n",
       "      <td>nan</td>\n",
       "      <td>nan</td>\n",
       "      <td>nan</td>\n",
       "      <td>nan</td>\n",
       "      <td>nan</td>\n",
       "      <td>nan</td>\n",
       "      <td>nan</td>\n",
       "      <td>nan</td>\n",
       "    </tr>\n",
       "    <tr>\n",
       "      <th>is_risky_origin_airline</th>\n",
       "      <td>nan</td>\n",
       "      <td>nan</td>\n",
       "      <td>nan</td>\n",
       "      <td>nan</td>\n",
       "      <td>nan</td>\n",
       "      <td>nan</td>\n",
       "      <td>nan</td>\n",
       "      <td>nan</td>\n",
       "      <td>nan</td>\n",
       "      <td>nan</td>\n",
       "      <td>nan</td>\n",
       "      <td>nan</td>\n",
       "      <td>nan</td>\n",
       "      <td>nan</td>\n",
       "      <td>nan</td>\n",
       "      <td>1.000</td>\n",
       "      <td>nan</td>\n",
       "      <td>nan</td>\n",
       "      <td>nan</td>\n",
       "      <td>nan</td>\n",
       "      <td>nan</td>\n",
       "      <td>nan</td>\n",
       "      <td>nan</td>\n",
       "      <td>nan</td>\n",
       "    </tr>\n",
       "    <tr>\n",
       "      <th>is_risky_destination_airport</th>\n",
       "      <td>nan</td>\n",
       "      <td>nan</td>\n",
       "      <td>nan</td>\n",
       "      <td>nan</td>\n",
       "      <td>nan</td>\n",
       "      <td>nan</td>\n",
       "      <td>nan</td>\n",
       "      <td>nan</td>\n",
       "      <td>nan</td>\n",
       "      <td>nan</td>\n",
       "      <td>nan</td>\n",
       "      <td>nan</td>\n",
       "      <td>nan</td>\n",
       "      <td>nan</td>\n",
       "      <td>nan</td>\n",
       "      <td>nan</td>\n",
       "      <td>1.000</td>\n",
       "      <td>nan</td>\n",
       "      <td>nan</td>\n",
       "      <td>nan</td>\n",
       "      <td>nan</td>\n",
       "      <td>nan</td>\n",
       "      <td>nan</td>\n",
       "      <td>nan</td>\n",
       "    </tr>\n",
       "    <tr>\n",
       "      <th>is_risky_city</th>\n",
       "      <td>nan</td>\n",
       "      <td>nan</td>\n",
       "      <td>nan</td>\n",
       "      <td>nan</td>\n",
       "      <td>nan</td>\n",
       "      <td>nan</td>\n",
       "      <td>nan</td>\n",
       "      <td>nan</td>\n",
       "      <td>nan</td>\n",
       "      <td>nan</td>\n",
       "      <td>nan</td>\n",
       "      <td>nan</td>\n",
       "      <td>nan</td>\n",
       "      <td>nan</td>\n",
       "      <td>nan</td>\n",
       "      <td>nan</td>\n",
       "      <td>nan</td>\n",
       "      <td>1.000</td>\n",
       "      <td>nan</td>\n",
       "      <td>nan</td>\n",
       "      <td>nan</td>\n",
       "      <td>nan</td>\n",
       "      <td>nan</td>\n",
       "      <td>nan</td>\n",
       "    </tr>\n",
       "    <tr>\n",
       "      <th>origin_airport_ORD</th>\n",
       "      <td>nan</td>\n",
       "      <td>nan</td>\n",
       "      <td>nan</td>\n",
       "      <td>nan</td>\n",
       "      <td>nan</td>\n",
       "      <td>nan</td>\n",
       "      <td>nan</td>\n",
       "      <td>nan</td>\n",
       "      <td>nan</td>\n",
       "      <td>nan</td>\n",
       "      <td>nan</td>\n",
       "      <td>nan</td>\n",
       "      <td>nan</td>\n",
       "      <td>nan</td>\n",
       "      <td>nan</td>\n",
       "      <td>nan</td>\n",
       "      <td>nan</td>\n",
       "      <td>nan</td>\n",
       "      <td>1.000</td>\n",
       "      <td>nan</td>\n",
       "      <td>nan</td>\n",
       "      <td>nan</td>\n",
       "      <td>nan</td>\n",
       "      <td>nan</td>\n",
       "    </tr>\n",
       "    <tr>\n",
       "      <th>origin_airport_DEN</th>\n",
       "      <td>nan</td>\n",
       "      <td>nan</td>\n",
       "      <td>nan</td>\n",
       "      <td>nan</td>\n",
       "      <td>nan</td>\n",
       "      <td>nan</td>\n",
       "      <td>nan</td>\n",
       "      <td>nan</td>\n",
       "      <td>nan</td>\n",
       "      <td>nan</td>\n",
       "      <td>nan</td>\n",
       "      <td>nan</td>\n",
       "      <td>nan</td>\n",
       "      <td>nan</td>\n",
       "      <td>nan</td>\n",
       "      <td>nan</td>\n",
       "      <td>nan</td>\n",
       "      <td>nan</td>\n",
       "      <td>nan</td>\n",
       "      <td>1.000</td>\n",
       "      <td>nan</td>\n",
       "      <td>nan</td>\n",
       "      <td>nan</td>\n",
       "      <td>nan</td>\n",
       "    </tr>\n",
       "    <tr>\n",
       "      <th>origin_airport_PHL</th>\n",
       "      <td>nan</td>\n",
       "      <td>nan</td>\n",
       "      <td>nan</td>\n",
       "      <td>nan</td>\n",
       "      <td>nan</td>\n",
       "      <td>nan</td>\n",
       "      <td>nan</td>\n",
       "      <td>nan</td>\n",
       "      <td>nan</td>\n",
       "      <td>nan</td>\n",
       "      <td>nan</td>\n",
       "      <td>nan</td>\n",
       "      <td>nan</td>\n",
       "      <td>nan</td>\n",
       "      <td>nan</td>\n",
       "      <td>nan</td>\n",
       "      <td>nan</td>\n",
       "      <td>nan</td>\n",
       "      <td>nan</td>\n",
       "      <td>nan</td>\n",
       "      <td>1.000</td>\n",
       "      <td>nan</td>\n",
       "      <td>nan</td>\n",
       "      <td>nan</td>\n",
       "    </tr>\n",
       "    <tr>\n",
       "      <th>origin_airport_LGA</th>\n",
       "      <td>nan</td>\n",
       "      <td>nan</td>\n",
       "      <td>nan</td>\n",
       "      <td>nan</td>\n",
       "      <td>nan</td>\n",
       "      <td>nan</td>\n",
       "      <td>nan</td>\n",
       "      <td>nan</td>\n",
       "      <td>nan</td>\n",
       "      <td>nan</td>\n",
       "      <td>nan</td>\n",
       "      <td>nan</td>\n",
       "      <td>nan</td>\n",
       "      <td>nan</td>\n",
       "      <td>nan</td>\n",
       "      <td>nan</td>\n",
       "      <td>nan</td>\n",
       "      <td>nan</td>\n",
       "      <td>nan</td>\n",
       "      <td>nan</td>\n",
       "      <td>nan</td>\n",
       "      <td>1.000</td>\n",
       "      <td>nan</td>\n",
       "      <td>nan</td>\n",
       "    </tr>\n",
       "    <tr>\n",
       "      <th>origin_airport_DFW</th>\n",
       "      <td>nan</td>\n",
       "      <td>nan</td>\n",
       "      <td>nan</td>\n",
       "      <td>nan</td>\n",
       "      <td>nan</td>\n",
       "      <td>nan</td>\n",
       "      <td>nan</td>\n",
       "      <td>nan</td>\n",
       "      <td>nan</td>\n",
       "      <td>nan</td>\n",
       "      <td>nan</td>\n",
       "      <td>nan</td>\n",
       "      <td>nan</td>\n",
       "      <td>nan</td>\n",
       "      <td>nan</td>\n",
       "      <td>nan</td>\n",
       "      <td>nan</td>\n",
       "      <td>nan</td>\n",
       "      <td>nan</td>\n",
       "      <td>nan</td>\n",
       "      <td>nan</td>\n",
       "      <td>nan</td>\n",
       "      <td>1.000</td>\n",
       "      <td>nan</td>\n",
       "    </tr>\n",
       "    <tr>\n",
       "      <th>distance_normalized</th>\n",
       "      <td>nan</td>\n",
       "      <td>nan</td>\n",
       "      <td>nan</td>\n",
       "      <td>nan</td>\n",
       "      <td>0.979</td>\n",
       "      <td>nan</td>\n",
       "      <td>nan</td>\n",
       "      <td>nan</td>\n",
       "      <td>nan</td>\n",
       "      <td>nan</td>\n",
       "      <td>nan</td>\n",
       "      <td>nan</td>\n",
       "      <td>nan</td>\n",
       "      <td>nan</td>\n",
       "      <td>nan</td>\n",
       "      <td>nan</td>\n",
       "      <td>nan</td>\n",
       "      <td>nan</td>\n",
       "      <td>nan</td>\n",
       "      <td>nan</td>\n",
       "      <td>nan</td>\n",
       "      <td>nan</td>\n",
       "      <td>nan</td>\n",
       "      <td>1.000</td>\n",
       "    </tr>\n",
       "  </tbody>\n",
       "</table>\n",
       "</div>"
      ],
      "text/plain": [
       "                              day_of_week  scheduled_departure  \\\n",
       "day_of_week                         1.000                  nan   \n",
       "scheduled_departure                   nan                1.000   \n",
       "departure_time                        nan                0.969   \n",
       "departure_delay                       nan                  nan   \n",
       "scheduled_time                        nan                  nan   \n",
       "scheduled_arrival                     nan                  nan   \n",
       "is_delayed                            nan                  nan   \n",
       "perc_delayed_flights_airline          nan                  nan   \n",
       "perc_delayed_flights_route            nan                  nan   \n",
       "avg_delay_city                        nan                  nan   \n",
       "avg_delay_airline                     nan                  nan   \n",
       "is_weekend                            nan                  nan   \n",
       "is_monday                             nan                  nan   \n",
       "is_saturday                           nan                  nan   \n",
       "is_risky_airline                      nan                  nan   \n",
       "is_risky_origin_airline               nan                  nan   \n",
       "is_risky_destination_airport          nan                  nan   \n",
       "is_risky_city                         nan                  nan   \n",
       "origin_airport_ORD                    nan                  nan   \n",
       "origin_airport_DEN                    nan                  nan   \n",
       "origin_airport_PHL                    nan                  nan   \n",
       "origin_airport_LGA                    nan                  nan   \n",
       "origin_airport_DFW                    nan                  nan   \n",
       "distance_normalized                   nan                  nan   \n",
       "\n",
       "                              departure_time  departure_delay  scheduled_time  \\\n",
       "day_of_week                              nan              nan             nan   \n",
       "scheduled_departure                    0.969              nan             nan   \n",
       "departure_time                         1.000              nan             nan   \n",
       "departure_delay                          nan            1.000             nan   \n",
       "scheduled_time                           nan              nan           1.000   \n",
       "scheduled_arrival                        nan              nan             nan   \n",
       "is_delayed                               nan              nan             nan   \n",
       "perc_delayed_flights_airline             nan              nan             nan   \n",
       "perc_delayed_flights_route               nan              nan             nan   \n",
       "avg_delay_city                           nan              nan             nan   \n",
       "avg_delay_airline                        nan              nan             nan   \n",
       "is_weekend                               nan              nan             nan   \n",
       "is_monday                                nan              nan             nan   \n",
       "is_saturday                              nan              nan             nan   \n",
       "is_risky_airline                         nan              nan             nan   \n",
       "is_risky_origin_airline                  nan              nan             nan   \n",
       "is_risky_destination_airport             nan              nan             nan   \n",
       "is_risky_city                            nan              nan             nan   \n",
       "origin_airport_ORD                       nan              nan             nan   \n",
       "origin_airport_DEN                       nan              nan             nan   \n",
       "origin_airport_PHL                       nan              nan             nan   \n",
       "origin_airport_LGA                       nan              nan             nan   \n",
       "origin_airport_DFW                       nan              nan             nan   \n",
       "distance_normalized                      nan              nan           0.979   \n",
       "\n",
       "                              scheduled_arrival  is_delayed  \\\n",
       "day_of_week                                 nan         nan   \n",
       "scheduled_departure                         nan         nan   \n",
       "departure_time                              nan         nan   \n",
       "departure_delay                             nan         nan   \n",
       "scheduled_time                              nan         nan   \n",
       "scheduled_arrival                         1.000         nan   \n",
       "is_delayed                                  nan       1.000   \n",
       "perc_delayed_flights_airline                nan         nan   \n",
       "perc_delayed_flights_route                  nan         nan   \n",
       "avg_delay_city                              nan         nan   \n",
       "avg_delay_airline                           nan         nan   \n",
       "is_weekend                                  nan         nan   \n",
       "is_monday                                   nan         nan   \n",
       "is_saturday                                 nan         nan   \n",
       "is_risky_airline                            nan         nan   \n",
       "is_risky_origin_airline                     nan         nan   \n",
       "is_risky_destination_airport                nan         nan   \n",
       "is_risky_city                               nan         nan   \n",
       "origin_airport_ORD                          nan         nan   \n",
       "origin_airport_DEN                          nan         nan   \n",
       "origin_airport_PHL                          nan         nan   \n",
       "origin_airport_LGA                          nan         nan   \n",
       "origin_airport_DFW                          nan         nan   \n",
       "distance_normalized                         nan         nan   \n",
       "\n",
       "                              perc_delayed_flights_airline  \\\n",
       "day_of_week                                            nan   \n",
       "scheduled_departure                                    nan   \n",
       "departure_time                                         nan   \n",
       "departure_delay                                        nan   \n",
       "scheduled_time                                         nan   \n",
       "scheduled_arrival                                      nan   \n",
       "is_delayed                                             nan   \n",
       "perc_delayed_flights_airline                         1.000   \n",
       "perc_delayed_flights_route                             nan   \n",
       "avg_delay_city                                         nan   \n",
       "avg_delay_airline                                    0.981   \n",
       "is_weekend                                             nan   \n",
       "is_monday                                              nan   \n",
       "is_saturday                                            nan   \n",
       "is_risky_airline                                       nan   \n",
       "is_risky_origin_airline                                nan   \n",
       "is_risky_destination_airport                           nan   \n",
       "is_risky_city                                          nan   \n",
       "origin_airport_ORD                                     nan   \n",
       "origin_airport_DEN                                     nan   \n",
       "origin_airport_PHL                                     nan   \n",
       "origin_airport_LGA                                     nan   \n",
       "origin_airport_DFW                                     nan   \n",
       "distance_normalized                                    nan   \n",
       "\n",
       "                              perc_delayed_flights_route  avg_delay_city  \\\n",
       "day_of_week                                          nan             nan   \n",
       "scheduled_departure                                  nan             nan   \n",
       "departure_time                                       nan             nan   \n",
       "departure_delay                                      nan             nan   \n",
       "scheduled_time                                       nan             nan   \n",
       "scheduled_arrival                                    nan             nan   \n",
       "is_delayed                                           nan             nan   \n",
       "perc_delayed_flights_airline                         nan             nan   \n",
       "perc_delayed_flights_route                         1.000             nan   \n",
       "avg_delay_city                                       nan           1.000   \n",
       "avg_delay_airline                                    nan             nan   \n",
       "is_weekend                                           nan             nan   \n",
       "is_monday                                            nan             nan   \n",
       "is_saturday                                          nan             nan   \n",
       "is_risky_airline                                     nan             nan   \n",
       "is_risky_origin_airline                              nan             nan   \n",
       "is_risky_destination_airport                         nan             nan   \n",
       "is_risky_city                                        nan             nan   \n",
       "origin_airport_ORD                                   nan             nan   \n",
       "origin_airport_DEN                                   nan             nan   \n",
       "origin_airport_PHL                                   nan             nan   \n",
       "origin_airport_LGA                                   nan             nan   \n",
       "origin_airport_DFW                                   nan             nan   \n",
       "distance_normalized                                  nan             nan   \n",
       "\n",
       "                              avg_delay_airline  is_weekend  is_monday  \\\n",
       "day_of_week                                 nan         nan        nan   \n",
       "scheduled_departure                         nan         nan        nan   \n",
       "departure_time                              nan         nan        nan   \n",
       "departure_delay                             nan         nan        nan   \n",
       "scheduled_time                              nan         nan        nan   \n",
       "scheduled_arrival                           nan         nan        nan   \n",
       "is_delayed                                  nan         nan        nan   \n",
       "perc_delayed_flights_airline              0.981         nan        nan   \n",
       "perc_delayed_flights_route                  nan         nan        nan   \n",
       "avg_delay_city                              nan         nan        nan   \n",
       "avg_delay_airline                         1.000         nan        nan   \n",
       "is_weekend                                  nan       1.000        nan   \n",
       "is_monday                                   nan         nan      1.000   \n",
       "is_saturday                                 nan         nan        nan   \n",
       "is_risky_airline                            nan         nan        nan   \n",
       "is_risky_origin_airline                     nan         nan        nan   \n",
       "is_risky_destination_airport                nan         nan        nan   \n",
       "is_risky_city                               nan         nan        nan   \n",
       "origin_airport_ORD                          nan         nan        nan   \n",
       "origin_airport_DEN                          nan         nan        nan   \n",
       "origin_airport_PHL                          nan         nan        nan   \n",
       "origin_airport_LGA                          nan         nan        nan   \n",
       "origin_airport_DFW                          nan         nan        nan   \n",
       "distance_normalized                         nan         nan        nan   \n",
       "\n",
       "                              is_saturday  is_risky_airline  \\\n",
       "day_of_week                           nan               nan   \n",
       "scheduled_departure                   nan               nan   \n",
       "departure_time                        nan               nan   \n",
       "departure_delay                       nan               nan   \n",
       "scheduled_time                        nan               nan   \n",
       "scheduled_arrival                     nan               nan   \n",
       "is_delayed                            nan               nan   \n",
       "perc_delayed_flights_airline          nan               nan   \n",
       "perc_delayed_flights_route            nan               nan   \n",
       "avg_delay_city                        nan               nan   \n",
       "avg_delay_airline                     nan               nan   \n",
       "is_weekend                            nan               nan   \n",
       "is_monday                             nan               nan   \n",
       "is_saturday                         1.000               nan   \n",
       "is_risky_airline                      nan             1.000   \n",
       "is_risky_origin_airline               nan               nan   \n",
       "is_risky_destination_airport          nan               nan   \n",
       "is_risky_city                         nan               nan   \n",
       "origin_airport_ORD                    nan               nan   \n",
       "origin_airport_DEN                    nan               nan   \n",
       "origin_airport_PHL                    nan               nan   \n",
       "origin_airport_LGA                    nan               nan   \n",
       "origin_airport_DFW                    nan               nan   \n",
       "distance_normalized                   nan               nan   \n",
       "\n",
       "                              is_risky_origin_airline  \\\n",
       "day_of_week                                       nan   \n",
       "scheduled_departure                               nan   \n",
       "departure_time                                    nan   \n",
       "departure_delay                                   nan   \n",
       "scheduled_time                                    nan   \n",
       "scheduled_arrival                                 nan   \n",
       "is_delayed                                        nan   \n",
       "perc_delayed_flights_airline                      nan   \n",
       "perc_delayed_flights_route                        nan   \n",
       "avg_delay_city                                    nan   \n",
       "avg_delay_airline                                 nan   \n",
       "is_weekend                                        nan   \n",
       "is_monday                                         nan   \n",
       "is_saturday                                       nan   \n",
       "is_risky_airline                                  nan   \n",
       "is_risky_origin_airline                         1.000   \n",
       "is_risky_destination_airport                      nan   \n",
       "is_risky_city                                     nan   \n",
       "origin_airport_ORD                                nan   \n",
       "origin_airport_DEN                                nan   \n",
       "origin_airport_PHL                                nan   \n",
       "origin_airport_LGA                                nan   \n",
       "origin_airport_DFW                                nan   \n",
       "distance_normalized                               nan   \n",
       "\n",
       "                              is_risky_destination_airport  is_risky_city  \\\n",
       "day_of_week                                            nan            nan   \n",
       "scheduled_departure                                    nan            nan   \n",
       "departure_time                                         nan            nan   \n",
       "departure_delay                                        nan            nan   \n",
       "scheduled_time                                         nan            nan   \n",
       "scheduled_arrival                                      nan            nan   \n",
       "is_delayed                                             nan            nan   \n",
       "perc_delayed_flights_airline                           nan            nan   \n",
       "perc_delayed_flights_route                             nan            nan   \n",
       "avg_delay_city                                         nan            nan   \n",
       "avg_delay_airline                                      nan            nan   \n",
       "is_weekend                                             nan            nan   \n",
       "is_monday                                              nan            nan   \n",
       "is_saturday                                            nan            nan   \n",
       "is_risky_airline                                       nan            nan   \n",
       "is_risky_origin_airline                                nan            nan   \n",
       "is_risky_destination_airport                         1.000            nan   \n",
       "is_risky_city                                          nan          1.000   \n",
       "origin_airport_ORD                                     nan            nan   \n",
       "origin_airport_DEN                                     nan            nan   \n",
       "origin_airport_PHL                                     nan            nan   \n",
       "origin_airport_LGA                                     nan            nan   \n",
       "origin_airport_DFW                                     nan            nan   \n",
       "distance_normalized                                    nan            nan   \n",
       "\n",
       "                              origin_airport_ORD  origin_airport_DEN  \\\n",
       "day_of_week                                  nan                 nan   \n",
       "scheduled_departure                          nan                 nan   \n",
       "departure_time                               nan                 nan   \n",
       "departure_delay                              nan                 nan   \n",
       "scheduled_time                               nan                 nan   \n",
       "scheduled_arrival                            nan                 nan   \n",
       "is_delayed                                   nan                 nan   \n",
       "perc_delayed_flights_airline                 nan                 nan   \n",
       "perc_delayed_flights_route                   nan                 nan   \n",
       "avg_delay_city                               nan                 nan   \n",
       "avg_delay_airline                            nan                 nan   \n",
       "is_weekend                                   nan                 nan   \n",
       "is_monday                                    nan                 nan   \n",
       "is_saturday                                  nan                 nan   \n",
       "is_risky_airline                             nan                 nan   \n",
       "is_risky_origin_airline                      nan                 nan   \n",
       "is_risky_destination_airport                 nan                 nan   \n",
       "is_risky_city                                nan                 nan   \n",
       "origin_airport_ORD                         1.000                 nan   \n",
       "origin_airport_DEN                           nan               1.000   \n",
       "origin_airport_PHL                           nan                 nan   \n",
       "origin_airport_LGA                           nan                 nan   \n",
       "origin_airport_DFW                           nan                 nan   \n",
       "distance_normalized                          nan                 nan   \n",
       "\n",
       "                              origin_airport_PHL  origin_airport_LGA  \\\n",
       "day_of_week                                  nan                 nan   \n",
       "scheduled_departure                          nan                 nan   \n",
       "departure_time                               nan                 nan   \n",
       "departure_delay                              nan                 nan   \n",
       "scheduled_time                               nan                 nan   \n",
       "scheduled_arrival                            nan                 nan   \n",
       "is_delayed                                   nan                 nan   \n",
       "perc_delayed_flights_airline                 nan                 nan   \n",
       "perc_delayed_flights_route                   nan                 nan   \n",
       "avg_delay_city                               nan                 nan   \n",
       "avg_delay_airline                            nan                 nan   \n",
       "is_weekend                                   nan                 nan   \n",
       "is_monday                                    nan                 nan   \n",
       "is_saturday                                  nan                 nan   \n",
       "is_risky_airline                             nan                 nan   \n",
       "is_risky_origin_airline                      nan                 nan   \n",
       "is_risky_destination_airport                 nan                 nan   \n",
       "is_risky_city                                nan                 nan   \n",
       "origin_airport_ORD                           nan                 nan   \n",
       "origin_airport_DEN                           nan                 nan   \n",
       "origin_airport_PHL                         1.000                 nan   \n",
       "origin_airport_LGA                           nan               1.000   \n",
       "origin_airport_DFW                           nan                 nan   \n",
       "distance_normalized                          nan                 nan   \n",
       "\n",
       "                              origin_airport_DFW  distance_normalized  \n",
       "day_of_week                                  nan                  nan  \n",
       "scheduled_departure                          nan                  nan  \n",
       "departure_time                               nan                  nan  \n",
       "departure_delay                              nan                  nan  \n",
       "scheduled_time                               nan                0.979  \n",
       "scheduled_arrival                            nan                  nan  \n",
       "is_delayed                                   nan                  nan  \n",
       "perc_delayed_flights_airline                 nan                  nan  \n",
       "perc_delayed_flights_route                   nan                  nan  \n",
       "avg_delay_city                               nan                  nan  \n",
       "avg_delay_airline                            nan                  nan  \n",
       "is_weekend                                   nan                  nan  \n",
       "is_monday                                    nan                  nan  \n",
       "is_saturday                                  nan                  nan  \n",
       "is_risky_airline                             nan                  nan  \n",
       "is_risky_origin_airline                      nan                  nan  \n",
       "is_risky_destination_airport                 nan                  nan  \n",
       "is_risky_city                                nan                  nan  \n",
       "origin_airport_ORD                           nan                  nan  \n",
       "origin_airport_DEN                           nan                  nan  \n",
       "origin_airport_PHL                           nan                  nan  \n",
       "origin_airport_LGA                           nan                  nan  \n",
       "origin_airport_DFW                         1.000                  nan  \n",
       "distance_normalized                          nan                1.000  "
      ]
     },
     "execution_count": 61,
     "metadata": {},
     "output_type": "execute_result"
    }
   ],
   "source": [
    "corr = train.corr()\n",
    "\n",
    "# all entries with correlation below 0.9 will display nan\n",
    "corr[(corr >= 0.9) | (corr <= -0.9)]"
   ]
  },
  {
   "cell_type": "markdown",
   "metadata": {
    "hidden": true
   },
   "source": [
    "We observe that `avg_delay_airline` and `perc_delayed_flights_airline` features have high correlation, which make sense because those columns represent similar information.\n",
    "    \n",
    "Regarding `distance_normalized` and `scheduled_time` features, the correlation is not clear. Maybe, the reason is that flights with large distances occur by night."
   ]
  },
  {
   "cell_type": "markdown",
   "metadata": {},
   "source": [
    "## Section C"
   ]
  },
  {
   "cell_type": "markdown",
   "metadata": {},
   "source": [
    "### C1. Fill NaNs"
   ]
  },
  {
   "cell_type": "markdown",
   "metadata": {},
   "source": [
    "First, let's fill all NaNs. To do that I can do several things:\n",
    "\n",
    "* fill using a values outside domain value;\n",
    "* fill using average;\n",
    "* fill using some advance technique like KNN."
   ]
  },
  {
   "cell_type": "code",
   "execution_count": 62,
   "metadata": {
    "ExecuteTime": {
     "end_time": "2018-06-18T22:30:32.214811Z",
     "start_time": "2018-06-18T22:30:31.131098Z"
    },
    "scrolled": true
   },
   "outputs": [
    {
     "name": "stdout",
     "output_type": "stream",
     "text": [
      "departure_time     30698\n",
      "departure_delay    30698\n",
      "scheduled_time         2\n",
      "dtype: int64\n",
      "departure_time     4253\n",
      "departure_delay    4253\n",
      "scheduled_time        2\n",
      "dtype: int64\n",
      "departure_time     14034\n",
      "departure_delay    14034\n",
      "scheduled_time         2\n",
      "dtype: int64\n"
     ]
    }
   ],
   "source": [
    "for d in datasets:\n",
    "    print(d.isna().sum()[lambda x: x > 0])"
   ]
  },
  {
   "cell_type": "code",
   "execution_count": 63,
   "metadata": {
    "ExecuteTime": {
     "end_time": "2018-06-18T22:30:32.253517Z",
     "start_time": "2018-06-18T22:30:32.217581Z"
    },
    "collapsed": true
   },
   "outputs": [],
   "source": [
    "for d in datasets:\n",
    "    d['departure_time'].fillna(1200, inplace=True) # assuming noon\n",
    "    d['departure_delay'].fillna(0, inplace=True) # assuming no delay\n",
    "    d['scheduled_time'].fillna(1200, inplace=True) # assuming noon and no delay at departure"
   ]
  },
  {
   "cell_type": "markdown",
   "metadata": {},
   "source": [
    "### C2. Build logistic regression"
   ]
  },
  {
   "cell_type": "code",
   "execution_count": 64,
   "metadata": {
    "ExecuteTime": {
     "end_time": "2018-06-18T22:31:04.382755Z",
     "start_time": "2018-06-18T22:30:32.256192Z"
    }
   },
   "outputs": [
    {
     "name": "stdout",
     "output_type": "stream",
     "text": [
      "C -> 1.0\n",
      "Accuracy             -> 92.95%\n",
      "Recall               -> 66.71%\n",
      "Precision            -> 88.94%\n",
      "F1-Score             -> 76.24%\n",
      "False Positive Rate  ->  1.69%\n",
      "\n",
      "C -> 0.5\n",
      "Accuracy             -> 92.95%\n",
      "Recall               -> 66.72%\n",
      "Precision            -> 88.95%\n",
      "F1-Score             -> 76.25%\n",
      "False Positive Rate  ->  1.69%\n",
      "\n",
      "C -> 0.1\n",
      "Accuracy             -> 92.97%\n",
      "Recall               -> 66.73%\n",
      "Precision            -> 89.03%\n",
      "F1-Score             -> 76.28%\n",
      "False Positive Rate  ->  1.68%\n",
      "\n"
     ]
    }
   ],
   "source": [
    "# build features set\n",
    "features = train.columns.drop('is_delayed')\n",
    "\n",
    "logistic_models = {}\n",
    "\n",
    "for c in [1.0, 0.5, 0.1]:\n",
    "    print('C -> %s' % c)\n",
    "    \n",
    "    # train logistic regression to predic is_delayed \n",
    "    model = LogisticRegression(C=c)\n",
    "    train_results = model.fit(train[features], train.is_delayed)\n",
    "    \n",
    "    logistic_models[c] = model\n",
    "    \n",
    "    # use trained model to predit is_delayed field in validation set\n",
    "    results = model.predict(validation[features])\n",
    "    \n",
    "    # get model performance\n",
    "    metrics = get_metrics(validation.is_delayed, results)\n",
    "    \n",
    "    # prettify metrics\n",
    "    for m in metrics:\n",
    "        print('{:20} -> {:6.2%}'.format(m, metrics[m]))\n",
    "        \n",
    "    print()    "
   ]
  },
  {
   "cell_type": "markdown",
   "metadata": {},
   "source": [
    "### C3. Build decision tree"
   ]
  },
  {
   "cell_type": "code",
   "execution_count": 65,
   "metadata": {
    "ExecuteTime": {
     "end_time": "2018-06-18T22:31:21.737760Z",
     "start_time": "2018-06-18T22:31:04.386418Z"
    }
   },
   "outputs": [
    {
     "name": "stdout",
     "output_type": "stream",
     "text": [
      "Max depth -> 5\n",
      "Accuracy             -> 93.01%\n",
      "Recall               -> 67.21%\n",
      "Precision            -> 88.82%\n",
      "F1-Score             -> 76.52%\n",
      "False Positive Rate  ->  1.73%\n",
      "\n",
      "Max depth -> 10\n",
      "Accuracy             -> 92.91%\n",
      "Recall               -> 67.18%\n",
      "Precision            -> 88.21%\n",
      "F1-Score             -> 76.28%\n",
      "False Positive Rate  ->  1.83%\n",
      "\n",
      "Max depth -> 100\n",
      "Accuracy             -> 88.15%\n",
      "Recall               -> 68.02%\n",
      "Precision            -> 64.20%\n",
      "F1-Score             -> 66.05%\n",
      "False Positive Rate  ->  7.74%\n",
      "\n"
     ]
    }
   ],
   "source": [
    "# build features set\n",
    "features = train.columns.drop('is_delayed')\n",
    "\n",
    "decision_tree_models = {}\n",
    "\n",
    "for md in [5, 10, 100]:\n",
    "    print('Max depth -> %s' % md)\n",
    "    \n",
    "    # train decision tree to predic is_delayed \n",
    "    model = DecisionTreeClassifier(max_depth=md)\n",
    "    train_results = model.fit(train[features], train.is_delayed)\n",
    "    \n",
    "    decision_tree_models[md] = model\n",
    "    \n",
    "    # use trained model to predit is_delayed field in validation set\n",
    "    results = model.predict(validation[features])\n",
    "    \n",
    "    # get model performance\n",
    "    metrics = get_metrics(validation.is_delayed, results)\n",
    "    \n",
    "    # prettify metrics\n",
    "    for m in metrics:\n",
    "        print('{:20} -> {:6.2%}'.format(m, metrics[m]))\n",
    "        \n",
    "    print()    "
   ]
  },
  {
   "cell_type": "markdown",
   "metadata": {},
   "source": [
    "### C4. Conclusion"
   ]
  },
  {
   "cell_type": "markdown",
   "metadata": {
    "ExecuteTime": {
     "end_time": "2018-06-18T22:15:23.248640Z",
     "start_time": "2018-06-18T22:15:23.240678Z"
    }
   },
   "source": [
    "The best models are logistic regression with `C=0.1` and decision tree with `max_depth=5`. Let's see the results in test!"
   ]
  },
  {
   "cell_type": "code",
   "execution_count": 66,
   "metadata": {
    "ExecuteTime": {
     "end_time": "2018-06-18T22:31:22.473818Z",
     "start_time": "2018-06-18T22:31:21.740086Z"
    }
   },
   "outputs": [
    {
     "name": "stdout",
     "output_type": "stream",
     "text": [
      "Logistic regression (C=0.1)\n",
      "Accuracy             -> 92.91%\n",
      "Recall               -> 72.75%\n",
      "Precision            -> 90.86%\n",
      "F1-Score             -> 80.80%\n",
      "False Positive Rate  ->  1.89%\n",
      "\n",
      "Decision trees (max_depth=5)\n",
      "Accuracy             -> 92.92%\n",
      "Recall               -> 73.26%\n",
      "Precision            -> 90.42%\n",
      "F1-Score             -> 80.94%\n",
      "False Positive Rate  ->  2.00%\n",
      "\n"
     ]
    }
   ],
   "source": [
    "# build features set\n",
    "features = train.columns.drop('is_delayed')\n",
    "\n",
    "model1 = logistic_models.get(0.1)\n",
    "model2 = decision_tree_models.get(5)\n",
    "\n",
    "print(\"Logistic regression (C=0.1)\")\n",
    "\n",
    "# use trained model to predit is_delayed field in test set\n",
    "results = model1.predict(test[features])\n",
    "# get model performance\n",
    "metrics = get_metrics(test.is_delayed, results)\n",
    "\n",
    "# prettify metrics\n",
    "for m in metrics:\n",
    "    print('{:20} -> {:6.2%}'.format(m, metrics[m]))\n",
    "    \n",
    "print()\n",
    "\n",
    "print(\"Decision trees (max_depth=5)\")\n",
    "\n",
    "# use trained model to predit is_delayed field in test set\n",
    "results = model2.predict(test[features])\n",
    "# get model performance\n",
    "metrics = get_metrics(test.is_delayed, results)\n",
    "\n",
    "# prettify metrics\n",
    "for m in metrics:\n",
    "    print('{:20} -> {:6.2%}'.format(m, metrics[m]))\n",
    "    \n",
    "print()    "
   ]
  },
  {
   "cell_type": "markdown",
   "metadata": {},
   "source": [
    "The results got better in test set! \n",
    "\n",
    "For more or less the same FPRate, the f1-score got slightly better results than validation results. With these results I can conclude that we do not have under or over-fitting and the model generalize well for the test set.\n",
    "\n",
    "As bonus I've plot the decision tree."
   ]
  },
  {
   "cell_type": "code",
   "execution_count": 71,
   "metadata": {
    "ExecuteTime": {
     "end_time": "2018-06-18T22:46:49.550440Z",
     "start_time": "2018-06-18T22:46:49.436713Z"
    }
   },
   "outputs": [
    {
     "data": {
      "image/svg+xml": [
       "<?xml version=\"1.0\" encoding=\"UTF-8\" standalone=\"no\"?>\n",
       "<!DOCTYPE svg PUBLIC \"-//W3C//DTD SVG 1.1//EN\"\n",
       " \"http://www.w3.org/Graphics/SVG/1.1/DTD/svg11.dtd\">\n",
       "<!-- Generated by graphviz version 2.40.1 (20161225.0304)\n",
       " -->\n",
       "<!-- Title: Tree Pages: 1 -->\n",
       "<svg width=\"5146pt\" height=\"642pt\"\n",
       " viewBox=\"0.00 0.00 5146.16 642.00\" xmlns=\"http://www.w3.org/2000/svg\" xmlns:xlink=\"http://www.w3.org/1999/xlink\">\n",
       "<g id=\"graph0\" class=\"graph\" transform=\"scale(1 1) rotate(0) translate(4 638)\">\n",
       "<title>Tree</title>\n",
       "<polygon fill=\"#ffffff\" stroke=\"transparent\" points=\"-4,4 -4,-638 5142.1646,-638 5142.1646,4 -4,4\"/>\n",
       "<!-- 0 -->\n",
       "<g id=\"node1\" class=\"node\">\n",
       "<title>0</title>\n",
       "<path fill=\"#e58139\" fill-opacity=\"0.745098\" stroke=\"#000000\" d=\"M2954.8384,-634C2954.8384,-634 2804.0054,-634 2804.0054,-634 2798.0054,-634 2792.0054,-628 2792.0054,-622 2792.0054,-622 2792.0054,-568 2792.0054,-568 2792.0054,-562 2798.0054,-556 2804.0054,-556 2804.0054,-556 2954.8384,-556 2954.8384,-556 2960.8384,-556 2966.8384,-562 2966.8384,-568 2966.8384,-568 2966.8384,-622 2966.8384,-622 2966.8384,-628 2960.8384,-634 2954.8384,-634\"/>\n",
       "<text text-anchor=\"start\" x=\"2807.4736\" y=\"-618.8\" font-family=\"Helvetica,sans-Serif\" font-size=\"14.00\" fill=\"#000000\">departure_delay ≤ 19.5</text>\n",
       "<text text-anchor=\"start\" x=\"2843.0308\" y=\"-604.8\" font-family=\"Helvetica,sans-Serif\" font-size=\"14.00\" fill=\"#000000\">gini = 0.325</text>\n",
       "<text text-anchor=\"start\" x=\"2822.0205\" y=\"-590.8\" font-family=\"Helvetica,sans-Serif\" font-size=\"14.00\" fill=\"#000000\">samples = 933503</text>\n",
       "<text text-anchor=\"start\" x=\"2800.2139\" y=\"-576.8\" font-family=\"Helvetica,sans-Serif\" font-size=\"14.00\" fill=\"#000000\">value = [742872, 190631]</text>\n",
       "<text text-anchor=\"start\" x=\"2817.3516\" y=\"-562.8\" font-family=\"Helvetica,sans-Serif\" font-size=\"14.00\" fill=\"#000000\">class = not_delayed</text>\n",
       "</g>\n",
       "<!-- 1 -->\n",
       "<g id=\"node2\" class=\"node\">\n",
       "<title>1</title>\n",
       "<path fill=\"#e58139\" fill-opacity=\"0.925490\" stroke=\"#000000\" d=\"M2103.5522,-520C2103.5522,-520 1961.2916,-520 1961.2916,-520 1955.2916,-520 1949.2916,-514 1949.2916,-508 1949.2916,-508 1949.2916,-454 1949.2916,-454 1949.2916,-448 1955.2916,-442 1961.2916,-442 1961.2916,-442 2103.5522,-442 2103.5522,-442 2109.5522,-442 2115.5522,-448 2115.5522,-454 2115.5522,-454 2115.5522,-508 2115.5522,-508 2115.5522,-514 2109.5522,-520 2103.5522,-520\"/>\n",
       "<text text-anchor=\"start\" x=\"1964.3667\" y=\"-504.8\" font-family=\"Helvetica,sans-Serif\" font-size=\"14.00\" fill=\"#000000\">departure_delay ≤ 9.5</text>\n",
       "<text text-anchor=\"start\" x=\"1996.0308\" y=\"-490.8\" font-family=\"Helvetica,sans-Serif\" font-size=\"14.00\" fill=\"#000000\">gini = 0.131</text>\n",
       "<text text-anchor=\"start\" x=\"1975.0205\" y=\"-476.8\" font-family=\"Helvetica,sans-Serif\" font-size=\"14.00\" fill=\"#000000\">samples = 777346</text>\n",
       "<text text-anchor=\"start\" x=\"1957.1069\" y=\"-462.8\" font-family=\"Helvetica,sans-Serif\" font-size=\"14.00\" fill=\"#000000\">value = [722406, 54940]</text>\n",
       "<text text-anchor=\"start\" x=\"1970.3516\" y=\"-448.8\" font-family=\"Helvetica,sans-Serif\" font-size=\"14.00\" fill=\"#000000\">class = not_delayed</text>\n",
       "</g>\n",
       "<!-- 0&#45;&gt;1 -->\n",
       "<g id=\"edge1\" class=\"edge\">\n",
       "<title>0&#45;&gt;1</title>\n",
       "<path fill=\"none\" stroke=\"#000000\" d=\"M2791.9682,-583.2294C2631.3354,-561.6094 2290.684,-515.7602 2125.7627,-493.563\"/>\n",
       "<polygon fill=\"#000000\" stroke=\"#000000\" points=\"2126.0156,-490.0656 2115.6381,-492.2003 2125.0818,-497.003 2126.0156,-490.0656\"/>\n",
       "<text text-anchor=\"middle\" x=\"2130.7998\" y=\"-507.878\" font-family=\"Helvetica,sans-Serif\" font-size=\"14.00\" fill=\"#000000\">True</text>\n",
       "</g>\n",
       "<!-- 32 -->\n",
       "<g id=\"node33\" class=\"node\">\n",
       "<title>32</title>\n",
       "<path fill=\"#399de5\" fill-opacity=\"0.850980\" stroke=\"#000000\" d=\"M3256.5522,-520C3256.5522,-520 3114.2916,-520 3114.2916,-520 3108.2916,-520 3102.2916,-514 3102.2916,-508 3102.2916,-508 3102.2916,-454 3102.2916,-454 3102.2916,-448 3108.2916,-442 3114.2916,-442 3114.2916,-442 3256.5522,-442 3256.5522,-442 3262.5522,-442 3268.5522,-448 3268.5522,-454 3268.5522,-454 3268.5522,-508 3268.5522,-508 3268.5522,-514 3262.5522,-520 3256.5522,-520\"/>\n",
       "<text text-anchor=\"start\" x=\"3113.4736\" y=\"-504.8\" font-family=\"Helvetica,sans-Serif\" font-size=\"14.00\" fill=\"#000000\">departure_delay ≤ 28.5</text>\n",
       "<text text-anchor=\"start\" x=\"3149.0308\" y=\"-490.8\" font-family=\"Helvetica,sans-Serif\" font-size=\"14.00\" fill=\"#000000\">gini = 0.228</text>\n",
       "<text text-anchor=\"start\" x=\"3128.0205\" y=\"-476.8\" font-family=\"Helvetica,sans-Serif\" font-size=\"14.00\" fill=\"#000000\">samples = 156157</text>\n",
       "<text text-anchor=\"start\" x=\"3110.1069\" y=\"-462.8\" font-family=\"Helvetica,sans-Serif\" font-size=\"14.00\" fill=\"#000000\">value = [20466, 135691]</text>\n",
       "<text text-anchor=\"start\" x=\"3136.9756\" y=\"-448.8\" font-family=\"Helvetica,sans-Serif\" font-size=\"14.00\" fill=\"#000000\">class = delayed</text>\n",
       "</g>\n",
       "<!-- 0&#45;&gt;32 -->\n",
       "<g id=\"edge32\" class=\"edge\">\n",
       "<title>0&#45;&gt;32</title>\n",
       "<path fill=\"none\" stroke=\"#000000\" d=\"M2966.6997,-562.4847C3006.1128,-547.8014 3052.71,-530.4417 3092.7457,-515.5264\"/>\n",
       "<polygon fill=\"#000000\" stroke=\"#000000\" points=\"3094.0921,-518.7599 3102.241,-511.989 3091.6483,-512.2003 3094.0921,-518.7599\"/>\n",
       "<text text-anchor=\"middle\" x=\"3091.847\" y=\"-530.5258\" font-family=\"Helvetica,sans-Serif\" font-size=\"14.00\" fill=\"#000000\">False</text>\n",
       "</g>\n",
       "<!-- 2 -->\n",
       "<g id=\"node3\" class=\"node\">\n",
       "<title>2</title>\n",
       "<path fill=\"#e58139\" fill-opacity=\"0.949020\" stroke=\"#000000\" d=\"M1088.5522,-406C1088.5522,-406 946.2916,-406 946.2916,-406 940.2916,-406 934.2916,-400 934.2916,-394 934.2916,-394 934.2916,-340 934.2916,-340 934.2916,-334 940.2916,-328 946.2916,-328 946.2916,-328 1088.5522,-328 1088.5522,-328 1094.5522,-328 1100.5522,-334 1100.5522,-340 1100.5522,-340 1100.5522,-394 1100.5522,-394 1100.5522,-400 1094.5522,-406 1088.5522,-406\"/>\n",
       "<text text-anchor=\"start\" x=\"949.3667\" y=\"-390.8\" font-family=\"Helvetica,sans-Serif\" font-size=\"14.00\" fill=\"#000000\">departure_delay ≤ 1.5</text>\n",
       "<text text-anchor=\"start\" x=\"981.0308\" y=\"-376.8\" font-family=\"Helvetica,sans-Serif\" font-size=\"14.00\" fill=\"#000000\">gini = 0.093</text>\n",
       "<text text-anchor=\"start\" x=\"961.0527\" y=\"-362.8\" font-family=\"Helvetica,sans-Serif\" font-size=\"14.00\" fill=\"#000000\">samples = 705111</text>\n",
       "<text text-anchor=\"start\" x=\"942.1069\" y=\"-348.8\" font-family=\"Helvetica,sans-Serif\" font-size=\"14.00\" fill=\"#000000\">value = [670703, 34408]</text>\n",
       "<text text-anchor=\"start\" x=\"955.3516\" y=\"-334.8\" font-family=\"Helvetica,sans-Serif\" font-size=\"14.00\" fill=\"#000000\">class = not_delayed</text>\n",
       "</g>\n",
       "<!-- 1&#45;&gt;2 -->\n",
       "<g id=\"edge2\" class=\"edge\">\n",
       "<title>1&#45;&gt;2</title>\n",
       "<path fill=\"none\" stroke=\"#000000\" d=\"M1948.9289,-471.6225C1761.32,-450.5511 1307.4736,-399.5772 1110.8462,-377.493\"/>\n",
       "<polygon fill=\"#000000\" stroke=\"#000000\" points=\"1111.1541,-374.0056 1100.8259,-376.3675 1110.3728,-380.9619 1111.1541,-374.0056\"/>\n",
       "</g>\n",
       "<!-- 17 -->\n",
       "<g id=\"node18\" class=\"node\">\n",
       "<title>17</title>\n",
       "<path fill=\"#e58139\" fill-opacity=\"0.603922\" stroke=\"#000000\" d=\"M2100.3184,-406C2100.3184,-406 1964.5254,-406 1964.5254,-406 1958.5254,-406 1952.5254,-400 1952.5254,-394 1952.5254,-394 1952.5254,-340 1952.5254,-340 1952.5254,-334 1958.5254,-328 1964.5254,-328 1964.5254,-328 2100.3184,-328 2100.3184,-328 2106.3184,-328 2112.3184,-334 2112.3184,-340 2112.3184,-340 2112.3184,-394 2112.3184,-394 2112.3184,-400 2106.3184,-406 2100.3184,-406\"/>\n",
       "<text text-anchor=\"start\" x=\"1960.4736\" y=\"-390.8\" font-family=\"Helvetica,sans-Serif\" font-size=\"14.00\" fill=\"#000000\">departure_delay ≤ 14.5</text>\n",
       "<text text-anchor=\"start\" x=\"1996.0308\" y=\"-376.8\" font-family=\"Helvetica,sans-Serif\" font-size=\"14.00\" fill=\"#000000\">gini = 0.407</text>\n",
       "<text text-anchor=\"start\" x=\"1978.9136\" y=\"-362.8\" font-family=\"Helvetica,sans-Serif\" font-size=\"14.00\" fill=\"#000000\">samples = 72235</text>\n",
       "<text text-anchor=\"start\" x=\"1961\" y=\"-348.8\" font-family=\"Helvetica,sans-Serif\" font-size=\"14.00\" fill=\"#000000\">value = [51703, 20532]</text>\n",
       "<text text-anchor=\"start\" x=\"1970.3516\" y=\"-334.8\" font-family=\"Helvetica,sans-Serif\" font-size=\"14.00\" fill=\"#000000\">class = not_delayed</text>\n",
       "</g>\n",
       "<!-- 1&#45;&gt;17 -->\n",
       "<g id=\"edge17\" class=\"edge\">\n",
       "<title>1&#45;&gt;17</title>\n",
       "<path fill=\"none\" stroke=\"#000000\" d=\"M2032.4219,-441.7677C2032.4219,-433.6172 2032.4219,-424.9283 2032.4219,-416.4649\"/>\n",
       "<polygon fill=\"#000000\" stroke=\"#000000\" points=\"2035.922,-416.3046 2032.4219,-406.3046 2028.922,-416.3047 2035.922,-416.3046\"/>\n",
       "</g>\n",
       "<!-- 3 -->\n",
       "<g id=\"node4\" class=\"node\">\n",
       "<title>3</title>\n",
       "<path fill=\"#e58139\" fill-opacity=\"0.960784\" stroke=\"#000000\" d=\"M630.5355,-292C630.5355,-292 420.3083,-292 420.3083,-292 414.3083,-292 408.3083,-286 408.3083,-280 408.3083,-280 408.3083,-226 408.3083,-226 408.3083,-220 414.3083,-214 420.3083,-214 420.3083,-214 630.5355,-214 630.5355,-214 636.5355,-214 642.5355,-220 642.5355,-226 642.5355,-226 642.5355,-280 642.5355,-280 642.5355,-286 636.5355,-292 630.5355,-292\"/>\n",
       "<text text-anchor=\"start\" x=\"416.1152\" y=\"-276.8\" font-family=\"Helvetica,sans-Serif\" font-size=\"14.00\" fill=\"#000000\">perc_delayed_flights_route ≤ 0.204</text>\n",
       "<text text-anchor=\"start\" x=\"489.0308\" y=\"-262.8\" font-family=\"Helvetica,sans-Serif\" font-size=\"14.00\" fill=\"#000000\">gini = 0.072</text>\n",
       "<text text-anchor=\"start\" x=\"468.0205\" y=\"-248.8\" font-family=\"Helvetica,sans-Serif\" font-size=\"14.00\" fill=\"#000000\">samples = 592015</text>\n",
       "<text text-anchor=\"start\" x=\"450.1069\" y=\"-234.8\" font-family=\"Helvetica,sans-Serif\" font-size=\"14.00\" fill=\"#000000\">value = [569926, 22089]</text>\n",
       "<text text-anchor=\"start\" x=\"463.3516\" y=\"-220.8\" font-family=\"Helvetica,sans-Serif\" font-size=\"14.00\" fill=\"#000000\">class = not_delayed</text>\n",
       "</g>\n",
       "<!-- 2&#45;&gt;3 -->\n",
       "<g id=\"edge3\" class=\"edge\">\n",
       "<title>2&#45;&gt;3</title>\n",
       "<path fill=\"none\" stroke=\"#000000\" d=\"M934.2391,-347.7259C857.1191,-329.8567 741.2509,-303.0092 652.5385,-282.4538\"/>\n",
       "<polygon fill=\"#000000\" stroke=\"#000000\" points=\"653.2116,-279.0172 642.6797,-280.1695 651.6315,-285.8365 653.2116,-279.0172\"/>\n",
       "</g>\n",
       "<!-- 10 -->\n",
       "<g id=\"node11\" class=\"node\">\n",
       "<title>10</title>\n",
       "<path fill=\"#e58139\" fill-opacity=\"0.878431\" stroke=\"#000000\" d=\"M1093.3844,-292C1093.3844,-292 941.4594,-292 941.4594,-292 935.4594,-292 929.4594,-286 929.4594,-280 929.4594,-280 929.4594,-226 929.4594,-226 929.4594,-220 935.4594,-214 941.4594,-214 941.4594,-214 1093.3844,-214 1093.3844,-214 1099.3844,-214 1105.3844,-220 1105.3844,-226 1105.3844,-226 1105.3844,-280 1105.3844,-280 1105.3844,-286 1099.3844,-292 1093.3844,-292\"/>\n",
       "<text text-anchor=\"start\" x=\"937.6909\" y=\"-276.8\" font-family=\"Helvetica,sans-Serif\" font-size=\"14.00\" fill=\"#000000\">avg_delay_airline ≤ 6.654</text>\n",
       "<text text-anchor=\"start\" x=\"981.0308\" y=\"-262.8\" font-family=\"Helvetica,sans-Serif\" font-size=\"14.00\" fill=\"#000000\">gini = 0.194</text>\n",
       "<text text-anchor=\"start\" x=\"960.5366\" y=\"-248.8\" font-family=\"Helvetica,sans-Serif\" font-size=\"14.00\" fill=\"#000000\">samples = 113096</text>\n",
       "<text text-anchor=\"start\" x=\"942.1069\" y=\"-234.8\" font-family=\"Helvetica,sans-Serif\" font-size=\"14.00\" fill=\"#000000\">value = [100777, 12319]</text>\n",
       "<text text-anchor=\"start\" x=\"955.3516\" y=\"-220.8\" font-family=\"Helvetica,sans-Serif\" font-size=\"14.00\" fill=\"#000000\">class = not_delayed</text>\n",
       "</g>\n",
       "<!-- 2&#45;&gt;10 -->\n",
       "<g id=\"edge10\" class=\"edge\">\n",
       "<title>2&#45;&gt;10</title>\n",
       "<path fill=\"none\" stroke=\"#000000\" d=\"M1017.4219,-327.7677C1017.4219,-319.6172 1017.4219,-310.9283 1017.4219,-302.4649\"/>\n",
       "<polygon fill=\"#000000\" stroke=\"#000000\" points=\"1020.922,-302.3046 1017.4219,-292.3046 1013.922,-302.3047 1020.922,-302.3046\"/>\n",
       "</g>\n",
       "<!-- 4 -->\n",
       "<g id=\"node5\" class=\"node\">\n",
       "<title>4</title>\n",
       "<path fill=\"#e58139\" fill-opacity=\"0.972549\" stroke=\"#000000\" d=\"M337.8252,-178C337.8252,-178 167.0185,-178 167.0185,-178 161.0185,-178 155.0185,-172 155.0185,-166 155.0185,-166 155.0185,-112 155.0185,-112 155.0185,-106 161.0185,-100 167.0185,-100 167.0185,-100 337.8252,-100 337.8252,-100 343.8252,-100 349.8252,-106 349.8252,-112 349.8252,-112 349.8252,-166 349.8252,-166 349.8252,-172 343.8252,-178 337.8252,-178\"/>\n",
       "<text text-anchor=\"start\" x=\"162.9702\" y=\"-162.8\" font-family=\"Helvetica,sans-Serif\" font-size=\"14.00\" fill=\"#000000\">distance_normalized ≤ 1.441</text>\n",
       "<text text-anchor=\"start\" x=\"216.0308\" y=\"-148.8\" font-family=\"Helvetica,sans-Serif\" font-size=\"14.00\" fill=\"#000000\">gini = 0.055</text>\n",
       "<text text-anchor=\"start\" x=\"195.0205\" y=\"-134.8\" font-family=\"Helvetica,sans-Serif\" font-size=\"14.00\" fill=\"#000000\">samples = 332442</text>\n",
       "<text text-anchor=\"start\" x=\"181\" y=\"-120.8\" font-family=\"Helvetica,sans-Serif\" font-size=\"14.00\" fill=\"#000000\">value = [323017, 9425]</text>\n",
       "<text text-anchor=\"start\" x=\"190.3516\" y=\"-106.8\" font-family=\"Helvetica,sans-Serif\" font-size=\"14.00\" fill=\"#000000\">class = not_delayed</text>\n",
       "</g>\n",
       "<!-- 3&#45;&gt;4 -->\n",
       "<g id=\"edge4\" class=\"edge\">\n",
       "<title>3&#45;&gt;4</title>\n",
       "<path fill=\"none\" stroke=\"#000000\" d=\"M431.8527,-213.9272C407.2167,-203.6396 380.5036,-192.4847 355.4024,-182.0029\"/>\n",
       "<polygon fill=\"#000000\" stroke=\"#000000\" points=\"356.4452,-178.6455 345.8688,-178.0218 353.7479,-185.1049 356.4452,-178.6455\"/>\n",
       "</g>\n",
       "<!-- 7 -->\n",
       "<g id=\"node8\" class=\"node\">\n",
       "<title>7</title>\n",
       "<path fill=\"#e58139\" fill-opacity=\"0.949020\" stroke=\"#000000\" d=\"M596.5522,-178C596.5522,-178 454.2916,-178 454.2916,-178 448.2916,-178 442.2916,-172 442.2916,-166 442.2916,-166 442.2916,-112 442.2916,-112 442.2916,-106 448.2916,-100 454.2916,-100 454.2916,-100 596.5522,-100 596.5522,-100 602.5522,-100 608.5522,-106 608.5522,-112 608.5522,-112 608.5522,-166 608.5522,-166 608.5522,-172 602.5522,-178 596.5522,-178\"/>\n",
       "<text text-anchor=\"start\" x=\"451.1426\" y=\"-162.8\" font-family=\"Helvetica,sans-Serif\" font-size=\"14.00\" fill=\"#000000\">scheduled_time ≤ 339.5</text>\n",
       "<text text-anchor=\"start\" x=\"489.0308\" y=\"-148.8\" font-family=\"Helvetica,sans-Serif\" font-size=\"14.00\" fill=\"#000000\">gini = 0.093</text>\n",
       "<text text-anchor=\"start\" x=\"468.0205\" y=\"-134.8\" font-family=\"Helvetica,sans-Serif\" font-size=\"14.00\" fill=\"#000000\">samples = 259573</text>\n",
       "<text text-anchor=\"start\" x=\"450.1069\" y=\"-120.8\" font-family=\"Helvetica,sans-Serif\" font-size=\"14.00\" fill=\"#000000\">value = [246909, 12664]</text>\n",
       "<text text-anchor=\"start\" x=\"463.3516\" y=\"-106.8\" font-family=\"Helvetica,sans-Serif\" font-size=\"14.00\" fill=\"#000000\">class = not_delayed</text>\n",
       "</g>\n",
       "<!-- 3&#45;&gt;7 -->\n",
       "<g id=\"edge7\" class=\"edge\">\n",
       "<title>3&#45;&gt;7</title>\n",
       "<path fill=\"none\" stroke=\"#000000\" d=\"M525.4219,-213.7677C525.4219,-205.6172 525.4219,-196.9283 525.4219,-188.4649\"/>\n",
       "<polygon fill=\"#000000\" stroke=\"#000000\" points=\"528.922,-188.3046 525.4219,-178.3046 521.922,-188.3047 528.922,-188.3046\"/>\n",
       "</g>\n",
       "<!-- 5 -->\n",
       "<g id=\"node6\" class=\"node\">\n",
       "<title>5</title>\n",
       "<path fill=\"#e58139\" fill-opacity=\"0.972549\" stroke=\"#000000\" d=\"M146.7657,-64C146.7657,-64 12.078,-64 12.078,-64 6.078,-64 .078,-58 .078,-52 .078,-52 .078,-12 .078,-12 .078,-6 6.078,0 12.078,0 12.078,0 146.7657,0 146.7657,0 152.7657,0 158.7657,-6 158.7657,-12 158.7657,-12 158.7657,-52 158.7657,-52 158.7657,-58 152.7657,-64 146.7657,-64\"/>\n",
       "<text text-anchor=\"start\" x=\"46.9238\" y=\"-48.8\" font-family=\"Helvetica,sans-Serif\" font-size=\"14.00\" fill=\"#000000\">gini = 0.05</text>\n",
       "<text text-anchor=\"start\" x=\"22.0205\" y=\"-34.8\" font-family=\"Helvetica,sans-Serif\" font-size=\"14.00\" fill=\"#000000\">samples = 301571</text>\n",
       "<text text-anchor=\"start\" x=\"8\" y=\"-20.8\" font-family=\"Helvetica,sans-Serif\" font-size=\"14.00\" fill=\"#000000\">value = [293878, 7693]</text>\n",
       "<text text-anchor=\"start\" x=\"17.3516\" y=\"-6.8\" font-family=\"Helvetica,sans-Serif\" font-size=\"14.00\" fill=\"#000000\">class = not_delayed</text>\n",
       "</g>\n",
       "<!-- 4&#45;&gt;5 -->\n",
       "<g id=\"edge5\" class=\"edge\">\n",
       "<title>4&#45;&gt;5</title>\n",
       "<path fill=\"none\" stroke=\"#000000\" d=\"M188.9854,-99.7647C172.9563,-89.8508 155.7873,-79.2318 139.9079,-69.4105\"/>\n",
       "<polygon fill=\"#000000\" stroke=\"#000000\" points=\"141.58,-66.3293 131.2342,-64.0458 137.8979,-72.2826 141.58,-66.3293\"/>\n",
       "</g>\n",
       "<!-- 6 -->\n",
       "<g id=\"node7\" class=\"node\">\n",
       "<title>6</title>\n",
       "<path fill=\"#e58139\" fill-opacity=\"0.941176\" stroke=\"#000000\" d=\"M315.9795,-64C315.9795,-64 188.8642,-64 188.8642,-64 182.8642,-64 176.8642,-58 176.8642,-52 176.8642,-52 176.8642,-12 176.8642,-12 176.8642,-6 182.8642,0 188.8642,0 188.8642,0 315.9795,0 315.9795,0 321.9795,0 327.9795,-6 327.9795,-12 327.9795,-12 327.9795,-52 327.9795,-52 327.9795,-58 321.9795,-64 315.9795,-64\"/>\n",
       "<text text-anchor=\"start\" x=\"216.0308\" y=\"-48.8\" font-family=\"Helvetica,sans-Serif\" font-size=\"14.00\" fill=\"#000000\">gini = 0.106</text>\n",
       "<text text-anchor=\"start\" x=\"198.9136\" y=\"-34.8\" font-family=\"Helvetica,sans-Serif\" font-size=\"14.00\" fill=\"#000000\">samples = 30871</text>\n",
       "<text text-anchor=\"start\" x=\"184.8931\" y=\"-20.8\" font-family=\"Helvetica,sans-Serif\" font-size=\"14.00\" fill=\"#000000\">value = [29139, 1732]</text>\n",
       "<text text-anchor=\"start\" x=\"190.3516\" y=\"-6.8\" font-family=\"Helvetica,sans-Serif\" font-size=\"14.00\" fill=\"#000000\">class = not_delayed</text>\n",
       "</g>\n",
       "<!-- 4&#45;&gt;6 -->\n",
       "<g id=\"edge6\" class=\"edge\">\n",
       "<title>4&#45;&gt;6</title>\n",
       "<path fill=\"none\" stroke=\"#000000\" d=\"M252.4219,-99.7647C252.4219,-91.4537 252.4219,-82.6472 252.4219,-74.2305\"/>\n",
       "<polygon fill=\"#000000\" stroke=\"#000000\" points=\"255.922,-74.2168 252.4219,-64.2169 248.922,-74.2169 255.922,-74.2168\"/>\n",
       "</g>\n",
       "<!-- 8 -->\n",
       "<g id=\"node9\" class=\"node\">\n",
       "<title>8</title>\n",
       "<path fill=\"#e58139\" fill-opacity=\"0.949020\" stroke=\"#000000\" d=\"M500.5522,-64C500.5522,-64 358.2916,-64 358.2916,-64 352.2916,-64 346.2916,-58 346.2916,-52 346.2916,-52 346.2916,-12 346.2916,-12 346.2916,-6 352.2916,0 358.2916,0 358.2916,0 500.5522,0 500.5522,0 506.5522,0 512.5522,-6 512.5522,-12 512.5522,-12 512.5522,-52 512.5522,-52 512.5522,-58 506.5522,-64 500.5522,-64\"/>\n",
       "<text text-anchor=\"start\" x=\"396.9238\" y=\"-48.8\" font-family=\"Helvetica,sans-Serif\" font-size=\"14.00\" fill=\"#000000\">gini = 0.09</text>\n",
       "<text text-anchor=\"start\" x=\"372.0205\" y=\"-34.8\" font-family=\"Helvetica,sans-Serif\" font-size=\"14.00\" fill=\"#000000\">samples = 254620</text>\n",
       "<text text-anchor=\"start\" x=\"354.1069\" y=\"-20.8\" font-family=\"Helvetica,sans-Serif\" font-size=\"14.00\" fill=\"#000000\">value = [242571, 12049]</text>\n",
       "<text text-anchor=\"start\" x=\"367.3516\" y=\"-6.8\" font-family=\"Helvetica,sans-Serif\" font-size=\"14.00\" fill=\"#000000\">class = not_delayed</text>\n",
       "</g>\n",
       "<!-- 7&#45;&gt;8 -->\n",
       "<g id=\"edge8\" class=\"edge\">\n",
       "<title>7&#45;&gt;8</title>\n",
       "<path fill=\"none\" stroke=\"#000000\" d=\"M490.2201,-99.7647C482.026,-90.6317 473.2952,-80.9004 465.0815,-71.7456\"/>\n",
       "<polygon fill=\"#000000\" stroke=\"#000000\" points=\"467.61,-69.3229 458.3267,-64.2169 462.3997,-73.9976 467.61,-69.3229\"/>\n",
       "</g>\n",
       "<!-- 9 -->\n",
       "<g id=\"node10\" class=\"node\">\n",
       "<title>9</title>\n",
       "<path fill=\"#e58139\" fill-opacity=\"0.858824\" stroke=\"#000000\" d=\"M658.5626,-64C658.5626,-64 542.2812,-64 542.2812,-64 536.2812,-64 530.2812,-58 530.2812,-52 530.2812,-52 530.2812,-12 530.2812,-12 530.2812,-6 536.2812,0 542.2812,0 542.2812,0 658.5626,0 658.5626,0 664.5626,0 670.5626,-6 670.5626,-12 670.5626,-12 670.5626,-52 670.5626,-52 670.5626,-58 664.5626,-64 658.5626,-64\"/>\n",
       "<text text-anchor=\"start\" x=\"564.0308\" y=\"-48.8\" font-family=\"Helvetica,sans-Serif\" font-size=\"14.00\" fill=\"#000000\">gini = 0.217</text>\n",
       "<text text-anchor=\"start\" x=\"550.8066\" y=\"-34.8\" font-family=\"Helvetica,sans-Serif\" font-size=\"14.00\" fill=\"#000000\">samples = 4953</text>\n",
       "<text text-anchor=\"start\" x=\"540.6792\" y=\"-20.8\" font-family=\"Helvetica,sans-Serif\" font-size=\"14.00\" fill=\"#000000\">value = [4338, 615]</text>\n",
       "<text text-anchor=\"start\" x=\"538.3516\" y=\"-6.8\" font-family=\"Helvetica,sans-Serif\" font-size=\"14.00\" fill=\"#000000\">class = not_delayed</text>\n",
       "</g>\n",
       "<!-- 7&#45;&gt;9 -->\n",
       "<g id=\"edge9\" class=\"edge\">\n",
       "<title>7&#45;&gt;9</title>\n",
       "<path fill=\"none\" stroke=\"#000000\" d=\"M552.9232,-99.7647C559.1328,-90.9057 565.737,-81.4838 571.9842,-72.571\"/>\n",
       "<polygon fill=\"#000000\" stroke=\"#000000\" points=\"574.9662,-74.4145 577.84,-64.2169 569.2341,-70.3967 574.9662,-74.4145\"/>\n",
       "</g>\n",
       "<!-- 11 -->\n",
       "<g id=\"node12\" class=\"node\">\n",
       "<title>11</title>\n",
       "<path fill=\"#e58139\" fill-opacity=\"0.905882\" stroke=\"#000000\" d=\"M1018.4766,-178C1018.4766,-178 802.3672,-178 802.3672,-178 796.3672,-178 790.3672,-172 790.3672,-166 790.3672,-166 790.3672,-112 790.3672,-112 790.3672,-106 796.3672,-100 802.3672,-100 802.3672,-100 1018.4766,-100 1018.4766,-100 1024.4766,-100 1030.4766,-106 1030.4766,-112 1030.4766,-112 1030.4766,-166 1030.4766,-166 1030.4766,-172 1024.4766,-178 1018.4766,-178\"/>\n",
       "<text text-anchor=\"start\" x=\"798.3945\" y=\"-162.8\" font-family=\"Helvetica,sans-Serif\" font-size=\"14.00\" fill=\"#000000\">perc_delayed_flights_airline ≤ 0.185</text>\n",
       "<text text-anchor=\"start\" x=\"874.0308\" y=\"-148.8\" font-family=\"Helvetica,sans-Serif\" font-size=\"14.00\" fill=\"#000000\">gini = 0.159</text>\n",
       "<text text-anchor=\"start\" x=\"856.9136\" y=\"-134.8\" font-family=\"Helvetica,sans-Serif\" font-size=\"14.00\" fill=\"#000000\">samples = 74485</text>\n",
       "<text text-anchor=\"start\" x=\"842.8931\" y=\"-120.8\" font-family=\"Helvetica,sans-Serif\" font-size=\"14.00\" fill=\"#000000\">value = [68003, 6482]</text>\n",
       "<text text-anchor=\"start\" x=\"848.3516\" y=\"-106.8\" font-family=\"Helvetica,sans-Serif\" font-size=\"14.00\" fill=\"#000000\">class = not_delayed</text>\n",
       "</g>\n",
       "<!-- 10&#45;&gt;11 -->\n",
       "<g id=\"edge11\" class=\"edge\">\n",
       "<title>10&#45;&gt;11</title>\n",
       "<path fill=\"none\" stroke=\"#000000\" d=\"M980.5985,-213.7677C972.1079,-204.7216 962.9946,-195.0121 954.2393,-185.6839\"/>\n",
       "<polygon fill=\"#000000\" stroke=\"#000000\" points=\"956.7088,-183.2008 947.3131,-178.3046 951.6048,-187.9914 956.7088,-183.2008\"/>\n",
       "</g>\n",
       "<!-- 14 -->\n",
       "<g id=\"node15\" class=\"node\">\n",
       "<title>14</title>\n",
       "<path fill=\"#e58139\" fill-opacity=\"0.823529\" stroke=\"#000000\" d=\"M1188.5323,-178C1188.5323,-178 1060.3115,-178 1060.3115,-178 1054.3115,-178 1048.3115,-172 1048.3115,-166 1048.3115,-166 1048.3115,-112 1048.3115,-112 1048.3115,-106 1054.3115,-100 1060.3115,-100 1060.3115,-100 1188.5323,-100 1188.5323,-100 1194.5323,-100 1200.5323,-106 1200.5323,-112 1200.5323,-112 1200.5323,-166 1200.5323,-166 1200.5323,-172 1194.5323,-178 1188.5323,-178\"/>\n",
       "<text text-anchor=\"start\" x=\"1056.3667\" y=\"-162.8\" font-family=\"Helvetica,sans-Serif\" font-size=\"14.00\" fill=\"#000000\">departure_delay ≤ 4.5</text>\n",
       "<text text-anchor=\"start\" x=\"1088.0308\" y=\"-148.8\" font-family=\"Helvetica,sans-Serif\" font-size=\"14.00\" fill=\"#000000\">gini = 0.257</text>\n",
       "<text text-anchor=\"start\" x=\"1071.4297\" y=\"-134.8\" font-family=\"Helvetica,sans-Serif\" font-size=\"14.00\" fill=\"#000000\">samples = 38611</text>\n",
       "<text text-anchor=\"start\" x=\"1056.8931\" y=\"-120.8\" font-family=\"Helvetica,sans-Serif\" font-size=\"14.00\" fill=\"#000000\">value = [32774, 5837]</text>\n",
       "<text text-anchor=\"start\" x=\"1062.3516\" y=\"-106.8\" font-family=\"Helvetica,sans-Serif\" font-size=\"14.00\" fill=\"#000000\">class = not_delayed</text>\n",
       "</g>\n",
       "<!-- 10&#45;&gt;14 -->\n",
       "<g id=\"edge14\" class=\"edge\">\n",
       "<title>10&#45;&gt;14</title>\n",
       "<path fill=\"none\" stroke=\"#000000\" d=\"M1054.2452,-213.7677C1062.7358,-204.7216 1071.8491,-195.0121 1080.6045,-185.6839\"/>\n",
       "<polygon fill=\"#000000\" stroke=\"#000000\" points=\"1083.239,-187.9914 1087.5307,-178.3046 1078.135,-183.2008 1083.239,-187.9914\"/>\n",
       "</g>\n",
       "<!-- 12 -->\n",
       "<g id=\"node13\" class=\"node\">\n",
       "<title>12</title>\n",
       "<path fill=\"#e58139\" fill-opacity=\"0.870588\" stroke=\"#000000\" d=\"M827.9795,-64C827.9795,-64 700.8642,-64 700.8642,-64 694.8642,-64 688.8642,-58 688.8642,-52 688.8642,-52 688.8642,-12 688.8642,-12 688.8642,-6 694.8642,0 700.8642,0 700.8642,0 827.9795,0 827.9795,0 833.9795,0 839.9795,-6 839.9795,-12 839.9795,-12 839.9795,-52 839.9795,-52 839.9795,-58 833.9795,-64 827.9795,-64\"/>\n",
       "<text text-anchor=\"start\" x=\"728.0308\" y=\"-48.8\" font-family=\"Helvetica,sans-Serif\" font-size=\"14.00\" fill=\"#000000\">gini = 0.202</text>\n",
       "<text text-anchor=\"start\" x=\"710.9136\" y=\"-34.8\" font-family=\"Helvetica,sans-Serif\" font-size=\"14.00\" fill=\"#000000\">samples = 29717</text>\n",
       "<text text-anchor=\"start\" x=\"696.8931\" y=\"-20.8\" font-family=\"Helvetica,sans-Serif\" font-size=\"14.00\" fill=\"#000000\">value = [26320, 3397]</text>\n",
       "<text text-anchor=\"start\" x=\"702.3516\" y=\"-6.8\" font-family=\"Helvetica,sans-Serif\" font-size=\"14.00\" fill=\"#000000\">class = not_delayed</text>\n",
       "</g>\n",
       "<!-- 11&#45;&gt;12 -->\n",
       "<g id=\"edge12\" class=\"edge\">\n",
       "<title>11&#45;&gt;12</title>\n",
       "<path fill=\"none\" stroke=\"#000000\" d=\"M856.8859,-99.7647C843.801,-90.1751 829.816,-79.9258 816.7865,-70.3768\"/>\n",
       "<polygon fill=\"#000000\" stroke=\"#000000\" points=\"818.5161,-67.3051 808.3813,-64.2169 814.3782,-72.9512 818.5161,-67.3051\"/>\n",
       "</g>\n",
       "<!-- 13 -->\n",
       "<g id=\"node14\" class=\"node\">\n",
       "<title>13</title>\n",
       "<path fill=\"#e58139\" fill-opacity=\"0.925490\" stroke=\"#000000\" d=\"M996.9795,-64C996.9795,-64 869.8642,-64 869.8642,-64 863.8642,-64 857.8642,-58 857.8642,-52 857.8642,-52 857.8642,-12 857.8642,-12 857.8642,-6 863.8642,0 869.8642,0 869.8642,0 996.9795,0 996.9795,0 1002.9795,0 1008.9795,-6 1008.9795,-12 1008.9795,-12 1008.9795,-52 1008.9795,-52 1008.9795,-58 1002.9795,-64 996.9795,-64\"/>\n",
       "<text text-anchor=\"start\" x=\"897.0308\" y=\"-48.8\" font-family=\"Helvetica,sans-Serif\" font-size=\"14.00\" fill=\"#000000\">gini = 0.128</text>\n",
       "<text text-anchor=\"start\" x=\"879.9136\" y=\"-34.8\" font-family=\"Helvetica,sans-Serif\" font-size=\"14.00\" fill=\"#000000\">samples = 44768</text>\n",
       "<text text-anchor=\"start\" x=\"865.8931\" y=\"-20.8\" font-family=\"Helvetica,sans-Serif\" font-size=\"14.00\" fill=\"#000000\">value = [41683, 3085]</text>\n",
       "<text text-anchor=\"start\" x=\"871.3516\" y=\"-6.8\" font-family=\"Helvetica,sans-Serif\" font-size=\"14.00\" fill=\"#000000\">class = not_delayed</text>\n",
       "</g>\n",
       "<!-- 11&#45;&gt;13 -->\n",
       "<g id=\"edge13\" class=\"edge\">\n",
       "<title>11&#45;&gt;13</title>\n",
       "<path fill=\"none\" stroke=\"#000000\" d=\"M918.8556,-99.7647C920.6421,-91.4537 922.5351,-82.6472 924.3443,-74.2305\"/>\n",
       "<polygon fill=\"#000000\" stroke=\"#000000\" points=\"927.817,-74.7291 926.4968,-64.2169 920.9733,-73.258 927.817,-74.7291\"/>\n",
       "</g>\n",
       "<!-- 15 -->\n",
       "<g id=\"node16\" class=\"node\">\n",
       "<title>15</title>\n",
       "<path fill=\"#e58139\" fill-opacity=\"0.862745\" stroke=\"#000000\" d=\"M1165.4473,-64C1165.4473,-64 1039.3965,-64 1039.3965,-64 1033.3965,-64 1027.3965,-58 1027.3965,-52 1027.3965,-52 1027.3965,-12 1027.3965,-12 1027.3965,-6 1033.3965,0 1039.3965,0 1039.3965,0 1165.4473,0 1165.4473,0 1171.4473,0 1177.4473,-6 1177.4473,-12 1177.4473,-12 1177.4473,-52 1177.4473,-52 1177.4473,-58 1171.4473,-64 1165.4473,-64\"/>\n",
       "<text text-anchor=\"start\" x=\"1066.0308\" y=\"-48.8\" font-family=\"Helvetica,sans-Serif\" font-size=\"14.00\" fill=\"#000000\">gini = 0.214</text>\n",
       "<text text-anchor=\"start\" x=\"1049.4297\" y=\"-34.8\" font-family=\"Helvetica,sans-Serif\" font-size=\"14.00\" fill=\"#000000\">samples = 17411</text>\n",
       "<text text-anchor=\"start\" x=\"1035.4092\" y=\"-20.8\" font-family=\"Helvetica,sans-Serif\" font-size=\"14.00\" fill=\"#000000\">value = [15292, 2119]</text>\n",
       "<text text-anchor=\"start\" x=\"1040.3516\" y=\"-6.8\" font-family=\"Helvetica,sans-Serif\" font-size=\"14.00\" fill=\"#000000\">class = not_delayed</text>\n",
       "</g>\n",
       "<!-- 14&#45;&gt;15 -->\n",
       "<g id=\"edge15\" class=\"edge\">\n",
       "<title>14&#45;&gt;15</title>\n",
       "<path fill=\"none\" stroke=\"#000000\" d=\"M1116.3548,-99.7647C1114.646,-91.4537 1112.8353,-82.6472 1111.1048,-74.2305\"/>\n",
       "<polygon fill=\"#000000\" stroke=\"#000000\" points=\"1114.4882,-73.3071 1109.0459,-64.2169 1107.6316,-74.7169 1114.4882,-73.3071\"/>\n",
       "</g>\n",
       "<!-- 16 -->\n",
       "<g id=\"node17\" class=\"node\">\n",
       "<title>16</title>\n",
       "<path fill=\"#e58139\" fill-opacity=\"0.788235\" stroke=\"#000000\" d=\"M1334.9795,-64C1334.9795,-64 1207.8642,-64 1207.8642,-64 1201.8642,-64 1195.8642,-58 1195.8642,-52 1195.8642,-52 1195.8642,-12 1195.8642,-12 1195.8642,-6 1201.8642,0 1207.8642,0 1207.8642,0 1334.9795,0 1334.9795,0 1340.9795,0 1346.9795,-6 1346.9795,-12 1346.9795,-12 1346.9795,-52 1346.9795,-52 1346.9795,-58 1340.9795,-64 1334.9795,-64\"/>\n",
       "<text text-anchor=\"start\" x=\"1235.0308\" y=\"-48.8\" font-family=\"Helvetica,sans-Serif\" font-size=\"14.00\" fill=\"#000000\">gini = 0.289</text>\n",
       "<text text-anchor=\"start\" x=\"1217.9136\" y=\"-34.8\" font-family=\"Helvetica,sans-Serif\" font-size=\"14.00\" fill=\"#000000\">samples = 21200</text>\n",
       "<text text-anchor=\"start\" x=\"1203.8931\" y=\"-20.8\" font-family=\"Helvetica,sans-Serif\" font-size=\"14.00\" fill=\"#000000\">value = [17482, 3718]</text>\n",
       "<text text-anchor=\"start\" x=\"1209.3516\" y=\"-6.8\" font-family=\"Helvetica,sans-Serif\" font-size=\"14.00\" fill=\"#000000\">class = not_delayed</text>\n",
       "</g>\n",
       "<!-- 14&#45;&gt;16 -->\n",
       "<g id=\"edge16\" class=\"edge\">\n",
       "<title>14&#45;&gt;16</title>\n",
       "<path fill=\"none\" stroke=\"#000000\" d=\"M1178.3245,-99.7647C1191.6246,-90.0838 1205.8482,-79.7305 1219.0731,-70.1042\"/>\n",
       "<polygon fill=\"#000000\" stroke=\"#000000\" points=\"1221.1361,-72.9317 1227.1613,-64.2169 1217.0165,-67.2722 1221.1361,-72.9317\"/>\n",
       "</g>\n",
       "<!-- 18 -->\n",
       "<g id=\"node19\" class=\"node\">\n",
       "<title>18</title>\n",
       "<path fill=\"#e58139\" fill-opacity=\"0.713725\" stroke=\"#000000\" d=\"M1926.3844,-292C1926.3844,-292 1774.4594,-292 1774.4594,-292 1768.4594,-292 1762.4594,-286 1762.4594,-280 1762.4594,-280 1762.4594,-226 1762.4594,-226 1762.4594,-220 1768.4594,-214 1774.4594,-214 1774.4594,-214 1926.3844,-214 1926.3844,-214 1932.3844,-214 1938.3844,-220 1938.3844,-226 1938.3844,-226 1938.3844,-280 1938.3844,-280 1938.3844,-286 1932.3844,-292 1926.3844,-292\"/>\n",
       "<text text-anchor=\"start\" x=\"1770.6909\" y=\"-276.8\" font-family=\"Helvetica,sans-Serif\" font-size=\"14.00\" fill=\"#000000\">avg_delay_airline ≤ 6.654</text>\n",
       "<text text-anchor=\"start\" x=\"1814.0308\" y=\"-262.8\" font-family=\"Helvetica,sans-Serif\" font-size=\"14.00\" fill=\"#000000\">gini = 0.346</text>\n",
       "<text text-anchor=\"start\" x=\"1796.9136\" y=\"-248.8\" font-family=\"Helvetica,sans-Serif\" font-size=\"14.00\" fill=\"#000000\">samples = 41519</text>\n",
       "<text text-anchor=\"start\" x=\"1782.8931\" y=\"-234.8\" font-family=\"Helvetica,sans-Serif\" font-size=\"14.00\" fill=\"#000000\">value = [32266, 9253]</text>\n",
       "<text text-anchor=\"start\" x=\"1788.3516\" y=\"-220.8\" font-family=\"Helvetica,sans-Serif\" font-size=\"14.00\" fill=\"#000000\">class = not_delayed</text>\n",
       "</g>\n",
       "<!-- 17&#45;&gt;18 -->\n",
       "<g id=\"edge18\" class=\"edge\">\n",
       "<title>17&#45;&gt;18</title>\n",
       "<path fill=\"none\" stroke=\"#000000\" d=\"M1970.0424,-327.9272C1954.4143,-318.1381 1937.5324,-307.5637 1921.5156,-297.5312\"/>\n",
       "<polygon fill=\"#000000\" stroke=\"#000000\" points=\"1923.0525,-294.364 1912.7198,-292.0218 1919.3366,-300.2964 1923.0525,-294.364\"/>\n",
       "</g>\n",
       "<!-- 25 -->\n",
       "<g id=\"node26\" class=\"node\">\n",
       "<title>25</title>\n",
       "<path fill=\"#e58139\" fill-opacity=\"0.419608\" stroke=\"#000000\" d=\"M2221.3844,-292C2221.3844,-292 2069.4594,-292 2069.4594,-292 2063.4594,-292 2057.4594,-286 2057.4594,-280 2057.4594,-280 2057.4594,-226 2057.4594,-226 2057.4594,-220 2063.4594,-214 2069.4594,-214 2069.4594,-214 2221.3844,-214 2221.3844,-214 2227.3844,-214 2233.3844,-220 2233.3844,-226 2233.3844,-226 2233.3844,-280 2233.3844,-280 2233.3844,-286 2227.3844,-292 2221.3844,-292\"/>\n",
       "<text text-anchor=\"start\" x=\"2065.6909\" y=\"-276.8\" font-family=\"Helvetica,sans-Serif\" font-size=\"14.00\" fill=\"#000000\">avg_delay_airline ≤ 6.654</text>\n",
       "<text text-anchor=\"start\" x=\"2109.0308\" y=\"-262.8\" font-family=\"Helvetica,sans-Serif\" font-size=\"14.00\" fill=\"#000000\">gini = 0.465</text>\n",
       "<text text-anchor=\"start\" x=\"2091.9136\" y=\"-248.8\" font-family=\"Helvetica,sans-Serif\" font-size=\"14.00\" fill=\"#000000\">samples = 30716</text>\n",
       "<text text-anchor=\"start\" x=\"2074.5161\" y=\"-234.8\" font-family=\"Helvetica,sans-Serif\" font-size=\"14.00\" fill=\"#000000\">value = [19437, 11279]</text>\n",
       "<text text-anchor=\"start\" x=\"2083.3516\" y=\"-220.8\" font-family=\"Helvetica,sans-Serif\" font-size=\"14.00\" fill=\"#000000\">class = not_delayed</text>\n",
       "</g>\n",
       "<!-- 17&#45;&gt;25 -->\n",
       "<g id=\"edge25\" class=\"edge\">\n",
       "<title>17&#45;&gt;25</title>\n",
       "<path fill=\"none\" stroke=\"#000000\" d=\"M2071.3101,-327.7677C2080.3656,-318.632 2090.0918,-308.8198 2099.422,-299.407\"/>\n",
       "<polygon fill=\"#000000\" stroke=\"#000000\" points=\"2101.9079,-301.8708 2106.462,-292.3046 2096.9364,-296.9429 2101.9079,-301.8708\"/>\n",
       "</g>\n",
       "<!-- 19 -->\n",
       "<g id=\"node20\" class=\"node\">\n",
       "<title>19</title>\n",
       "<path fill=\"#e58139\" fill-opacity=\"0.772549\" stroke=\"#000000\" d=\"M1665.6945,-178C1665.6945,-178 1533.1492,-178 1533.1492,-178 1527.1492,-178 1521.1492,-172 1521.1492,-166 1521.1492,-166 1521.1492,-112 1521.1492,-112 1521.1492,-106 1527.1492,-100 1533.1492,-100 1533.1492,-100 1665.6945,-100 1665.6945,-100 1671.6945,-100 1677.6945,-106 1677.6945,-112 1677.6945,-112 1677.6945,-166 1677.6945,-166 1677.6945,-172 1671.6945,-178 1665.6945,-178\"/>\n",
       "<text text-anchor=\"start\" x=\"1529.0356\" y=\"-162.8\" font-family=\"Helvetica,sans-Serif\" font-size=\"14.00\" fill=\"#000000\">scheduled_time ≤ 53.5</text>\n",
       "<text text-anchor=\"start\" x=\"1563.0308\" y=\"-148.8\" font-family=\"Helvetica,sans-Serif\" font-size=\"14.00\" fill=\"#000000\">gini = 0.301</text>\n",
       "<text text-anchor=\"start\" x=\"1545.9136\" y=\"-134.8\" font-family=\"Helvetica,sans-Serif\" font-size=\"14.00\" fill=\"#000000\">samples = 26421</text>\n",
       "<text text-anchor=\"start\" x=\"1531.8931\" y=\"-120.8\" font-family=\"Helvetica,sans-Serif\" font-size=\"14.00\" fill=\"#000000\">value = [21539, 4882]</text>\n",
       "<text text-anchor=\"start\" x=\"1537.3516\" y=\"-106.8\" font-family=\"Helvetica,sans-Serif\" font-size=\"14.00\" fill=\"#000000\">class = not_delayed</text>\n",
       "</g>\n",
       "<!-- 18&#45;&gt;19 -->\n",
       "<g id=\"edge19\" class=\"edge\">\n",
       "<title>18&#45;&gt;19</title>\n",
       "<path fill=\"none\" stroke=\"#000000\" d=\"M1764.3931,-213.9272C1739.3676,-202.561 1712.0109,-190.136 1686.8974,-178.7299\"/>\n",
       "<polygon fill=\"#000000\" stroke=\"#000000\" points=\"1688.3073,-175.5262 1677.755,-174.5776 1685.4126,-181.8997 1688.3073,-175.5262\"/>\n",
       "</g>\n",
       "<!-- 22 -->\n",
       "<g id=\"node23\" class=\"node\">\n",
       "<title>22</title>\n",
       "<path fill=\"#e58139\" fill-opacity=\"0.592157\" stroke=\"#000000\" d=\"M1918.3184,-178C1918.3184,-178 1782.5254,-178 1782.5254,-178 1776.5254,-178 1770.5254,-172 1770.5254,-166 1770.5254,-166 1770.5254,-112 1770.5254,-112 1770.5254,-106 1776.5254,-100 1782.5254,-100 1782.5254,-100 1918.3184,-100 1918.3184,-100 1924.3184,-100 1930.3184,-106 1930.3184,-112 1930.3184,-112 1930.3184,-166 1930.3184,-166 1930.3184,-172 1924.3184,-178 1918.3184,-178\"/>\n",
       "<text text-anchor=\"start\" x=\"1778.4736\" y=\"-162.8\" font-family=\"Helvetica,sans-Serif\" font-size=\"14.00\" fill=\"#000000\">departure_delay ≤ 12.5</text>\n",
       "<text text-anchor=\"start\" x=\"1814.5469\" y=\"-148.8\" font-family=\"Helvetica,sans-Serif\" font-size=\"14.00\" fill=\"#000000\">gini = 0.411</text>\n",
       "<text text-anchor=\"start\" x=\"1796.9136\" y=\"-134.8\" font-family=\"Helvetica,sans-Serif\" font-size=\"14.00\" fill=\"#000000\">samples = 15098</text>\n",
       "<text text-anchor=\"start\" x=\"1782.8931\" y=\"-120.8\" font-family=\"Helvetica,sans-Serif\" font-size=\"14.00\" fill=\"#000000\">value = [10727, 4371]</text>\n",
       "<text text-anchor=\"start\" x=\"1788.3516\" y=\"-106.8\" font-family=\"Helvetica,sans-Serif\" font-size=\"14.00\" fill=\"#000000\">class = not_delayed</text>\n",
       "</g>\n",
       "<!-- 18&#45;&gt;22 -->\n",
       "<g id=\"edge22\" class=\"edge\">\n",
       "<title>18&#45;&gt;22</title>\n",
       "<path fill=\"none\" stroke=\"#000000\" d=\"M1850.4219,-213.7677C1850.4219,-205.6172 1850.4219,-196.9283 1850.4219,-188.4649\"/>\n",
       "<polygon fill=\"#000000\" stroke=\"#000000\" points=\"1853.922,-188.3046 1850.4219,-178.3046 1846.922,-188.3047 1853.922,-188.3046\"/>\n",
       "</g>\n",
       "<!-- 20 -->\n",
       "<g id=\"node21\" class=\"node\">\n",
       "<title>20</title>\n",
       "<path fill=\"#e58139\" fill-opacity=\"0.192157\" stroke=\"#000000\" d=\"M1493.5626,-64C1493.5626,-64 1377.2812,-64 1377.2812,-64 1371.2812,-64 1365.2812,-58 1365.2812,-52 1365.2812,-52 1365.2812,-12 1365.2812,-12 1365.2812,-6 1371.2812,0 1377.2812,0 1377.2812,0 1493.5626,0 1493.5626,0 1499.5626,0 1505.5626,-6 1505.5626,-12 1505.5626,-12 1505.5626,-52 1505.5626,-52 1505.5626,-58 1499.5626,-64 1493.5626,-64\"/>\n",
       "<text text-anchor=\"start\" x=\"1399.0308\" y=\"-48.8\" font-family=\"Helvetica,sans-Serif\" font-size=\"14.00\" fill=\"#000000\">gini = 0.494</text>\n",
       "<text text-anchor=\"start\" x=\"1389.6997\" y=\"-34.8\" font-family=\"Helvetica,sans-Serif\" font-size=\"14.00\" fill=\"#000000\">samples = 564</text>\n",
       "<text text-anchor=\"start\" x=\"1379.5723\" y=\"-20.8\" font-family=\"Helvetica,sans-Serif\" font-size=\"14.00\" fill=\"#000000\">value = [312, 252]</text>\n",
       "<text text-anchor=\"start\" x=\"1373.3516\" y=\"-6.8\" font-family=\"Helvetica,sans-Serif\" font-size=\"14.00\" fill=\"#000000\">class = not_delayed</text>\n",
       "</g>\n",
       "<!-- 19&#45;&gt;20 -->\n",
       "<g id=\"edge20\" class=\"edge\">\n",
       "<title>19&#45;&gt;20</title>\n",
       "<path fill=\"none\" stroke=\"#000000\" d=\"M1539.2856,-99.7647C1524.231,-89.9426 1508.1158,-79.4284 1493.1797,-69.6835\"/>\n",
       "<polygon fill=\"#000000\" stroke=\"#000000\" points=\"1494.8263,-66.5788 1484.5387,-64.0458 1491.0013,-72.4413 1494.8263,-66.5788\"/>\n",
       "</g>\n",
       "<!-- 21 -->\n",
       "<g id=\"node22\" class=\"node\">\n",
       "<title>21</title>\n",
       "<path fill=\"#e58139\" fill-opacity=\"0.780392\" stroke=\"#000000\" d=\"M1662.9795,-64C1662.9795,-64 1535.8642,-64 1535.8642,-64 1529.8642,-64 1523.8642,-58 1523.8642,-52 1523.8642,-52 1523.8642,-12 1523.8642,-12 1523.8642,-6 1529.8642,0 1535.8642,0 1535.8642,0 1662.9795,0 1662.9795,0 1668.9795,0 1674.9795,-6 1674.9795,-12 1674.9795,-12 1674.9795,-52 1674.9795,-52 1674.9795,-58 1668.9795,-64 1662.9795,-64\"/>\n",
       "<text text-anchor=\"start\" x=\"1563.0308\" y=\"-48.8\" font-family=\"Helvetica,sans-Serif\" font-size=\"14.00\" fill=\"#000000\">gini = 0.294</text>\n",
       "<text text-anchor=\"start\" x=\"1545.9136\" y=\"-34.8\" font-family=\"Helvetica,sans-Serif\" font-size=\"14.00\" fill=\"#000000\">samples = 25857</text>\n",
       "<text text-anchor=\"start\" x=\"1531.8931\" y=\"-20.8\" font-family=\"Helvetica,sans-Serif\" font-size=\"14.00\" fill=\"#000000\">value = [21227, 4630]</text>\n",
       "<text text-anchor=\"start\" x=\"1537.3516\" y=\"-6.8\" font-family=\"Helvetica,sans-Serif\" font-size=\"14.00\" fill=\"#000000\">class = not_delayed</text>\n",
       "</g>\n",
       "<!-- 19&#45;&gt;21 -->\n",
       "<g id=\"edge21\" class=\"edge\">\n",
       "<title>19&#45;&gt;21</title>\n",
       "<path fill=\"none\" stroke=\"#000000\" d=\"M1599.4219,-99.7647C1599.4219,-91.4537 1599.4219,-82.6472 1599.4219,-74.2305\"/>\n",
       "<polygon fill=\"#000000\" stroke=\"#000000\" points=\"1602.922,-74.2168 1599.4219,-64.2169 1595.922,-74.2169 1602.922,-74.2168\"/>\n",
       "</g>\n",
       "<!-- 23 -->\n",
       "<g id=\"node24\" class=\"node\">\n",
       "<title>23</title>\n",
       "<path fill=\"#e58139\" fill-opacity=\"0.643137\" stroke=\"#000000\" d=\"M1824.1936,-64C1824.1936,-64 1704.6501,-64 1704.6501,-64 1698.6501,-64 1692.6501,-58 1692.6501,-52 1692.6501,-52 1692.6501,-12 1692.6501,-12 1692.6501,-6 1698.6501,0 1704.6501,0 1704.6501,0 1824.1936,0 1824.1936,0 1830.1936,0 1836.1936,-6 1836.1936,-12 1836.1936,-12 1836.1936,-52 1836.1936,-52 1836.1936,-58 1830.1936,-64 1824.1936,-64\"/>\n",
       "<text text-anchor=\"start\" x=\"1728.0308\" y=\"-48.8\" font-family=\"Helvetica,sans-Serif\" font-size=\"14.00\" fill=\"#000000\">gini = 0.388</text>\n",
       "<text text-anchor=\"start\" x=\"1714.8066\" y=\"-34.8\" font-family=\"Helvetica,sans-Serif\" font-size=\"14.00\" fill=\"#000000\">samples = 9543</text>\n",
       "<text text-anchor=\"start\" x=\"1700.7861\" y=\"-20.8\" font-family=\"Helvetica,sans-Serif\" font-size=\"14.00\" fill=\"#000000\">value = [7028, 2515]</text>\n",
       "<text text-anchor=\"start\" x=\"1702.3516\" y=\"-6.8\" font-family=\"Helvetica,sans-Serif\" font-size=\"14.00\" fill=\"#000000\">class = not_delayed</text>\n",
       "</g>\n",
       "<!-- 22&#45;&gt;23 -->\n",
       "<g id=\"edge23\" class=\"edge\">\n",
       "<title>22&#45;&gt;23</title>\n",
       "<path fill=\"none\" stroke=\"#000000\" d=\"M1818.887,-99.7647C1811.6199,-90.7231 1803.8814,-81.095 1796.5878,-72.0204\"/>\n",
       "<polygon fill=\"#000000\" stroke=\"#000000\" points=\"1799.3086,-69.8187 1790.3158,-64.2169 1793.8525,-74.204 1799.3086,-69.8187\"/>\n",
       "</g>\n",
       "<!-- 24 -->\n",
       "<g id=\"node25\" class=\"node\">\n",
       "<title>24</title>\n",
       "<path fill=\"#e58139\" fill-opacity=\"0.498039\" stroke=\"#000000\" d=\"M1985.1936,-64C1985.1936,-64 1865.6501,-64 1865.6501,-64 1859.6501,-64 1853.6501,-58 1853.6501,-52 1853.6501,-52 1853.6501,-12 1853.6501,-12 1853.6501,-6 1859.6501,0 1865.6501,0 1865.6501,0 1985.1936,0 1985.1936,0 1991.1936,0 1997.1936,-6 1997.1936,-12 1997.1936,-12 1997.1936,-52 1997.1936,-52 1997.1936,-58 1991.1936,-64 1985.1936,-64\"/>\n",
       "<text text-anchor=\"start\" x=\"1889.0308\" y=\"-48.8\" font-family=\"Helvetica,sans-Serif\" font-size=\"14.00\" fill=\"#000000\">gini = 0.445</text>\n",
       "<text text-anchor=\"start\" x=\"1875.8066\" y=\"-34.8\" font-family=\"Helvetica,sans-Serif\" font-size=\"14.00\" fill=\"#000000\">samples = 5555</text>\n",
       "<text text-anchor=\"start\" x=\"1861.7861\" y=\"-20.8\" font-family=\"Helvetica,sans-Serif\" font-size=\"14.00\" fill=\"#000000\">value = [3699, 1856]</text>\n",
       "<text text-anchor=\"start\" x=\"1863.3516\" y=\"-6.8\" font-family=\"Helvetica,sans-Serif\" font-size=\"14.00\" fill=\"#000000\">class = not_delayed</text>\n",
       "</g>\n",
       "<!-- 22&#45;&gt;24 -->\n",
       "<g id=\"edge24\" class=\"edge\">\n",
       "<title>22&#45;&gt;24</title>\n",
       "<path fill=\"none\" stroke=\"#000000\" d=\"M1877.9232,-99.7647C1884.1328,-90.9057 1890.737,-81.4838 1896.9842,-72.571\"/>\n",
       "<polygon fill=\"#000000\" stroke=\"#000000\" points=\"1899.9662,-74.4145 1902.84,-64.2169 1894.2341,-70.3967 1899.9662,-74.4145\"/>\n",
       "</g>\n",
       "<!-- 26 -->\n",
       "<g id=\"node27\" class=\"node\">\n",
       "<title>26</title>\n",
       "<path fill=\"#e58139\" fill-opacity=\"0.529412\" stroke=\"#000000\" d=\"M2211.6945,-178C2211.6945,-178 2079.1492,-178 2079.1492,-178 2073.1492,-178 2067.1492,-172 2067.1492,-166 2067.1492,-166 2067.1492,-112 2067.1492,-112 2067.1492,-106 2073.1492,-100 2079.1492,-100 2079.1492,-100 2211.6945,-100 2211.6945,-100 2217.6945,-100 2223.6945,-106 2223.6945,-112 2223.6945,-112 2223.6945,-166 2223.6945,-166 2223.6945,-172 2217.6945,-178 2211.6945,-178\"/>\n",
       "<text text-anchor=\"start\" x=\"2075.0356\" y=\"-162.8\" font-family=\"Helvetica,sans-Serif\" font-size=\"14.00\" fill=\"#000000\">scheduled_time ≤ 54.5</text>\n",
       "<text text-anchor=\"start\" x=\"2109.0308\" y=\"-148.8\" font-family=\"Helvetica,sans-Serif\" font-size=\"14.00\" fill=\"#000000\">gini = 0.435</text>\n",
       "<text text-anchor=\"start\" x=\"2091.9136\" y=\"-134.8\" font-family=\"Helvetica,sans-Serif\" font-size=\"14.00\" fill=\"#000000\">samples = 19015</text>\n",
       "<text text-anchor=\"start\" x=\"2077.8931\" y=\"-120.8\" font-family=\"Helvetica,sans-Serif\" font-size=\"14.00\" fill=\"#000000\">value = [12941, 6074]</text>\n",
       "<text text-anchor=\"start\" x=\"2083.3516\" y=\"-106.8\" font-family=\"Helvetica,sans-Serif\" font-size=\"14.00\" fill=\"#000000\">class = not_delayed</text>\n",
       "</g>\n",
       "<!-- 25&#45;&gt;26 -->\n",
       "<g id=\"edge26\" class=\"edge\">\n",
       "<title>25&#45;&gt;26</title>\n",
       "<path fill=\"none\" stroke=\"#000000\" d=\"M2145.4219,-213.7677C2145.4219,-205.6172 2145.4219,-196.9283 2145.4219,-188.4649\"/>\n",
       "<polygon fill=\"#000000\" stroke=\"#000000\" points=\"2148.922,-188.3046 2145.4219,-178.3046 2141.922,-188.3047 2148.922,-188.3046\"/>\n",
       "</g>\n",
       "<!-- 29 -->\n",
       "<g id=\"node30\" class=\"node\">\n",
       "<title>29</title>\n",
       "<path fill=\"#e58139\" fill-opacity=\"0.200000\" stroke=\"#000000\" d=\"M2463.4811,-178C2463.4811,-178 2323.3627,-178 2323.3627,-178 2317.3627,-178 2311.3627,-172 2311.3627,-166 2311.3627,-166 2311.3627,-112 2311.3627,-112 2311.3627,-106 2317.3627,-100 2323.3627,-100 2323.3627,-100 2463.4811,-100 2463.4811,-100 2469.4811,-100 2475.4811,-106 2475.4811,-112 2475.4811,-112 2475.4811,-166 2475.4811,-166 2475.4811,-172 2469.4811,-178 2463.4811,-178\"/>\n",
       "<text text-anchor=\"start\" x=\"2319.1426\" y=\"-162.8\" font-family=\"Helvetica,sans-Serif\" font-size=\"14.00\" fill=\"#000000\">scheduled_time ≤ 121.5</text>\n",
       "<text text-anchor=\"start\" x=\"2357.0308\" y=\"-148.8\" font-family=\"Helvetica,sans-Serif\" font-size=\"14.00\" fill=\"#000000\">gini = 0.494</text>\n",
       "<text text-anchor=\"start\" x=\"2340.4297\" y=\"-134.8\" font-family=\"Helvetica,sans-Serif\" font-size=\"14.00\" fill=\"#000000\">samples = 11701</text>\n",
       "<text text-anchor=\"start\" x=\"2329.7861\" y=\"-120.8\" font-family=\"Helvetica,sans-Serif\" font-size=\"14.00\" fill=\"#000000\">value = [6496, 5205]</text>\n",
       "<text text-anchor=\"start\" x=\"2331.3516\" y=\"-106.8\" font-family=\"Helvetica,sans-Serif\" font-size=\"14.00\" fill=\"#000000\">class = not_delayed</text>\n",
       "</g>\n",
       "<!-- 25&#45;&gt;29 -->\n",
       "<g id=\"edge29\" class=\"edge\">\n",
       "<title>25&#45;&gt;29</title>\n",
       "<path fill=\"none\" stroke=\"#000000\" d=\"M2230.4224,-213.9272C2253.4465,-203.3435 2278.4677,-191.8418 2301.8369,-181.0995\"/>\n",
       "<polygon fill=\"#000000\" stroke=\"#000000\" points=\"2303.4232,-184.2225 2311.0474,-176.8657 2300.4995,-177.8623 2303.4232,-184.2225\"/>\n",
       "</g>\n",
       "<!-- 27 -->\n",
       "<g id=\"node28\" class=\"node\">\n",
       "<title>27</title>\n",
       "<path fill=\"#399de5\" fill-opacity=\"0.788235\" stroke=\"#000000\" d=\"M2123.335,-64C2123.335,-64 2027.5088,-64 2027.5088,-64 2021.5088,-64 2015.5088,-58 2015.5088,-52 2015.5088,-52 2015.5088,-12 2015.5088,-12 2015.5088,-6 2021.5088,0 2027.5088,0 2027.5088,0 2123.335,0 2123.335,0 2129.335,0 2135.335,-6 2135.335,-12 2135.335,-12 2135.335,-52 2135.335,-52 2135.335,-58 2129.335,-64 2123.335,-64\"/>\n",
       "<text text-anchor=\"start\" x=\"2039.0308\" y=\"-48.8\" font-family=\"Helvetica,sans-Serif\" font-size=\"14.00\" fill=\"#000000\">gini = 0.287</text>\n",
       "<text text-anchor=\"start\" x=\"2029.6997\" y=\"-34.8\" font-family=\"Helvetica,sans-Serif\" font-size=\"14.00\" fill=\"#000000\">samples = 415</text>\n",
       "<text text-anchor=\"start\" x=\"2023.4653\" y=\"-20.8\" font-family=\"Helvetica,sans-Serif\" font-size=\"14.00\" fill=\"#000000\">value = [72, 343]</text>\n",
       "<text text-anchor=\"start\" x=\"2026.9756\" y=\"-6.8\" font-family=\"Helvetica,sans-Serif\" font-size=\"14.00\" fill=\"#000000\">class = delayed</text>\n",
       "</g>\n",
       "<!-- 26&#45;&gt;27 -->\n",
       "<g id=\"edge27\" class=\"edge\">\n",
       "<title>26&#45;&gt;27</title>\n",
       "<path fill=\"none\" stroke=\"#000000\" d=\"M2119.7539,-99.7647C2114.0181,-90.9971 2107.9215,-81.678 2102.1441,-72.8469\"/>\n",
       "<polygon fill=\"#000000\" stroke=\"#000000\" points=\"2104.9019,-70.6691 2096.4983,-64.2169 2099.0441,-74.5013 2104.9019,-70.6691\"/>\n",
       "</g>\n",
       "<!-- 28 -->\n",
       "<g id=\"node29\" class=\"node\">\n",
       "<title>28</title>\n",
       "<path fill=\"#e58139\" fill-opacity=\"0.552941\" stroke=\"#000000\" d=\"M2291.9795,-64C2291.9795,-64 2164.8642,-64 2164.8642,-64 2158.8642,-64 2152.8642,-58 2152.8642,-52 2152.8642,-52 2152.8642,-12 2152.8642,-12 2152.8642,-6 2158.8642,0 2164.8642,0 2164.8642,0 2291.9795,0 2291.9795,0 2297.9795,0 2303.9795,-6 2303.9795,-12 2303.9795,-12 2303.9795,-52 2303.9795,-52 2303.9795,-58 2297.9795,-64 2291.9795,-64\"/>\n",
       "<text text-anchor=\"start\" x=\"2192.0308\" y=\"-48.8\" font-family=\"Helvetica,sans-Serif\" font-size=\"14.00\" fill=\"#000000\">gini = 0.426</text>\n",
       "<text text-anchor=\"start\" x=\"2174.9136\" y=\"-34.8\" font-family=\"Helvetica,sans-Serif\" font-size=\"14.00\" fill=\"#000000\">samples = 18600</text>\n",
       "<text text-anchor=\"start\" x=\"2160.8931\" y=\"-20.8\" font-family=\"Helvetica,sans-Serif\" font-size=\"14.00\" fill=\"#000000\">value = [12869, 5731]</text>\n",
       "<text text-anchor=\"start\" x=\"2166.3516\" y=\"-6.8\" font-family=\"Helvetica,sans-Serif\" font-size=\"14.00\" fill=\"#000000\">class = not_delayed</text>\n",
       "</g>\n",
       "<!-- 26&#45;&gt;28 -->\n",
       "<g id=\"edge28\" class=\"edge\">\n",
       "<title>26&#45;&gt;28</title>\n",
       "<path fill=\"none\" stroke=\"#000000\" d=\"M2175.8567,-99.7647C2182.7995,-90.8144 2190.188,-81.2894 2197.1646,-72.2955\"/>\n",
       "<polygon fill=\"#000000\" stroke=\"#000000\" points=\"2200.0675,-74.2636 2203.4312,-64.2169 2194.5365,-69.9731 2200.0675,-74.2636\"/>\n",
       "</g>\n",
       "<!-- 30 -->\n",
       "<g id=\"node31\" class=\"node\">\n",
       "<title>30</title>\n",
       "<path fill=\"#e58139\" fill-opacity=\"0.031373\" stroke=\"#000000\" d=\"M2453.1936,-64C2453.1936,-64 2333.6501,-64 2333.6501,-64 2327.6501,-64 2321.6501,-58 2321.6501,-52 2321.6501,-52 2321.6501,-12 2321.6501,-12 2321.6501,-6 2327.6501,0 2333.6501,0 2333.6501,0 2453.1936,0 2453.1936,0 2459.1936,0 2465.1936,-6 2465.1936,-12 2465.1936,-12 2465.1936,-52 2465.1936,-52 2465.1936,-58 2459.1936,-64 2453.1936,-64\"/>\n",
       "<text text-anchor=\"start\" x=\"2364.8169\" y=\"-48.8\" font-family=\"Helvetica,sans-Serif\" font-size=\"14.00\" fill=\"#000000\">gini = 0.5</text>\n",
       "<text text-anchor=\"start\" x=\"2343.8066\" y=\"-34.8\" font-family=\"Helvetica,sans-Serif\" font-size=\"14.00\" fill=\"#000000\">samples = 5941</text>\n",
       "<text text-anchor=\"start\" x=\"2329.7861\" y=\"-20.8\" font-family=\"Helvetica,sans-Serif\" font-size=\"14.00\" fill=\"#000000\">value = [3019, 2922]</text>\n",
       "<text text-anchor=\"start\" x=\"2331.3516\" y=\"-6.8\" font-family=\"Helvetica,sans-Serif\" font-size=\"14.00\" fill=\"#000000\">class = not_delayed</text>\n",
       "</g>\n",
       "<!-- 29&#45;&gt;30 -->\n",
       "<g id=\"edge30\" class=\"edge\">\n",
       "<title>29&#45;&gt;30</title>\n",
       "<path fill=\"none\" stroke=\"#000000\" d=\"M2393.4219,-99.7647C2393.4219,-91.4537 2393.4219,-82.6472 2393.4219,-74.2305\"/>\n",
       "<polygon fill=\"#000000\" stroke=\"#000000\" points=\"2396.922,-74.2168 2393.4219,-64.2169 2389.922,-74.2169 2396.922,-74.2168\"/>\n",
       "</g>\n",
       "<!-- 31 -->\n",
       "<g id=\"node32\" class=\"node\">\n",
       "<title>31</title>\n",
       "<path fill=\"#e58139\" fill-opacity=\"0.345098\" stroke=\"#000000\" d=\"M2614.1936,-64C2614.1936,-64 2494.6501,-64 2494.6501,-64 2488.6501,-64 2482.6501,-58 2482.6501,-52 2482.6501,-52 2482.6501,-12 2482.6501,-12 2482.6501,-6 2488.6501,0 2494.6501,0 2494.6501,0 2614.1936,0 2614.1936,0 2620.1936,0 2626.1936,-6 2626.1936,-12 2626.1936,-12 2626.1936,-52 2626.1936,-52 2626.1936,-58 2620.1936,-64 2614.1936,-64\"/>\n",
       "<text text-anchor=\"start\" x=\"2518.0308\" y=\"-48.8\" font-family=\"Helvetica,sans-Serif\" font-size=\"14.00\" fill=\"#000000\">gini = 0.479</text>\n",
       "<text text-anchor=\"start\" x=\"2504.8066\" y=\"-34.8\" font-family=\"Helvetica,sans-Serif\" font-size=\"14.00\" fill=\"#000000\">samples = 5760</text>\n",
       "<text text-anchor=\"start\" x=\"2490.7861\" y=\"-20.8\" font-family=\"Helvetica,sans-Serif\" font-size=\"14.00\" fill=\"#000000\">value = [3477, 2283]</text>\n",
       "<text text-anchor=\"start\" x=\"2492.3516\" y=\"-6.8\" font-family=\"Helvetica,sans-Serif\" font-size=\"14.00\" fill=\"#000000\">class = not_delayed</text>\n",
       "</g>\n",
       "<!-- 29&#45;&gt;31 -->\n",
       "<g id=\"edge31\" class=\"edge\">\n",
       "<title>29&#45;&gt;31</title>\n",
       "<path fill=\"none\" stroke=\"#000000\" d=\"M2452.4581,-99.7647C2467.2373,-89.9426 2483.0577,-79.4284 2497.7206,-69.6835\"/>\n",
       "<polygon fill=\"#000000\" stroke=\"#000000\" points=\"2499.8123,-72.4958 2506.2035,-64.0458 2495.9377,-66.6659 2499.8123,-72.4958\"/>\n",
       "</g>\n",
       "<!-- 33 -->\n",
       "<g id=\"node34\" class=\"node\">\n",
       "<title>33</title>\n",
       "<path fill=\"#399de5\" fill-opacity=\"0.364706\" stroke=\"#000000\" d=\"M3254.9489,-406C3254.9489,-406 3115.8948,-406 3115.8948,-406 3109.8948,-406 3103.8948,-400 3103.8948,-394 3103.8948,-394 3103.8948,-340 3103.8948,-340 3103.8948,-334 3109.8948,-328 3115.8948,-328 3115.8948,-328 3254.9489,-328 3254.9489,-328 3260.9489,-328 3266.9489,-334 3266.9489,-340 3266.9489,-340 3266.9489,-394 3266.9489,-394 3266.9489,-400 3260.9489,-406 3254.9489,-406\"/>\n",
       "<text text-anchor=\"start\" x=\"3111.6587\" y=\"-390.8\" font-family=\"Helvetica,sans-Serif\" font-size=\"14.00\" fill=\"#000000\">scheduled_time ≤ 112.5</text>\n",
       "<text text-anchor=\"start\" x=\"3149.0308\" y=\"-376.8\" font-family=\"Helvetica,sans-Serif\" font-size=\"14.00\" fill=\"#000000\">gini = 0.475</text>\n",
       "<text text-anchor=\"start\" x=\"3131.9136\" y=\"-362.8\" font-family=\"Helvetica,sans-Serif\" font-size=\"14.00\" fill=\"#000000\">samples = 38266</text>\n",
       "<text text-anchor=\"start\" x=\"3114\" y=\"-348.8\" font-family=\"Helvetica,sans-Serif\" font-size=\"14.00\" fill=\"#000000\">value = [14870, 23396]</text>\n",
       "<text text-anchor=\"start\" x=\"3136.9756\" y=\"-334.8\" font-family=\"Helvetica,sans-Serif\" font-size=\"14.00\" fill=\"#000000\">class = delayed</text>\n",
       "</g>\n",
       "<!-- 32&#45;&gt;33 -->\n",
       "<g id=\"edge33\" class=\"edge\">\n",
       "<title>32&#45;&gt;33</title>\n",
       "<path fill=\"none\" stroke=\"#000000\" d=\"M3185.4219,-441.7677C3185.4219,-433.6172 3185.4219,-424.9283 3185.4219,-416.4649\"/>\n",
       "<polygon fill=\"#000000\" stroke=\"#000000\" points=\"3188.922,-416.3046 3185.4219,-406.3046 3181.922,-416.3047 3188.922,-416.3046\"/>\n",
       "</g>\n",
       "<!-- 48 -->\n",
       "<g id=\"node49\" class=\"node\">\n",
       "<title>48</title>\n",
       "<path fill=\"#399de5\" fill-opacity=\"0.949020\" stroke=\"#000000\" d=\"M4275.3184,-406C4275.3184,-406 4139.5254,-406 4139.5254,-406 4133.5254,-406 4127.5254,-400 4127.5254,-394 4127.5254,-394 4127.5254,-340 4127.5254,-340 4127.5254,-334 4133.5254,-328 4139.5254,-328 4139.5254,-328 4275.3184,-328 4275.3184,-328 4281.3184,-328 4287.3184,-334 4287.3184,-340 4287.3184,-340 4287.3184,-394 4287.3184,-394 4287.3184,-400 4281.3184,-406 4275.3184,-406\"/>\n",
       "<text text-anchor=\"start\" x=\"4135.4736\" y=\"-390.8\" font-family=\"Helvetica,sans-Serif\" font-size=\"14.00\" fill=\"#000000\">departure_delay ≤ 35.5</text>\n",
       "<text text-anchor=\"start\" x=\"4174.9238\" y=\"-376.8\" font-family=\"Helvetica,sans-Serif\" font-size=\"14.00\" fill=\"#000000\">gini = 0.09</text>\n",
       "<text text-anchor=\"start\" x=\"4150.5366\" y=\"-362.8\" font-family=\"Helvetica,sans-Serif\" font-size=\"14.00\" fill=\"#000000\">samples = 117891</text>\n",
       "<text text-anchor=\"start\" x=\"4136.5161\" y=\"-348.8\" font-family=\"Helvetica,sans-Serif\" font-size=\"14.00\" fill=\"#000000\">value = [5596, 112295]</text>\n",
       "<text text-anchor=\"start\" x=\"4158.9756\" y=\"-334.8\" font-family=\"Helvetica,sans-Serif\" font-size=\"14.00\" fill=\"#000000\">class = delayed</text>\n",
       "</g>\n",
       "<!-- 32&#45;&gt;48 -->\n",
       "<g id=\"edge48\" class=\"edge\">\n",
       "<title>32&#45;&gt;48</title>\n",
       "<path fill=\"none\" stroke=\"#000000\" d=\"M3268.6231,-471.7192C3458.3284,-450.5584 3921.5867,-398.8838 4117.5388,-377.0261\"/>\n",
       "<polygon fill=\"#000000\" stroke=\"#000000\" points=\"4117.9643,-380.5004 4127.5146,-375.9133 4117.1882,-373.5436 4117.9643,-380.5004\"/>\n",
       "</g>\n",
       "<!-- 34 -->\n",
       "<g id=\"node35\" class=\"node\">\n",
       "<title>34</title>\n",
       "<path fill=\"#399de5\" fill-opacity=\"0.643137\" stroke=\"#000000\" d=\"M3172.3184,-292C3172.3184,-292 3036.5254,-292 3036.5254,-292 3030.5254,-292 3024.5254,-286 3024.5254,-280 3024.5254,-280 3024.5254,-226 3024.5254,-226 3024.5254,-220 3030.5254,-214 3036.5254,-214 3036.5254,-214 3172.3184,-214 3172.3184,-214 3178.3184,-214 3184.3184,-220 3184.3184,-226 3184.3184,-226 3184.3184,-280 3184.3184,-280 3184.3184,-286 3178.3184,-292 3172.3184,-292\"/>\n",
       "<text text-anchor=\"start\" x=\"3032.4736\" y=\"-276.8\" font-family=\"Helvetica,sans-Serif\" font-size=\"14.00\" fill=\"#000000\">departure_delay ≤ 23.5</text>\n",
       "<text text-anchor=\"start\" x=\"3068.0308\" y=\"-262.8\" font-family=\"Helvetica,sans-Serif\" font-size=\"14.00\" fill=\"#000000\">gini = 0.387</text>\n",
       "<text text-anchor=\"start\" x=\"3050.9136\" y=\"-248.8\" font-family=\"Helvetica,sans-Serif\" font-size=\"14.00\" fill=\"#000000\">samples = 15557</text>\n",
       "<text text-anchor=\"start\" x=\"3037.4092\" y=\"-234.8\" font-family=\"Helvetica,sans-Serif\" font-size=\"14.00\" fill=\"#000000\">value = [4080, 11477]</text>\n",
       "<text text-anchor=\"start\" x=\"3055.9756\" y=\"-220.8\" font-family=\"Helvetica,sans-Serif\" font-size=\"14.00\" fill=\"#000000\">class = delayed</text>\n",
       "</g>\n",
       "<!-- 33&#45;&gt;34 -->\n",
       "<g id=\"edge34\" class=\"edge\">\n",
       "<title>33&#45;&gt;34</title>\n",
       "<path fill=\"none\" stroke=\"#000000\" d=\"M3157.5463,-327.7677C3151.3097,-318.9903 3144.6294,-309.5883 3138.1833,-300.5161\"/>\n",
       "<polygon fill=\"#000000\" stroke=\"#000000\" points=\"3140.9941,-298.4292 3132.3489,-292.3046 3135.2878,-302.4837 3140.9941,-298.4292\"/>\n",
       "</g>\n",
       "<!-- 41 -->\n",
       "<g id=\"node42\" class=\"node\">\n",
       "<title>41</title>\n",
       "<path fill=\"#399de5\" fill-opacity=\"0.094118\" stroke=\"#000000\" d=\"M3470.3184,-292C3470.3184,-292 3334.5254,-292 3334.5254,-292 3328.5254,-292 3322.5254,-286 3322.5254,-280 3322.5254,-280 3322.5254,-226 3322.5254,-226 3322.5254,-220 3328.5254,-214 3334.5254,-214 3334.5254,-214 3470.3184,-214 3470.3184,-214 3476.3184,-214 3482.3184,-220 3482.3184,-226 3482.3184,-226 3482.3184,-280 3482.3184,-280 3482.3184,-286 3476.3184,-292 3470.3184,-292\"/>\n",
       "<text text-anchor=\"start\" x=\"3330.4736\" y=\"-276.8\" font-family=\"Helvetica,sans-Serif\" font-size=\"14.00\" fill=\"#000000\">departure_delay ≤ 24.5</text>\n",
       "<text text-anchor=\"start\" x=\"3366.0308\" y=\"-262.8\" font-family=\"Helvetica,sans-Serif\" font-size=\"14.00\" fill=\"#000000\">gini = 0.499</text>\n",
       "<text text-anchor=\"start\" x=\"3348.9136\" y=\"-248.8\" font-family=\"Helvetica,sans-Serif\" font-size=\"14.00\" fill=\"#000000\">samples = 22709</text>\n",
       "<text text-anchor=\"start\" x=\"3331.5161\" y=\"-234.8\" font-family=\"Helvetica,sans-Serif\" font-size=\"14.00\" fill=\"#000000\">value = [10790, 11919]</text>\n",
       "<text text-anchor=\"start\" x=\"3353.9756\" y=\"-220.8\" font-family=\"Helvetica,sans-Serif\" font-size=\"14.00\" fill=\"#000000\">class = delayed</text>\n",
       "</g>\n",
       "<!-- 33&#45;&gt;41 -->\n",
       "<g id=\"edge41\" class=\"edge\">\n",
       "<title>33&#45;&gt;41</title>\n",
       "<path fill=\"none\" stroke=\"#000000\" d=\"M3259.7974,-327.9272C3278.9485,-317.8662 3299.6787,-306.9757 3319.2453,-296.6965\"/>\n",
       "<polygon fill=\"#000000\" stroke=\"#000000\" points=\"3320.9186,-299.771 3328.1436,-292.0218 3317.6631,-293.5741 3320.9186,-299.771\"/>\n",
       "</g>\n",
       "<!-- 35 -->\n",
       "<g id=\"node36\" class=\"node\">\n",
       "<title>35</title>\n",
       "<path fill=\"#399de5\" fill-opacity=\"0.458824\" stroke=\"#000000\" d=\"M2926.6945,-178C2926.6945,-178 2794.1492,-178 2794.1492,-178 2788.1492,-178 2782.1492,-172 2782.1492,-166 2782.1492,-166 2782.1492,-112 2782.1492,-112 2782.1492,-106 2788.1492,-100 2794.1492,-100 2794.1492,-100 2926.6945,-100 2926.6945,-100 2932.6945,-100 2938.6945,-106 2938.6945,-112 2938.6945,-112 2938.6945,-166 2938.6945,-166 2938.6945,-172 2932.6945,-178 2926.6945,-178\"/>\n",
       "<text text-anchor=\"start\" x=\"2790.0356\" y=\"-162.8\" font-family=\"Helvetica,sans-Serif\" font-size=\"14.00\" fill=\"#000000\">scheduled_time ≤ 60.5</text>\n",
       "<text text-anchor=\"start\" x=\"2824.0308\" y=\"-148.8\" font-family=\"Helvetica,sans-Serif\" font-size=\"14.00\" fill=\"#000000\">gini = 0.455</text>\n",
       "<text text-anchor=\"start\" x=\"2810.8066\" y=\"-134.8\" font-family=\"Helvetica,sans-Serif\" font-size=\"14.00\" fill=\"#000000\">samples = 7766</text>\n",
       "<text text-anchor=\"start\" x=\"2796.7861\" y=\"-120.8\" font-family=\"Helvetica,sans-Serif\" font-size=\"14.00\" fill=\"#000000\">value = [2721, 5045]</text>\n",
       "<text text-anchor=\"start\" x=\"2811.9756\" y=\"-106.8\" font-family=\"Helvetica,sans-Serif\" font-size=\"14.00\" fill=\"#000000\">class = delayed</text>\n",
       "</g>\n",
       "<!-- 34&#45;&gt;35 -->\n",
       "<g id=\"edge35\" class=\"edge\">\n",
       "<title>34&#45;&gt;35</title>\n",
       "<path fill=\"none\" stroke=\"#000000\" d=\"M3024.1892,-215.5142C2999.9257,-204.178 2973.1556,-191.6707 2948.4136,-180.1109\"/>\n",
       "<polygon fill=\"#000000\" stroke=\"#000000\" points=\"2949.5812,-176.7933 2939.0397,-175.7313 2946.6181,-183.1352 2949.5812,-176.7933\"/>\n",
       "</g>\n",
       "<!-- 38 -->\n",
       "<g id=\"node39\" class=\"node\">\n",
       "<title>38</title>\n",
       "<path fill=\"#399de5\" fill-opacity=\"0.788235\" stroke=\"#000000\" d=\"M3170.6945,-178C3170.6945,-178 3038.1492,-178 3038.1492,-178 3032.1492,-178 3026.1492,-172 3026.1492,-166 3026.1492,-166 3026.1492,-112 3026.1492,-112 3026.1492,-106 3032.1492,-100 3038.1492,-100 3038.1492,-100 3170.6945,-100 3170.6945,-100 3176.6945,-100 3182.6945,-106 3182.6945,-112 3182.6945,-112 3182.6945,-166 3182.6945,-166 3182.6945,-172 3176.6945,-178 3170.6945,-178\"/>\n",
       "<text text-anchor=\"start\" x=\"3034.0356\" y=\"-162.8\" font-family=\"Helvetica,sans-Serif\" font-size=\"14.00\" fill=\"#000000\">scheduled_time ≤ 75.5</text>\n",
       "<text text-anchor=\"start\" x=\"3068.0308\" y=\"-148.8\" font-family=\"Helvetica,sans-Serif\" font-size=\"14.00\" fill=\"#000000\">gini = 0.288</text>\n",
       "<text text-anchor=\"start\" x=\"3054.8066\" y=\"-134.8\" font-family=\"Helvetica,sans-Serif\" font-size=\"14.00\" fill=\"#000000\">samples = 7791</text>\n",
       "<text text-anchor=\"start\" x=\"3040.7861\" y=\"-120.8\" font-family=\"Helvetica,sans-Serif\" font-size=\"14.00\" fill=\"#000000\">value = [1359, 6432]</text>\n",
       "<text text-anchor=\"start\" x=\"3055.9756\" y=\"-106.8\" font-family=\"Helvetica,sans-Serif\" font-size=\"14.00\" fill=\"#000000\">class = delayed</text>\n",
       "</g>\n",
       "<!-- 34&#45;&gt;38 -->\n",
       "<g id=\"edge38\" class=\"edge\">\n",
       "<title>34&#45;&gt;38</title>\n",
       "<path fill=\"none\" stroke=\"#000000\" d=\"M3104.4219,-213.7677C3104.4219,-205.6172 3104.4219,-196.9283 3104.4219,-188.4649\"/>\n",
       "<polygon fill=\"#000000\" stroke=\"#000000\" points=\"3107.922,-188.3046 3104.4219,-178.3046 3100.922,-188.3047 3107.922,-188.3046\"/>\n",
       "</g>\n",
       "<!-- 36 -->\n",
       "<g id=\"node37\" class=\"node\">\n",
       "<title>36</title>\n",
       "<path fill=\"#399de5\" fill-opacity=\"0.749020\" stroke=\"#000000\" d=\"M2759.1214,-64C2759.1214,-64 2655.7223,-64 2655.7223,-64 2649.7223,-64 2643.7223,-58 2643.7223,-52 2643.7223,-52 2643.7223,-12 2643.7223,-12 2643.7223,-6 2649.7223,0 2655.7223,0 2655.7223,0 2759.1214,0 2759.1214,0 2765.1214,0 2771.1214,-6 2771.1214,-12 2771.1214,-12 2771.1214,-52 2771.1214,-52 2771.1214,-58 2765.1214,-64 2759.1214,-64\"/>\n",
       "<text text-anchor=\"start\" x=\"2671.0308\" y=\"-48.8\" font-family=\"Helvetica,sans-Serif\" font-size=\"14.00\" fill=\"#000000\">gini = 0.319</text>\n",
       "<text text-anchor=\"start\" x=\"2658.3228\" y=\"-34.8\" font-family=\"Helvetica,sans-Serif\" font-size=\"14.00\" fill=\"#000000\">samples = 1123</text>\n",
       "<text text-anchor=\"start\" x=\"2651.5723\" y=\"-20.8\" font-family=\"Helvetica,sans-Serif\" font-size=\"14.00\" fill=\"#000000\">value = [224, 899]</text>\n",
       "<text text-anchor=\"start\" x=\"2658.9756\" y=\"-6.8\" font-family=\"Helvetica,sans-Serif\" font-size=\"14.00\" fill=\"#000000\">class = delayed</text>\n",
       "</g>\n",
       "<!-- 35&#45;&gt;36 -->\n",
       "<g id=\"edge36\" class=\"edge\">\n",
       "<title>35&#45;&gt;36</title>\n",
       "<path fill=\"none\" stroke=\"#000000\" d=\"M2804.3191,-99.7647C2790.4762,-90.0838 2775.672,-79.7305 2761.9073,-70.1042\"/>\n",
       "<polygon fill=\"#000000\" stroke=\"#000000\" points=\"2763.6897,-67.0797 2753.489,-64.2169 2759.678,-72.8161 2763.6897,-67.0797\"/>\n",
       "</g>\n",
       "<!-- 37 -->\n",
       "<g id=\"node38\" class=\"node\">\n",
       "<title>37</title>\n",
       "<path fill=\"#399de5\" fill-opacity=\"0.396078\" stroke=\"#000000\" d=\"M2920.1936,-64C2920.1936,-64 2800.6501,-64 2800.6501,-64 2794.6501,-64 2788.6501,-58 2788.6501,-52 2788.6501,-52 2788.6501,-12 2788.6501,-12 2788.6501,-6 2794.6501,0 2800.6501,0 2800.6501,0 2920.1936,0 2920.1936,0 2926.1936,0 2932.1936,-6 2932.1936,-12 2932.1936,-12 2932.1936,-52 2932.1936,-52 2932.1936,-58 2926.1936,-64 2920.1936,-64\"/>\n",
       "<text text-anchor=\"start\" x=\"2824.0308\" y=\"-48.8\" font-family=\"Helvetica,sans-Serif\" font-size=\"14.00\" fill=\"#000000\">gini = 0.469</text>\n",
       "<text text-anchor=\"start\" x=\"2810.8066\" y=\"-34.8\" font-family=\"Helvetica,sans-Serif\" font-size=\"14.00\" fill=\"#000000\">samples = 6643</text>\n",
       "<text text-anchor=\"start\" x=\"2796.7861\" y=\"-20.8\" font-family=\"Helvetica,sans-Serif\" font-size=\"14.00\" fill=\"#000000\">value = [2497, 4146]</text>\n",
       "<text text-anchor=\"start\" x=\"2811.9756\" y=\"-6.8\" font-family=\"Helvetica,sans-Serif\" font-size=\"14.00\" fill=\"#000000\">class = delayed</text>\n",
       "</g>\n",
       "<!-- 35&#45;&gt;37 -->\n",
       "<g id=\"edge37\" class=\"edge\">\n",
       "<title>35&#45;&gt;37</title>\n",
       "<path fill=\"none\" stroke=\"#000000\" d=\"M2860.4219,-99.7647C2860.4219,-91.4537 2860.4219,-82.6472 2860.4219,-74.2305\"/>\n",
       "<polygon fill=\"#000000\" stroke=\"#000000\" points=\"2863.922,-74.2168 2860.4219,-64.2169 2856.922,-74.2169 2863.922,-74.2168\"/>\n",
       "</g>\n",
       "<!-- 39 -->\n",
       "<g id=\"node40\" class=\"node\">\n",
       "<title>39</title>\n",
       "<path fill=\"#399de5\" fill-opacity=\"0.886275\" stroke=\"#000000\" d=\"M3072.8758,-64C3072.8758,-64 2961.968,-64 2961.968,-64 2955.968,-64 2949.968,-58 2949.968,-52 2949.968,-52 2949.968,-12 2949.968,-12 2949.968,-6 2955.968,0 2961.968,0 2961.968,0 3072.8758,0 3072.8758,0 3078.8758,0 3084.8758,-6 3084.8758,-12 3084.8758,-12 3084.8758,-52 3084.8758,-52 3084.8758,-58 3078.8758,-64 3072.8758,-64\"/>\n",
       "<text text-anchor=\"start\" x=\"2981.0308\" y=\"-48.8\" font-family=\"Helvetica,sans-Serif\" font-size=\"14.00\" fill=\"#000000\">gini = 0.183</text>\n",
       "<text text-anchor=\"start\" x=\"2967.8066\" y=\"-34.8\" font-family=\"Helvetica,sans-Serif\" font-size=\"14.00\" fill=\"#000000\">samples = 3062</text>\n",
       "<text text-anchor=\"start\" x=\"2958.1953\" y=\"-20.8\" font-family=\"Helvetica,sans-Serif\" font-size=\"14.00\" fill=\"#000000\">value = [311, 2751]</text>\n",
       "<text text-anchor=\"start\" x=\"2968.9756\" y=\"-6.8\" font-family=\"Helvetica,sans-Serif\" font-size=\"14.00\" fill=\"#000000\">class = delayed</text>\n",
       "</g>\n",
       "<!-- 38&#45;&gt;39 -->\n",
       "<g id=\"edge39\" class=\"edge\">\n",
       "<title>38&#45;&gt;39</title>\n",
       "<path fill=\"none\" stroke=\"#000000\" d=\"M3072.5203,-99.7647C3065.1687,-90.7231 3057.3402,-81.095 3049.9618,-72.0204\"/>\n",
       "<polygon fill=\"#000000\" stroke=\"#000000\" points=\"3052.6412,-69.7678 3043.6169,-64.2169 3047.21,-74.1839 3052.6412,-69.7678\"/>\n",
       "</g>\n",
       "<!-- 40 -->\n",
       "<g id=\"node41\" class=\"node\">\n",
       "<title>40</title>\n",
       "<path fill=\"#399de5\" fill-opacity=\"0.713725\" stroke=\"#000000\" d=\"M3234.1936,-64C3234.1936,-64 3114.6501,-64 3114.6501,-64 3108.6501,-64 3102.6501,-58 3102.6501,-52 3102.6501,-52 3102.6501,-12 3102.6501,-12 3102.6501,-6 3108.6501,0 3114.6501,0 3114.6501,0 3234.1936,0 3234.1936,0 3240.1936,0 3246.1936,-6 3246.1936,-12 3246.1936,-12 3246.1936,-52 3246.1936,-52 3246.1936,-58 3240.1936,-64 3234.1936,-64\"/>\n",
       "<text text-anchor=\"start\" x=\"3138.0308\" y=\"-48.8\" font-family=\"Helvetica,sans-Serif\" font-size=\"14.00\" fill=\"#000000\">gini = 0.345</text>\n",
       "<text text-anchor=\"start\" x=\"3124.8066\" y=\"-34.8\" font-family=\"Helvetica,sans-Serif\" font-size=\"14.00\" fill=\"#000000\">samples = 4729</text>\n",
       "<text text-anchor=\"start\" x=\"3110.7861\" y=\"-20.8\" font-family=\"Helvetica,sans-Serif\" font-size=\"14.00\" fill=\"#000000\">value = [1048, 3681]</text>\n",
       "<text text-anchor=\"start\" x=\"3125.9756\" y=\"-6.8\" font-family=\"Helvetica,sans-Serif\" font-size=\"14.00\" fill=\"#000000\">class = delayed</text>\n",
       "</g>\n",
       "<!-- 38&#45;&gt;40 -->\n",
       "<g id=\"edge40\" class=\"edge\">\n",
       "<title>38&#45;&gt;40</title>\n",
       "<path fill=\"none\" stroke=\"#000000\" d=\"M3130.0898,-99.7647C3135.8257,-90.9971 3141.9223,-81.678 3147.6996,-72.8469\"/>\n",
       "<polygon fill=\"#000000\" stroke=\"#000000\" points=\"3150.7997,-74.5013 3153.3454,-64.2169 3144.9419,-70.6691 3150.7997,-74.5013\"/>\n",
       "</g>\n",
       "<!-- 42 -->\n",
       "<g id=\"node43\" class=\"node\">\n",
       "<title>42</title>\n",
       "<path fill=\"#e58139\" fill-opacity=\"0.121569\" stroke=\"#000000\" d=\"M3478.3844,-178C3478.3844,-178 3326.4594,-178 3326.4594,-178 3320.4594,-178 3314.4594,-172 3314.4594,-166 3314.4594,-166 3314.4594,-112 3314.4594,-112 3314.4594,-106 3320.4594,-100 3326.4594,-100 3326.4594,-100 3478.3844,-100 3478.3844,-100 3484.3844,-100 3490.3844,-106 3490.3844,-112 3490.3844,-112 3490.3844,-166 3490.3844,-166 3490.3844,-172 3484.3844,-178 3478.3844,-178\"/>\n",
       "<text text-anchor=\"start\" x=\"3322.6909\" y=\"-162.8\" font-family=\"Helvetica,sans-Serif\" font-size=\"14.00\" fill=\"#000000\">avg_delay_airline ≤ 6.654</text>\n",
       "<text text-anchor=\"start\" x=\"3366.0308\" y=\"-148.8\" font-family=\"Helvetica,sans-Serif\" font-size=\"14.00\" fill=\"#000000\">gini = 0.498</text>\n",
       "<text text-anchor=\"start\" x=\"3348.9136\" y=\"-134.8\" font-family=\"Helvetica,sans-Serif\" font-size=\"14.00\" fill=\"#000000\">samples = 13836</text>\n",
       "<text text-anchor=\"start\" x=\"3338.7861\" y=\"-120.8\" font-family=\"Helvetica,sans-Serif\" font-size=\"14.00\" fill=\"#000000\">value = [7372, 6464]</text>\n",
       "<text text-anchor=\"start\" x=\"3340.3516\" y=\"-106.8\" font-family=\"Helvetica,sans-Serif\" font-size=\"14.00\" fill=\"#000000\">class = not_delayed</text>\n",
       "</g>\n",
       "<!-- 41&#45;&gt;42 -->\n",
       "<g id=\"edge42\" class=\"edge\">\n",
       "<title>41&#45;&gt;42</title>\n",
       "<path fill=\"none\" stroke=\"#000000\" d=\"M3402.4219,-213.7677C3402.4219,-205.6172 3402.4219,-196.9283 3402.4219,-188.4649\"/>\n",
       "<polygon fill=\"#000000\" stroke=\"#000000\" points=\"3405.922,-188.3046 3402.4219,-178.3046 3398.922,-188.3047 3405.922,-188.3046\"/>\n",
       "</g>\n",
       "<!-- 45 -->\n",
       "<g id=\"node46\" class=\"node\">\n",
       "<title>45</title>\n",
       "<path fill=\"#399de5\" fill-opacity=\"0.372549\" stroke=\"#000000\" d=\"M3727.4811,-178C3727.4811,-178 3587.3627,-178 3587.3627,-178 3581.3627,-178 3575.3627,-172 3575.3627,-166 3575.3627,-166 3575.3627,-112 3575.3627,-112 3575.3627,-106 3581.3627,-100 3587.3627,-100 3587.3627,-100 3727.4811,-100 3727.4811,-100 3733.4811,-100 3739.4811,-106 3739.4811,-112 3739.4811,-112 3739.4811,-166 3739.4811,-166 3739.4811,-172 3733.4811,-178 3727.4811,-178\"/>\n",
       "<text text-anchor=\"start\" x=\"3583.1426\" y=\"-162.8\" font-family=\"Helvetica,sans-Serif\" font-size=\"14.00\" fill=\"#000000\">scheduled_time ≤ 193.5</text>\n",
       "<text text-anchor=\"start\" x=\"3621.0308\" y=\"-148.8\" font-family=\"Helvetica,sans-Serif\" font-size=\"14.00\" fill=\"#000000\">gini = 0.474</text>\n",
       "<text text-anchor=\"start\" x=\"3607.8066\" y=\"-134.8\" font-family=\"Helvetica,sans-Serif\" font-size=\"14.00\" fill=\"#000000\">samples = 8873</text>\n",
       "<text text-anchor=\"start\" x=\"3593.7861\" y=\"-120.8\" font-family=\"Helvetica,sans-Serif\" font-size=\"14.00\" fill=\"#000000\">value = [3418, 5455]</text>\n",
       "<text text-anchor=\"start\" x=\"3608.9756\" y=\"-106.8\" font-family=\"Helvetica,sans-Serif\" font-size=\"14.00\" fill=\"#000000\">class = delayed</text>\n",
       "</g>\n",
       "<!-- 41&#45;&gt;45 -->\n",
       "<g id=\"edge45\" class=\"edge\">\n",
       "<title>41&#45;&gt;45</title>\n",
       "<path fill=\"none\" stroke=\"#000000\" d=\"M3482.4058,-217.2425C3508.9136,-205.3919 3538.6189,-192.1119 3565.9245,-179.9047\"/>\n",
       "<polygon fill=\"#000000\" stroke=\"#000000\" points=\"3567.3838,-183.0862 3575.0846,-175.8096 3564.5268,-176.6958 3567.3838,-183.0862\"/>\n",
       "</g>\n",
       "<!-- 43 -->\n",
       "<g id=\"node44\" class=\"node\">\n",
       "<title>43</title>\n",
       "<path fill=\"#e58139\" fill-opacity=\"0.270588\" stroke=\"#000000\" d=\"M3394.6613,-64C3394.6613,-64 3276.1824,-64 3276.1824,-64 3270.1824,-64 3264.1824,-58 3264.1824,-52 3264.1824,-52 3264.1824,-12 3264.1824,-12 3264.1824,-6 3270.1824,0 3276.1824,0 3276.1824,0 3394.6613,0 3394.6613,0 3400.6613,0 3406.6613,-6 3406.6613,-12 3406.6613,-12 3406.6613,-52 3406.6613,-52 3406.6613,-58 3400.6613,-64 3394.6613,-64\"/>\n",
       "<text text-anchor=\"start\" x=\"3299.0308\" y=\"-48.8\" font-family=\"Helvetica,sans-Serif\" font-size=\"14.00\" fill=\"#000000\">gini = 0.488</text>\n",
       "<text text-anchor=\"start\" x=\"3285.8066\" y=\"-34.8\" font-family=\"Helvetica,sans-Serif\" font-size=\"14.00\" fill=\"#000000\">samples = 8793</text>\n",
       "<text text-anchor=\"start\" x=\"3272.3022\" y=\"-20.8\" font-family=\"Helvetica,sans-Serif\" font-size=\"14.00\" fill=\"#000000\">value = [5082, 3711]</text>\n",
       "<text text-anchor=\"start\" x=\"3273.3516\" y=\"-6.8\" font-family=\"Helvetica,sans-Serif\" font-size=\"14.00\" fill=\"#000000\">class = not_delayed</text>\n",
       "</g>\n",
       "<!-- 42&#45;&gt;43 -->\n",
       "<g id=\"edge43\" class=\"edge\">\n",
       "<title>42&#45;&gt;43</title>\n",
       "<path fill=\"none\" stroke=\"#000000\" d=\"M3377.854,-99.7647C3372.364,-90.9971 3366.5286,-81.678 3360.9989,-72.8469\"/>\n",
       "<polygon fill=\"#000000\" stroke=\"#000000\" points=\"3363.8687,-70.8349 3355.5951,-64.2169 3357.9358,-74.5499 3363.8687,-70.8349\"/>\n",
       "</g>\n",
       "<!-- 44 -->\n",
       "<g id=\"node45\" class=\"node\">\n",
       "<title>44</title>\n",
       "<path fill=\"#399de5\" fill-opacity=\"0.168627\" stroke=\"#000000\" d=\"M3556.1936,-64C3556.1936,-64 3436.6501,-64 3436.6501,-64 3430.6501,-64 3424.6501,-58 3424.6501,-52 3424.6501,-52 3424.6501,-12 3424.6501,-12 3424.6501,-6 3430.6501,0 3436.6501,0 3436.6501,0 3556.1936,0 3556.1936,0 3562.1936,0 3568.1936,-6 3568.1936,-12 3568.1936,-12 3568.1936,-52 3568.1936,-52 3568.1936,-58 3562.1936,-64 3556.1936,-64\"/>\n",
       "<text text-anchor=\"start\" x=\"3460.0308\" y=\"-48.8\" font-family=\"Helvetica,sans-Serif\" font-size=\"14.00\" fill=\"#000000\">gini = 0.496</text>\n",
       "<text text-anchor=\"start\" x=\"3446.8066\" y=\"-34.8\" font-family=\"Helvetica,sans-Serif\" font-size=\"14.00\" fill=\"#000000\">samples = 5043</text>\n",
       "<text text-anchor=\"start\" x=\"3432.7861\" y=\"-20.8\" font-family=\"Helvetica,sans-Serif\" font-size=\"14.00\" fill=\"#000000\">value = [2290, 2753]</text>\n",
       "<text text-anchor=\"start\" x=\"3447.9756\" y=\"-6.8\" font-family=\"Helvetica,sans-Serif\" font-size=\"14.00\" fill=\"#000000\">class = delayed</text>\n",
       "</g>\n",
       "<!-- 42&#45;&gt;44 -->\n",
       "<g id=\"edge44\" class=\"edge\">\n",
       "<title>42&#45;&gt;44</title>\n",
       "<path fill=\"none\" stroke=\"#000000\" d=\"M3436.8902,-99.7647C3444.9136,-90.6317 3453.4626,-80.9004 3461.5052,-71.7456\"/>\n",
       "<polygon fill=\"#000000\" stroke=\"#000000\" points=\"3464.1487,-74.0396 3468.1192,-64.2169 3458.8898,-69.4196 3464.1487,-74.0396\"/>\n",
       "</g>\n",
       "<!-- 46 -->\n",
       "<g id=\"node47\" class=\"node\">\n",
       "<title>46</title>\n",
       "<path fill=\"#399de5\" fill-opacity=\"0.498039\" stroke=\"#000000\" d=\"M3717.1936,-64C3717.1936,-64 3597.6501,-64 3597.6501,-64 3591.6501,-64 3585.6501,-58 3585.6501,-52 3585.6501,-52 3585.6501,-12 3585.6501,-12 3585.6501,-6 3591.6501,0 3597.6501,0 3597.6501,0 3717.1936,0 3717.1936,0 3723.1936,0 3729.1936,-6 3729.1936,-12 3729.1936,-12 3729.1936,-52 3729.1936,-52 3729.1936,-58 3723.1936,-64 3717.1936,-64\"/>\n",
       "<text text-anchor=\"start\" x=\"3621.0308\" y=\"-48.8\" font-family=\"Helvetica,sans-Serif\" font-size=\"14.00\" fill=\"#000000\">gini = 0.445</text>\n",
       "<text text-anchor=\"start\" x=\"3607.8066\" y=\"-34.8\" font-family=\"Helvetica,sans-Serif\" font-size=\"14.00\" fill=\"#000000\">samples = 5853</text>\n",
       "<text text-anchor=\"start\" x=\"3593.7861\" y=\"-20.8\" font-family=\"Helvetica,sans-Serif\" font-size=\"14.00\" fill=\"#000000\">value = [1955, 3898]</text>\n",
       "<text text-anchor=\"start\" x=\"3608.9756\" y=\"-6.8\" font-family=\"Helvetica,sans-Serif\" font-size=\"14.00\" fill=\"#000000\">class = delayed</text>\n",
       "</g>\n",
       "<!-- 45&#45;&gt;46 -->\n",
       "<g id=\"edge46\" class=\"edge\">\n",
       "<title>45&#45;&gt;46</title>\n",
       "<path fill=\"none\" stroke=\"#000000\" d=\"M3657.4219,-99.7647C3657.4219,-91.4537 3657.4219,-82.6472 3657.4219,-74.2305\"/>\n",
       "<polygon fill=\"#000000\" stroke=\"#000000\" points=\"3660.922,-74.2168 3657.4219,-64.2169 3653.922,-74.2169 3660.922,-74.2168\"/>\n",
       "</g>\n",
       "<!-- 47 -->\n",
       "<g id=\"node48\" class=\"node\">\n",
       "<title>47</title>\n",
       "<path fill=\"#399de5\" fill-opacity=\"0.058824\" stroke=\"#000000\" d=\"M3878.1936,-64C3878.1936,-64 3758.6501,-64 3758.6501,-64 3752.6501,-64 3746.6501,-58 3746.6501,-52 3746.6501,-52 3746.6501,-12 3746.6501,-12 3746.6501,-6 3752.6501,0 3758.6501,0 3758.6501,0 3878.1936,0 3878.1936,0 3884.1936,0 3890.1936,-6 3890.1936,-12 3890.1936,-12 3890.1936,-52 3890.1936,-52 3890.1936,-58 3884.1936,-64 3878.1936,-64\"/>\n",
       "<text text-anchor=\"start\" x=\"3789.8169\" y=\"-48.8\" font-family=\"Helvetica,sans-Serif\" font-size=\"14.00\" fill=\"#000000\">gini = 0.5</text>\n",
       "<text text-anchor=\"start\" x=\"3768.8066\" y=\"-34.8\" font-family=\"Helvetica,sans-Serif\" font-size=\"14.00\" fill=\"#000000\">samples = 3020</text>\n",
       "<text text-anchor=\"start\" x=\"3754.7861\" y=\"-20.8\" font-family=\"Helvetica,sans-Serif\" font-size=\"14.00\" fill=\"#000000\">value = [1463, 1557]</text>\n",
       "<text text-anchor=\"start\" x=\"3769.9756\" y=\"-6.8\" font-family=\"Helvetica,sans-Serif\" font-size=\"14.00\" fill=\"#000000\">class = delayed</text>\n",
       "</g>\n",
       "<!-- 45&#45;&gt;47 -->\n",
       "<g id=\"edge47\" class=\"edge\">\n",
       "<title>45&#45;&gt;47</title>\n",
       "<path fill=\"none\" stroke=\"#000000\" d=\"M3716.4581,-99.7647C3731.2373,-89.9426 3747.0577,-79.4284 3761.7206,-69.6835\"/>\n",
       "<polygon fill=\"#000000\" stroke=\"#000000\" points=\"3763.8123,-72.4958 3770.2035,-64.0458 3759.9377,-66.6659 3763.8123,-72.4958\"/>\n",
       "</g>\n",
       "<!-- 49 -->\n",
       "<g id=\"node50\" class=\"node\">\n",
       "<title>49</title>\n",
       "<path fill=\"#399de5\" fill-opacity=\"0.811765\" stroke=\"#000000\" d=\"M4277.4811,-292C4277.4811,-292 4137.3627,-292 4137.3627,-292 4131.3627,-292 4125.3627,-286 4125.3627,-280 4125.3627,-280 4125.3627,-226 4125.3627,-226 4125.3627,-220 4131.3627,-214 4137.3627,-214 4137.3627,-214 4277.4811,-214 4277.4811,-214 4283.4811,-214 4289.4811,-220 4289.4811,-226 4289.4811,-226 4289.4811,-280 4289.4811,-280 4289.4811,-286 4283.4811,-292 4277.4811,-292\"/>\n",
       "<text text-anchor=\"start\" x=\"4133.1426\" y=\"-276.8\" font-family=\"Helvetica,sans-Serif\" font-size=\"14.00\" fill=\"#000000\">scheduled_time ≤ 164.5</text>\n",
       "<text text-anchor=\"start\" x=\"4171.0308\" y=\"-262.8\" font-family=\"Helvetica,sans-Serif\" font-size=\"14.00\" fill=\"#000000\">gini = 0.267</text>\n",
       "<text text-anchor=\"start\" x=\"4153.9136\" y=\"-248.8\" font-family=\"Helvetica,sans-Serif\" font-size=\"14.00\" fill=\"#000000\">samples = 20499</text>\n",
       "<text text-anchor=\"start\" x=\"4139.8931\" y=\"-234.8\" font-family=\"Helvetica,sans-Serif\" font-size=\"14.00\" fill=\"#000000\">value = [3253, 17246]</text>\n",
       "<text text-anchor=\"start\" x=\"4158.9756\" y=\"-220.8\" font-family=\"Helvetica,sans-Serif\" font-size=\"14.00\" fill=\"#000000\">class = delayed</text>\n",
       "</g>\n",
       "<!-- 48&#45;&gt;49 -->\n",
       "<g id=\"edge49\" class=\"edge\">\n",
       "<title>48&#45;&gt;49</title>\n",
       "<path fill=\"none\" stroke=\"#000000\" d=\"M4207.4219,-327.7677C4207.4219,-319.6172 4207.4219,-310.9283 4207.4219,-302.4649\"/>\n",
       "<polygon fill=\"#000000\" stroke=\"#000000\" points=\"4210.922,-302.3046 4207.4219,-292.3046 4203.922,-302.3047 4210.922,-302.3046\"/>\n",
       "</g>\n",
       "<!-- 56 -->\n",
       "<g id=\"node57\" class=\"node\">\n",
       "<title>56</title>\n",
       "<path fill=\"#399de5\" fill-opacity=\"0.976471\" stroke=\"#000000\" d=\"M4739.4811,-292C4739.4811,-292 4599.3627,-292 4599.3627,-292 4593.3627,-292 4587.3627,-286 4587.3627,-280 4587.3627,-280 4587.3627,-226 4587.3627,-226 4587.3627,-220 4593.3627,-214 4599.3627,-214 4599.3627,-214 4739.4811,-214 4739.4811,-214 4745.4811,-214 4751.4811,-220 4751.4811,-226 4751.4811,-226 4751.4811,-280 4751.4811,-280 4751.4811,-286 4745.4811,-292 4739.4811,-292\"/>\n",
       "<text text-anchor=\"start\" x=\"4595.1426\" y=\"-276.8\" font-family=\"Helvetica,sans-Serif\" font-size=\"14.00\" fill=\"#000000\">scheduled_time ≤ 240.5</text>\n",
       "<text text-anchor=\"start\" x=\"4633.0308\" y=\"-262.8\" font-family=\"Helvetica,sans-Serif\" font-size=\"14.00\" fill=\"#000000\">gini = 0.047</text>\n",
       "<text text-anchor=\"start\" x=\"4615.9136\" y=\"-248.8\" font-family=\"Helvetica,sans-Serif\" font-size=\"14.00\" fill=\"#000000\">samples = 97392</text>\n",
       "<text text-anchor=\"start\" x=\"4601.8931\" y=\"-234.8\" font-family=\"Helvetica,sans-Serif\" font-size=\"14.00\" fill=\"#000000\">value = [2343, 95049]</text>\n",
       "<text text-anchor=\"start\" x=\"4620.9756\" y=\"-220.8\" font-family=\"Helvetica,sans-Serif\" font-size=\"14.00\" fill=\"#000000\">class = delayed</text>\n",
       "</g>\n",
       "<!-- 48&#45;&gt;56 -->\n",
       "<g id=\"edge56\" class=\"edge\">\n",
       "<title>48&#45;&gt;56</title>\n",
       "<path fill=\"none\" stroke=\"#000000\" d=\"M4287.3687,-347.2729C4368.1073,-327.3504 4492.6866,-296.61 4577.4683,-275.6898\"/>\n",
       "<polygon fill=\"#000000\" stroke=\"#000000\" points=\"4578.4762,-279.0462 4587.3465,-273.2524 4576.7992,-272.25 4578.4762,-279.0462\"/>\n",
       "</g>\n",
       "<!-- 50 -->\n",
       "<g id=\"node51\" class=\"node\">\n",
       "<title>50</title>\n",
       "<path fill=\"#399de5\" fill-opacity=\"0.901961\" stroke=\"#000000\" d=\"M4185.4811,-178C4185.4811,-178 4045.3627,-178 4045.3627,-178 4039.3627,-178 4033.3627,-172 4033.3627,-166 4033.3627,-166 4033.3627,-112 4033.3627,-112 4033.3627,-106 4039.3627,-100 4045.3627,-100 4045.3627,-100 4185.4811,-100 4185.4811,-100 4191.4811,-100 4197.4811,-106 4197.4811,-112 4197.4811,-112 4197.4811,-166 4197.4811,-166 4197.4811,-172 4191.4811,-178 4185.4811,-178\"/>\n",
       "<text text-anchor=\"start\" x=\"4041.1426\" y=\"-162.8\" font-family=\"Helvetica,sans-Serif\" font-size=\"14.00\" fill=\"#000000\">scheduled_time ≤ 106.5</text>\n",
       "<text text-anchor=\"start\" x=\"4079.0308\" y=\"-148.8\" font-family=\"Helvetica,sans-Serif\" font-size=\"14.00\" fill=\"#000000\">gini = 0.165</text>\n",
       "<text text-anchor=\"start\" x=\"4061.9136\" y=\"-134.8\" font-family=\"Helvetica,sans-Serif\" font-size=\"14.00\" fill=\"#000000\">samples = 14145</text>\n",
       "<text text-anchor=\"start\" x=\"4047.8931\" y=\"-120.8\" font-family=\"Helvetica,sans-Serif\" font-size=\"14.00\" fill=\"#000000\">value = [1282, 12863]</text>\n",
       "<text text-anchor=\"start\" x=\"4066.9756\" y=\"-106.8\" font-family=\"Helvetica,sans-Serif\" font-size=\"14.00\" fill=\"#000000\">class = delayed</text>\n",
       "</g>\n",
       "<!-- 49&#45;&gt;50 -->\n",
       "<g id=\"edge50\" class=\"edge\">\n",
       "<title>49&#45;&gt;50</title>\n",
       "<path fill=\"none\" stroke=\"#000000\" d=\"M4175.7607,-213.7677C4168.6049,-204.9007 4160.9347,-195.3964 4153.5442,-186.2385\"/>\n",
       "<polygon fill=\"#000000\" stroke=\"#000000\" points=\"4156.1453,-183.8886 4147.1414,-178.3046 4150.6979,-188.2847 4156.1453,-183.8886\"/>\n",
       "</g>\n",
       "<!-- 53 -->\n",
       "<g id=\"node54\" class=\"node\">\n",
       "<title>53</title>\n",
       "<path fill=\"#399de5\" fill-opacity=\"0.549020\" stroke=\"#000000\" d=\"M4368.4811,-178C4368.4811,-178 4228.3627,-178 4228.3627,-178 4222.3627,-178 4216.3627,-172 4216.3627,-166 4216.3627,-166 4216.3627,-112 4216.3627,-112 4216.3627,-106 4222.3627,-100 4228.3627,-100 4228.3627,-100 4368.4811,-100 4368.4811,-100 4374.4811,-100 4380.4811,-106 4380.4811,-112 4380.4811,-112 4380.4811,-166 4380.4811,-166 4380.4811,-172 4374.4811,-178 4368.4811,-178\"/>\n",
       "<text text-anchor=\"start\" x=\"4224.1426\" y=\"-162.8\" font-family=\"Helvetica,sans-Serif\" font-size=\"14.00\" fill=\"#000000\">scheduled_time ≤ 252.5</text>\n",
       "<text text-anchor=\"start\" x=\"4262.0308\" y=\"-148.8\" font-family=\"Helvetica,sans-Serif\" font-size=\"14.00\" fill=\"#000000\">gini = 0.428</text>\n",
       "<text text-anchor=\"start\" x=\"4248.8066\" y=\"-134.8\" font-family=\"Helvetica,sans-Serif\" font-size=\"14.00\" fill=\"#000000\">samples = 6354</text>\n",
       "<text text-anchor=\"start\" x=\"4234.7861\" y=\"-120.8\" font-family=\"Helvetica,sans-Serif\" font-size=\"14.00\" fill=\"#000000\">value = [1971, 4383]</text>\n",
       "<text text-anchor=\"start\" x=\"4249.9756\" y=\"-106.8\" font-family=\"Helvetica,sans-Serif\" font-size=\"14.00\" fill=\"#000000\">class = delayed</text>\n",
       "</g>\n",
       "<!-- 49&#45;&gt;53 -->\n",
       "<g id=\"edge53\" class=\"edge\">\n",
       "<title>49&#45;&gt;53</title>\n",
       "<path fill=\"none\" stroke=\"#000000\" d=\"M4238.7389,-213.7677C4245.8169,-204.9007 4253.4037,-195.3964 4260.7139,-186.2385\"/>\n",
       "<polygon fill=\"#000000\" stroke=\"#000000\" points=\"4263.5439,-188.3036 4267.0471,-178.3046 4258.0731,-183.9365 4263.5439,-188.3036\"/>\n",
       "</g>\n",
       "<!-- 51 -->\n",
       "<g id=\"node52\" class=\"node\">\n",
       "<title>51</title>\n",
       "<path fill=\"#399de5\" fill-opacity=\"0.952941\" stroke=\"#000000\" d=\"M4031.4081,-64C4031.4081,-64 3919.4357,-64 3919.4357,-64 3913.4357,-64 3907.4357,-58 3907.4357,-52 3907.4357,-52 3907.4357,-12 3907.4357,-12 3907.4357,-6 3913.4357,0 3919.4357,0 3919.4357,0 4031.4081,0 4031.4081,0 4037.4081,0 4043.4081,-6 4043.4081,-12 4043.4081,-12 4043.4081,-52 4043.4081,-52 4043.4081,-58 4037.4081,-64 4031.4081,-64\"/>\n",
       "<text text-anchor=\"start\" x=\"3939.0308\" y=\"-48.8\" font-family=\"Helvetica,sans-Serif\" font-size=\"14.00\" fill=\"#000000\">gini = 0.086</text>\n",
       "<text text-anchor=\"start\" x=\"3925.8066\" y=\"-34.8\" font-family=\"Helvetica,sans-Serif\" font-size=\"14.00\" fill=\"#000000\">samples = 7739</text>\n",
       "<text text-anchor=\"start\" x=\"3915.6792\" y=\"-20.8\" font-family=\"Helvetica,sans-Serif\" font-size=\"14.00\" fill=\"#000000\">value = [350, 7389]</text>\n",
       "<text text-anchor=\"start\" x=\"3926.9756\" y=\"-6.8\" font-family=\"Helvetica,sans-Serif\" font-size=\"14.00\" fill=\"#000000\">class = delayed</text>\n",
       "</g>\n",
       "<!-- 50&#45;&gt;51 -->\n",
       "<g id=\"edge51\" class=\"edge\">\n",
       "<title>50&#45;&gt;51</title>\n",
       "<path fill=\"none\" stroke=\"#000000\" d=\"M4064.086,-99.7647C4051.5388,-90.1751 4038.1285,-79.9258 4025.6345,-70.3768\"/>\n",
       "<polygon fill=\"#000000\" stroke=\"#000000\" points=\"4027.6454,-67.5085 4017.5748,-64.2169 4023.3947,-73.0701 4027.6454,-67.5085\"/>\n",
       "</g>\n",
       "<!-- 52 -->\n",
       "<g id=\"node53\" class=\"node\">\n",
       "<title>52</title>\n",
       "<path fill=\"#399de5\" fill-opacity=\"0.831373\" stroke=\"#000000\" d=\"M4184.4081,-64C4184.4081,-64 4072.4357,-64 4072.4357,-64 4066.4357,-64 4060.4357,-58 4060.4357,-52 4060.4357,-52 4060.4357,-12 4060.4357,-12 4060.4357,-6 4066.4357,0 4072.4357,0 4072.4357,0 4184.4081,0 4184.4081,0 4190.4081,0 4196.4081,-6 4196.4081,-12 4196.4081,-12 4196.4081,-52 4196.4081,-52 4196.4081,-58 4190.4081,-64 4184.4081,-64\"/>\n",
       "<text text-anchor=\"start\" x=\"4092.0308\" y=\"-48.8\" font-family=\"Helvetica,sans-Serif\" font-size=\"14.00\" fill=\"#000000\">gini = 0.249</text>\n",
       "<text text-anchor=\"start\" x=\"4078.8066\" y=\"-34.8\" font-family=\"Helvetica,sans-Serif\" font-size=\"14.00\" fill=\"#000000\">samples = 6406</text>\n",
       "<text text-anchor=\"start\" x=\"4068.6792\" y=\"-20.8\" font-family=\"Helvetica,sans-Serif\" font-size=\"14.00\" fill=\"#000000\">value = [932, 5474]</text>\n",
       "<text text-anchor=\"start\" x=\"4079.9756\" y=\"-6.8\" font-family=\"Helvetica,sans-Serif\" font-size=\"14.00\" fill=\"#000000\">class = delayed</text>\n",
       "</g>\n",
       "<!-- 50&#45;&gt;52 -->\n",
       "<g id=\"edge52\" class=\"edge\">\n",
       "<title>50&#45;&gt;52</title>\n",
       "<path fill=\"none\" stroke=\"#000000\" d=\"M4120.1888,-99.7647C4121.1985,-91.4537 4122.2685,-82.6472 4123.2911,-74.2305\"/>\n",
       "<polygon fill=\"#000000\" stroke=\"#000000\" points=\"4126.776,-74.566 4124.5077,-64.2169 4119.8271,-73.7217 4126.776,-74.566\"/>\n",
       "</g>\n",
       "<!-- 54 -->\n",
       "<g id=\"node55\" class=\"node\">\n",
       "<title>54</title>\n",
       "<path fill=\"#399de5\" fill-opacity=\"0.619608\" stroke=\"#000000\" d=\"M4345.1936,-64C4345.1936,-64 4225.6501,-64 4225.6501,-64 4219.6501,-64 4213.6501,-58 4213.6501,-52 4213.6501,-52 4213.6501,-12 4213.6501,-12 4213.6501,-6 4219.6501,0 4225.6501,0 4225.6501,0 4345.1936,0 4345.1936,0 4351.1936,0 4357.1936,-6 4357.1936,-12 4357.1936,-12 4357.1936,-52 4357.1936,-52 4357.1936,-58 4351.1936,-64 4345.1936,-64\"/>\n",
       "<text text-anchor=\"start\" x=\"4249.0308\" y=\"-48.8\" font-family=\"Helvetica,sans-Serif\" font-size=\"14.00\" fill=\"#000000\">gini = 0.399</text>\n",
       "<text text-anchor=\"start\" x=\"4235.8066\" y=\"-34.8\" font-family=\"Helvetica,sans-Serif\" font-size=\"14.00\" fill=\"#000000\">samples = 4452</text>\n",
       "<text text-anchor=\"start\" x=\"4221.7861\" y=\"-20.8\" font-family=\"Helvetica,sans-Serif\" font-size=\"14.00\" fill=\"#000000\">value = [1224, 3228]</text>\n",
       "<text text-anchor=\"start\" x=\"4236.9756\" y=\"-6.8\" font-family=\"Helvetica,sans-Serif\" font-size=\"14.00\" fill=\"#000000\">class = delayed</text>\n",
       "</g>\n",
       "<!-- 53&#45;&gt;54 -->\n",
       "<g id=\"edge54\" class=\"edge\">\n",
       "<title>53&#45;&gt;54</title>\n",
       "<path fill=\"none\" stroke=\"#000000\" d=\"M4293.655,-99.7647C4292.6452,-91.4537 4291.5753,-82.6472 4290.5527,-74.2305\"/>\n",
       "<polygon fill=\"#000000\" stroke=\"#000000\" points=\"4294.0167,-73.7217 4289.3361,-64.2169 4287.0678,-74.566 4294.0167,-73.7217\"/>\n",
       "</g>\n",
       "<!-- 55 -->\n",
       "<g id=\"node56\" class=\"node\">\n",
       "<title>55</title>\n",
       "<path fill=\"#399de5\" fill-opacity=\"0.352941\" stroke=\"#000000\" d=\"M4497.8758,-64C4497.8758,-64 4386.968,-64 4386.968,-64 4380.968,-64 4374.968,-58 4374.968,-52 4374.968,-52 4374.968,-12 4374.968,-12 4374.968,-6 4380.968,0 4386.968,0 4386.968,0 4497.8758,0 4497.8758,0 4503.8758,0 4509.8758,-6 4509.8758,-12 4509.8758,-12 4509.8758,-52 4509.8758,-52 4509.8758,-58 4503.8758,-64 4497.8758,-64\"/>\n",
       "<text text-anchor=\"start\" x=\"4406.0308\" y=\"-48.8\" font-family=\"Helvetica,sans-Serif\" font-size=\"14.00\" fill=\"#000000\">gini = 0.477</text>\n",
       "<text text-anchor=\"start\" x=\"4392.8066\" y=\"-34.8\" font-family=\"Helvetica,sans-Serif\" font-size=\"14.00\" fill=\"#000000\">samples = 1902</text>\n",
       "<text text-anchor=\"start\" x=\"4383.1953\" y=\"-20.8\" font-family=\"Helvetica,sans-Serif\" font-size=\"14.00\" fill=\"#000000\">value = [747, 1155]</text>\n",
       "<text text-anchor=\"start\" x=\"4393.9756\" y=\"-6.8\" font-family=\"Helvetica,sans-Serif\" font-size=\"14.00\" fill=\"#000000\">class = delayed</text>\n",
       "</g>\n",
       "<!-- 53&#45;&gt;55 -->\n",
       "<g id=\"edge55\" class=\"edge\">\n",
       "<title>53&#45;&gt;55</title>\n",
       "<path fill=\"none\" stroke=\"#000000\" d=\"M4351.2245,-99.7647C4364.1302,-90.1751 4377.9236,-79.9258 4390.7746,-70.3768\"/>\n",
       "<polygon fill=\"#000000\" stroke=\"#000000\" points=\"4393.1254,-72.9905 4399.0646,-64.2169 4388.9504,-67.3718 4393.1254,-72.9905\"/>\n",
       "</g>\n",
       "<!-- 57 -->\n",
       "<g id=\"node58\" class=\"node\">\n",
       "<title>57</title>\n",
       "<path fill=\"#399de5\" fill-opacity=\"0.984314\" stroke=\"#000000\" d=\"M4737.3184,-178C4737.3184,-178 4601.5254,-178 4601.5254,-178 4595.5254,-178 4589.5254,-172 4589.5254,-166 4589.5254,-166 4589.5254,-112 4589.5254,-112 4589.5254,-106 4595.5254,-100 4601.5254,-100 4601.5254,-100 4737.3184,-100 4737.3184,-100 4743.3184,-100 4749.3184,-106 4749.3184,-112 4749.3184,-112 4749.3184,-166 4749.3184,-166 4749.3184,-172 4743.3184,-178 4737.3184,-178\"/>\n",
       "<text text-anchor=\"start\" x=\"4597.4736\" y=\"-162.8\" font-family=\"Helvetica,sans-Serif\" font-size=\"14.00\" fill=\"#000000\">departure_delay ≤ 42.5</text>\n",
       "<text text-anchor=\"start\" x=\"4633.0308\" y=\"-148.8\" font-family=\"Helvetica,sans-Serif\" font-size=\"14.00\" fill=\"#000000\">gini = 0.033</text>\n",
       "<text text-anchor=\"start\" x=\"4615.9136\" y=\"-134.8\" font-family=\"Helvetica,sans-Serif\" font-size=\"14.00\" fill=\"#000000\">samples = 86740</text>\n",
       "<text text-anchor=\"start\" x=\"4601.8931\" y=\"-120.8\" font-family=\"Helvetica,sans-Serif\" font-size=\"14.00\" fill=\"#000000\">value = [1442, 85298]</text>\n",
       "<text text-anchor=\"start\" x=\"4620.9756\" y=\"-106.8\" font-family=\"Helvetica,sans-Serif\" font-size=\"14.00\" fill=\"#000000\">class = delayed</text>\n",
       "</g>\n",
       "<!-- 56&#45;&gt;57 -->\n",
       "<g id=\"edge57\" class=\"edge\">\n",
       "<title>56&#45;&gt;57</title>\n",
       "<path fill=\"none\" stroke=\"#000000\" d=\"M4669.4219,-213.7677C4669.4219,-205.6172 4669.4219,-196.9283 4669.4219,-188.4649\"/>\n",
       "<polygon fill=\"#000000\" stroke=\"#000000\" points=\"4672.922,-188.3046 4669.4219,-178.3046 4665.922,-188.3047 4672.922,-188.3046\"/>\n",
       "</g>\n",
       "<!-- 60 -->\n",
       "<g id=\"node61\" class=\"node\">\n",
       "<title>60</title>\n",
       "<path fill=\"#399de5\" fill-opacity=\"0.905882\" stroke=\"#000000\" d=\"M4985.3184,-178C4985.3184,-178 4849.5254,-178 4849.5254,-178 4843.5254,-178 4837.5254,-172 4837.5254,-166 4837.5254,-166 4837.5254,-112 4837.5254,-112 4837.5254,-106 4843.5254,-100 4849.5254,-100 4849.5254,-100 4985.3184,-100 4985.3184,-100 4991.3184,-100 4997.3184,-106 4997.3184,-112 4997.3184,-112 4997.3184,-166 4997.3184,-166 4997.3184,-172 4991.3184,-178 4985.3184,-178\"/>\n",
       "<text text-anchor=\"start\" x=\"4845.4736\" y=\"-162.8\" font-family=\"Helvetica,sans-Serif\" font-size=\"14.00\" fill=\"#000000\">departure_delay ≤ 47.5</text>\n",
       "<text text-anchor=\"start\" x=\"4881.0308\" y=\"-148.8\" font-family=\"Helvetica,sans-Serif\" font-size=\"14.00\" fill=\"#000000\">gini = 0.155</text>\n",
       "<text text-anchor=\"start\" x=\"4863.9136\" y=\"-134.8\" font-family=\"Helvetica,sans-Serif\" font-size=\"14.00\" fill=\"#000000\">samples = 10652</text>\n",
       "<text text-anchor=\"start\" x=\"4857.6792\" y=\"-120.8\" font-family=\"Helvetica,sans-Serif\" font-size=\"14.00\" fill=\"#000000\">value = [901, 9751]</text>\n",
       "<text text-anchor=\"start\" x=\"4868.9756\" y=\"-106.8\" font-family=\"Helvetica,sans-Serif\" font-size=\"14.00\" fill=\"#000000\">class = delayed</text>\n",
       "</g>\n",
       "<!-- 56&#45;&gt;60 -->\n",
       "<g id=\"edge60\" class=\"edge\">\n",
       "<title>56&#45;&gt;60</title>\n",
       "<path fill=\"none\" stroke=\"#000000\" d=\"M4751.6578,-215.198C4776.2706,-203.884 4803.369,-191.4275 4828.3971,-179.9227\"/>\n",
       "<polygon fill=\"#000000\" stroke=\"#000000\" points=\"4829.8917,-183.0878 4837.5159,-175.731 4826.968,-176.7276 4829.8917,-183.0878\"/>\n",
       "</g>\n",
       "<!-- 58 -->\n",
       "<g id=\"node59\" class=\"node\">\n",
       "<title>58</title>\n",
       "<path fill=\"#399de5\" fill-opacity=\"0.952941\" stroke=\"#000000\" d=\"M4659.1936,-64C4659.1936,-64 4539.6501,-64 4539.6501,-64 4533.6501,-64 4527.6501,-58 4527.6501,-52 4527.6501,-52 4527.6501,-12 4527.6501,-12 4527.6501,-6 4533.6501,0 4539.6501,0 4539.6501,0 4659.1936,0 4659.1936,0 4665.1936,0 4671.1936,-6 4671.1936,-12 4671.1936,-12 4671.1936,-52 4671.1936,-52 4671.1936,-58 4665.1936,-64 4659.1936,-64\"/>\n",
       "<text text-anchor=\"start\" x=\"4563.0308\" y=\"-48.8\" font-family=\"Helvetica,sans-Serif\" font-size=\"14.00\" fill=\"#000000\">gini = 0.086</text>\n",
       "<text text-anchor=\"start\" x=\"4545.9136\" y=\"-34.8\" font-family=\"Helvetica,sans-Serif\" font-size=\"14.00\" fill=\"#000000\">samples = 13825</text>\n",
       "<text text-anchor=\"start\" x=\"4535.7861\" y=\"-20.8\" font-family=\"Helvetica,sans-Serif\" font-size=\"14.00\" fill=\"#000000\">value = [624, 13201]</text>\n",
       "<text text-anchor=\"start\" x=\"4550.9756\" y=\"-6.8\" font-family=\"Helvetica,sans-Serif\" font-size=\"14.00\" fill=\"#000000\">class = delayed</text>\n",
       "</g>\n",
       "<!-- 57&#45;&gt;58 -->\n",
       "<g id=\"edge58\" class=\"edge\">\n",
       "<title>57&#45;&gt;58</title>\n",
       "<path fill=\"none\" stroke=\"#000000\" d=\"M4643.7539,-99.7647C4638.0181,-90.9971 4631.9215,-81.678 4626.1441,-72.8469\"/>\n",
       "<polygon fill=\"#000000\" stroke=\"#000000\" points=\"4628.9019,-70.6691 4620.4983,-64.2169 4623.0441,-74.5013 4628.9019,-70.6691\"/>\n",
       "</g>\n",
       "<!-- 59 -->\n",
       "<g id=\"node60\" class=\"node\">\n",
       "<title>59</title>\n",
       "<path fill=\"#399de5\" fill-opacity=\"0.988235\" stroke=\"#000000\" d=\"M4820.1936,-64C4820.1936,-64 4700.6501,-64 4700.6501,-64 4694.6501,-64 4688.6501,-58 4688.6501,-52 4688.6501,-52 4688.6501,-12 4688.6501,-12 4688.6501,-6 4694.6501,0 4700.6501,0 4700.6501,0 4820.1936,0 4820.1936,0 4826.1936,0 4832.1936,-6 4832.1936,-12 4832.1936,-12 4832.1936,-52 4832.1936,-52 4832.1936,-58 4826.1936,-64 4820.1936,-64\"/>\n",
       "<text text-anchor=\"start\" x=\"4724.0308\" y=\"-48.8\" font-family=\"Helvetica,sans-Serif\" font-size=\"14.00\" fill=\"#000000\">gini = 0.022</text>\n",
       "<text text-anchor=\"start\" x=\"4706.9136\" y=\"-34.8\" font-family=\"Helvetica,sans-Serif\" font-size=\"14.00\" fill=\"#000000\">samples = 72915</text>\n",
       "<text text-anchor=\"start\" x=\"4696.7861\" y=\"-20.8\" font-family=\"Helvetica,sans-Serif\" font-size=\"14.00\" fill=\"#000000\">value = [818, 72097]</text>\n",
       "<text text-anchor=\"start\" x=\"4711.9756\" y=\"-6.8\" font-family=\"Helvetica,sans-Serif\" font-size=\"14.00\" fill=\"#000000\">class = delayed</text>\n",
       "</g>\n",
       "<!-- 57&#45;&gt;59 -->\n",
       "<g id=\"edge59\" class=\"edge\">\n",
       "<title>57&#45;&gt;59</title>\n",
       "<path fill=\"none\" stroke=\"#000000\" d=\"M4702.7902,-99.7647C4710.4798,-90.7231 4718.6682,-81.095 4726.3858,-72.0204\"/>\n",
       "<polygon fill=\"#000000\" stroke=\"#000000\" points=\"4729.2101,-74.102 4733.0225,-64.2169 4723.8777,-69.567 4729.2101,-74.102\"/>\n",
       "</g>\n",
       "<!-- 61 -->\n",
       "<g id=\"node62\" class=\"node\">\n",
       "<title>61</title>\n",
       "<path fill=\"#399de5\" fill-opacity=\"0.701961\" stroke=\"#000000\" d=\"M4973.4081,-64C4973.4081,-64 4861.4357,-64 4861.4357,-64 4855.4357,-64 4849.4357,-58 4849.4357,-52 4849.4357,-52 4849.4357,-12 4849.4357,-12 4849.4357,-6 4855.4357,0 4861.4357,0 4861.4357,0 4973.4081,0 4973.4081,0 4979.4081,0 4985.4081,-6 4985.4081,-12 4985.4081,-12 4985.4081,-52 4985.4081,-52 4985.4081,-58 4979.4081,-64 4973.4081,-64\"/>\n",
       "<text text-anchor=\"start\" x=\"4881.0308\" y=\"-48.8\" font-family=\"Helvetica,sans-Serif\" font-size=\"14.00\" fill=\"#000000\">gini = 0.353</text>\n",
       "<text text-anchor=\"start\" x=\"4867.8066\" y=\"-34.8\" font-family=\"Helvetica,sans-Serif\" font-size=\"14.00\" fill=\"#000000\">samples = 2649</text>\n",
       "<text text-anchor=\"start\" x=\"4857.6792\" y=\"-20.8\" font-family=\"Helvetica,sans-Serif\" font-size=\"14.00\" fill=\"#000000\">value = [606, 2043]</text>\n",
       "<text text-anchor=\"start\" x=\"4868.9756\" y=\"-6.8\" font-family=\"Helvetica,sans-Serif\" font-size=\"14.00\" fill=\"#000000\">class = delayed</text>\n",
       "</g>\n",
       "<!-- 60&#45;&gt;61 -->\n",
       "<g id=\"edge61\" class=\"edge\">\n",
       "<title>60&#45;&gt;61</title>\n",
       "<path fill=\"none\" stroke=\"#000000\" d=\"M4917.4219,-99.7647C4917.4219,-91.4537 4917.4219,-82.6472 4917.4219,-74.2305\"/>\n",
       "<polygon fill=\"#000000\" stroke=\"#000000\" points=\"4920.922,-74.2168 4917.4219,-64.2169 4913.922,-74.2169 4920.922,-74.2168\"/>\n",
       "</g>\n",
       "<!-- 62 -->\n",
       "<g id=\"node63\" class=\"node\">\n",
       "<title>62</title>\n",
       "<path fill=\"#399de5\" fill-opacity=\"0.960784\" stroke=\"#000000\" d=\"M5126.4081,-64C5126.4081,-64 5014.4357,-64 5014.4357,-64 5008.4357,-64 5002.4357,-58 5002.4357,-52 5002.4357,-52 5002.4357,-12 5002.4357,-12 5002.4357,-6 5008.4357,0 5014.4357,0 5014.4357,0 5126.4081,0 5126.4081,0 5132.4081,0 5138.4081,-6 5138.4081,-12 5138.4081,-12 5138.4081,-52 5138.4081,-52 5138.4081,-58 5132.4081,-64 5126.4081,-64\"/>\n",
       "<text text-anchor=\"start\" x=\"5034.0308\" y=\"-48.8\" font-family=\"Helvetica,sans-Serif\" font-size=\"14.00\" fill=\"#000000\">gini = 0.071</text>\n",
       "<text text-anchor=\"start\" x=\"5020.8066\" y=\"-34.8\" font-family=\"Helvetica,sans-Serif\" font-size=\"14.00\" fill=\"#000000\">samples = 8003</text>\n",
       "<text text-anchor=\"start\" x=\"5010.6792\" y=\"-20.8\" font-family=\"Helvetica,sans-Serif\" font-size=\"14.00\" fill=\"#000000\">value = [295, 7708]</text>\n",
       "<text text-anchor=\"start\" x=\"5021.9756\" y=\"-6.8\" font-family=\"Helvetica,sans-Serif\" font-size=\"14.00\" fill=\"#000000\">class = delayed</text>\n",
       "</g>\n",
       "<!-- 60&#45;&gt;62 -->\n",
       "<g id=\"edge62\" class=\"edge\">\n",
       "<title>60&#45;&gt;62</title>\n",
       "<path fill=\"none\" stroke=\"#000000\" d=\"M4973.5246,-99.7647C4987.3675,-90.0838 5002.1717,-79.7305 5015.9365,-70.1042\"/>\n",
       "<polygon fill=\"#000000\" stroke=\"#000000\" points=\"5018.1658,-72.8161 5024.3548,-64.2169 5014.154,-67.0797 5018.1658,-72.8161\"/>\n",
       "</g>\n",
       "</g>\n",
       "</svg>\n"
      ],
      "text/plain": [
       "<graphviz.files.Source at 0x1140df278>"
      ]
     },
     "execution_count": 71,
     "metadata": {},
     "output_type": "execute_result"
    }
   ],
   "source": [
    "# source: http://scikit-learn.org/stable/modules/tree.html\n",
    "\n",
    "from sklearn import tree\n",
    "import graphviz \n",
    "\n",
    "dot_data = tree.export_graphviz(model2, out_file=None) \n",
    "graph = graphviz.Source(dot_data) \n",
    "\n",
    "dot_data = tree.export_graphviz(model2, out_file=None, \n",
    "                         feature_names=features,  \n",
    "                         class_names=['not_delayed', 'delayed'],  \n",
    "                         filled=True, rounded=True,  \n",
    "                         special_characters=True)  \n",
    "graph = graphviz.Source(dot_data)  \n",
    "graph "
   ]
  },
  {
   "cell_type": "markdown",
   "metadata": {},
   "source": [
    "Lastly I would like to thank you for reading the document to the end. Please let me know your thoughts!"
   ]
  },
  {
   "cell_type": "markdown",
   "metadata": {},
   "source": [
    "___"
   ]
  },
  {
   "cell_type": "markdown",
   "metadata": {},
   "source": [
    "## You may also like"
   ]
  },
  {
   "cell_type": "markdown",
   "metadata": {},
   "source": [
    "* [Codility's Problems](https://github.com/inesrosete/DataScience/blob/master/python_exercises.html)\n",
    "* [Titanic Exploration]() (Available soon)"
   ]
  },
  {
   "cell_type": "markdown",
   "metadata": {},
   "source": [
    "___"
   ]
  },
  {
   "cell_type": "markdown",
   "metadata": {},
   "source": [
    "## Acknowledgments"
   ]
  },
  {
   "cell_type": "markdown",
   "metadata": {},
   "source": [
    "I would like to thank Luís Silva and João Neto for the support and help they had during the execution of the first draft of this challenge between February and March 2018."
   ]
  },
  {
   "cell_type": "markdown",
   "metadata": {},
   "source": [
    "___\n",
    "[Inês Rosete](http://www.linkedin.com/in/inesrosete) | Last editing **June 2018 ** "
   ]
  }
 ],
 "metadata": {
  "kernelspec": {
   "display_name": "Python 3",
   "language": "python",
   "name": "python3"
  },
  "language_info": {
   "codemirror_mode": {
    "name": "ipython",
    "version": 3
   },
   "file_extension": ".py",
   "mimetype": "text/x-python",
   "name": "python",
   "nbconvert_exporter": "python",
   "pygments_lexer": "ipython3",
   "version": "3.6.3"
  },
  "toc": {
   "base_numbering": 1,
   "nav_menu": {},
   "number_sections": false,
   "sideBar": true,
   "skip_h1_title": true,
   "title_cell": "Table of Contents",
   "title_sidebar": "Contents",
   "toc_cell": true,
   "toc_position": {
    "height": "calc(100% - 180px)",
    "left": "10px",
    "top": "150px",
    "width": "253px"
   },
   "toc_section_display": true,
   "toc_window_display": false
  }
 },
 "nbformat": 4,
 "nbformat_minor": 2
}
